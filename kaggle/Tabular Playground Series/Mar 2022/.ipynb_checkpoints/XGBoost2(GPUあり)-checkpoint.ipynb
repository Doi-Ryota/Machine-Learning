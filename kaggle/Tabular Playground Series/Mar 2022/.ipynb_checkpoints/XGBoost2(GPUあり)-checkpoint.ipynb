{
 "cells": [
  {
   "cell_type": "code",
   "execution_count": 1,
   "metadata": {
    "_cell_guid": "b1076dfc-b9ad-4769-8c92-a6c4dae69d19",
    "_uuid": "8f2839f25d086af736a60e9eeb907d3b93b6e0e5",
    "execution": {
     "iopub.execute_input": "2022-04-21T04:52:46.145851Z",
     "iopub.status.busy": "2022-04-21T04:52:46.144963Z",
     "iopub.status.idle": "2022-04-21T04:52:47.536802Z",
     "shell.execute_reply": "2022-04-21T04:52:47.535709Z",
     "shell.execute_reply.started": "2022-04-21T04:52:46.145732Z"
    }
   },
   "outputs": [],
   "source": [
    "# NumPy\n",
    "import numpy as np\n",
    "\n",
    "# Dataframe operations\n",
    "import pandas as pd\n",
    "\n",
    "# XGBoost\n",
    "import xgboost as xgb\n",
    "\n",
    "# Data visualization\n",
    "import seaborn as sns\n",
    "import matplotlib.pyplot as plt\n",
    "\n",
    "# Scalers\n",
    "from sklearn.preprocessing import MinMaxScaler\n",
    "from sklearn.preprocessing import StandardScaler\n",
    "from sklearn.utils import shuffle\n",
    "\n",
    "#dataset\n",
    "from sklearn.datasets import load_boston\n",
    "\n",
    "# Models\n",
    "from sklearn.linear_model import LogisticRegression #logistic regression\n",
    "from sklearn.linear_model import Perceptron\n",
    "from sklearn import svm #support vector Machine\n",
    "from sklearn.ensemble import RandomForestClassifier #Random Forest\n",
    "from sklearn.neighbors import KNeighborsClassifier #KNN\n",
    "from sklearn.naive_bayes import GaussianNB #Naive bayes\n",
    "from sklearn.tree import DecisionTreeClassifier #Decision Tree\n",
    "from sklearn.model_selection import train_test_split #training and testing data split\n",
    "from sklearn import metrics #accuracy measure\n",
    "from sklearn.metrics import confusion_matrix #for confusion matrix\n",
    "from sklearn.metrics import log_loss\n",
    "from sklearn.metrics import accuracy_score\n",
    "from sklearn.metrics import mean_squared_error\n",
    "from sklearn.ensemble import VotingClassifier\n",
    "from sklearn.ensemble import AdaBoostClassifier\n",
    "from sklearn.neural_network import MLPClassifier\n",
    "\n",
    "# Cross-validation\n",
    "from sklearn.model_selection import KFold #for K-fold cross validation\n",
    "from sklearn.model_selection import cross_val_score #score evaluation\n",
    "from sklearn.model_selection import cross_val_predict #prediction\n",
    "from sklearn.model_selection import cross_validate\n",
    "from sklearn.model_selection import train_test_split\n",
    "\n",
    "# GridSearchCV\n",
    "from sklearn.model_selection import GridSearchCV\n",
    "\n",
    "#Common Model Algorithms\n",
    "from sklearn import svm, tree, linear_model, neighbors, naive_bayes, ensemble, discriminant_analysis, gaussian_process\n",
    "\n",
    "#Common Model Helpers\n",
    "from sklearn.preprocessing import OneHotEncoder, LabelEncoder\n",
    "from sklearn import feature_selection\n",
    "from sklearn import model_selection\n",
    "from sklearn import metrics\n",
    "\n",
    "#Visualization\n",
    "import matplotlib as mpl\n",
    "import matplotlib.pyplot as plt\n",
    "import matplotlib.pylab as pylab\n",
    "import seaborn as sns\n",
    "from pandas.plotting import scatter_matrix\n",
    "import warnings\n",
    "import math\n",
    "warnings.filterwarnings('ignore')"
   ]
  },
  {
   "cell_type": "code",
   "execution_count": 2,
   "metadata": {
    "execution": {
     "iopub.execute_input": "2022-04-21T04:52:49.262505Z",
     "iopub.status.busy": "2022-04-21T04:52:49.261837Z",
     "iopub.status.idle": "2022-04-21T04:52:50.631919Z",
     "shell.execute_reply": "2022-04-21T04:52:50.630412Z",
     "shell.execute_reply.started": "2022-04-21T04:52:49.262464Z"
    }
   },
   "outputs": [],
   "source": [
    "# CSVを読み込む\n",
    "test= pd.read_csv(\"../input/tabular-playground-series-mar-2022/test.csv\")\n",
    "train= pd.read_csv(\"../input/tabular-playground-series-mar-2022/train.csv\")\n",
    "\n",
    "# データの統合\n",
    "data = pd.concat([train, test], ignore_index = True)\n",
    "\n",
    "# 提出用に\n",
    "row_id = test[\"row_id\"]\n",
    "\n",
    "data[\"time\"] = data['time'].str[-8:-3]\n",
    "data"
   ]
  },
  {
   "cell_type": "code",
   "execution_count": 3,
   "metadata": {
    "execution": {
     "iopub.execute_input": "2022-04-21T04:52:51.994403Z",
     "iopub.status.busy": "2022-04-21T04:52:51.994132Z",
     "iopub.status.idle": "2022-04-21T04:52:52.626040Z",
     "shell.execute_reply": "2022-04-21T04:52:52.625232Z",
     "shell.execute_reply.started": "2022-04-21T04:52:51.994370Z"
    }
   },
   "outputs": [],
   "source": [
    "data1 = data[['time','x','y','direction','congestion']]\n",
    "data1_dummies=pd.get_dummies(data1)\n",
    "data1_dummies.head(3)"
   ]
  },
  {
   "cell_type": "code",
   "execution_count": 4,
   "metadata": {
    "execution": {
     "iopub.execute_input": "2022-04-21T04:52:53.644230Z",
     "iopub.status.busy": "2022-04-21T04:52:53.643774Z",
     "iopub.status.idle": "2022-04-21T04:52:53.801097Z",
     "shell.execute_reply": "2022-04-21T04:52:53.800398Z",
     "shell.execute_reply.started": "2022-04-21T04:52:53.644194Z"
    }
   },
   "outputs": [],
   "source": [
    "model_train = data1_dummies[:848835]\n",
    "model_test = data1_dummies[848835:]\n",
    "\n",
    "X = model_train.drop('congestion', axis=1)\n",
    "Y = pd.DataFrame(model_train['congestion'])\n",
    "x_test = model_test.drop('congestion', axis=1)"
   ]
  },
  {
   "cell_type": "code",
   "execution_count": 6,
   "metadata": {
    "execution": {
     "iopub.execute_input": "2022-04-21T04:53:37.576762Z",
     "iopub.status.busy": "2022-04-21T04:53:37.576272Z",
     "iopub.status.idle": "2022-04-21T04:54:44.197391Z",
     "shell.execute_reply": "2022-04-21T04:54:44.196643Z",
     "shell.execute_reply.started": "2022-04-21T04:53:37.576724Z"
    }
   },
   "outputs": [],
   "source": [
    "params = {'objective':'binary:logistic',\n",
    "          'max_depth':5,\n",
    "          'eta': 0.1, \n",
    "          'min_child_weight':1.0,\n",
    "          'gamma':0.0,\n",
    "          'colsample_bytree':0.8}\n",
    "\n",
    "num_round = 1000\n",
    "\n",
    "logloss = []\n",
    "accuracy = []\n",
    "\n",
    "kf = KFold(n_splits=4, shuffle=True, random_state=0)\n",
    "for train_index, valid_index in kf.split(X):\n",
    "    x_train, x_valid = X.iloc[train_index], X.iloc[valid_index] \n",
    "    y_train, y_valid = Y.iloc[train_index], Y.iloc[valid_index]\n",
    "    \n",
    "    dtrain = xgb.DMatrix(x_train, label=y_train)\n",
    "    dtest = xgb.DMatrix(x_valid, label=y_valid)\n",
    "    \n",
    "    xgb_params = {\n",
    "        # 回帰問題\n",
    "        'objective': 'reg:linear',\n",
    "        # 学習用の指標 (RMSE)\n",
    "        'eval_metric': 'rmse',\n",
    "        'tree_method':'gpu_hist'\n",
    "    }\n",
    "    evals = [(dtrain, 'train'), (dtest, 'eval')]\n",
    "    evals_result = {}\n",
    "    bst = xgb.train(xgb_params,\n",
    "                    dtrain,\n",
    "                    num_boost_round=50000,\n",
    "                    early_stopping_rounds=15,\n",
    "                    evals=evals,\n",
    "                    evals_result=evals_result,\n",
    "                    verbose_eval=200\n",
    "                    )\n",
    "\n",
    "    y_pred = bst.predict(dtest)\n",
    "    mse = mean_squared_error(y_valid, y_pred)\n",
    "    print('RMSE:', math.sqrt(mse))\n",
    "    \n",
    "    "
   ]
  },
  {
   "cell_type": "code",
   "execution_count": 8,
   "metadata": {
    "execution": {
     "iopub.execute_input": "2022-04-21T04:55:05.377520Z",
     "iopub.status.busy": "2022-04-21T04:55:05.377237Z",
     "iopub.status.idle": "2022-04-21T04:55:05.462430Z",
     "shell.execute_reply": "2022-04-21T04:55:05.461892Z",
     "shell.execute_reply.started": "2022-04-21T04:55:05.377488Z"
    }
   },
   "outputs": [],
   "source": [
    "#predictで予測\n",
    "dtest = xgb.DMatrix(x_test)\n",
    "y_pred = bst.predict(dtest)\n",
    "submission = pd.DataFrame({'row_id':test['row_id'], 'congestion':y_pred})\n",
    "submission.to_csv('submission2.csv', index=False)"
   ]
  }
 ],
 "metadata": {
  "kernelspec": {
   "display_name": "Python 3 (ipykernel)",
   "language": "python",
   "name": "python3"
  },
  "language_info": {
   "codemirror_mode": {
    "name": "ipython",
    "version": 3
   },
   "file_extension": ".py",
   "mimetype": "text/x-python",
   "name": "python",
   "nbconvert_exporter": "python",
   "pygments_lexer": "ipython3",
   "version": "3.9.7"
  }
 },
 "nbformat": 4,
 "nbformat_minor": 4
}
