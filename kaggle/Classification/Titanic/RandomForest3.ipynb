{
 "cells": [
  {
   "cell_type": "code",
   "execution_count": 1,
   "id": "fd2b4eff",
   "metadata": {},
   "outputs": [],
   "source": [
    "import pandas as pd\n",
    "import numpy as np\n",
    "import matplotlib.pyplot as plt\n",
    "import seaborn as sns\n",
    "from sklearn.ensemble import RandomForestRegressor\n",
    "from sklearn.pipeline import Pipeline,make_pipeline\n",
    "from sklearn.ensemble import RandomForestClassifier\n",
    "from sklearn.feature_selection import SelectKBest\n",
    "from sklearn import model_selection\n",
    "from sklearn.model_selection import GridSearchCV\n",
    "import warnings\n",
    "warnings.filterwarnings('ignore')"
   ]
  },
  {
   "cell_type": "code",
   "execution_count": 2,
   "id": "af396d80",
   "metadata": {},
   "outputs": [],
   "source": [
    "# CSVを読み込む\n",
    "train= pd.read_csv(\"train.csv\")\n",
    "test= pd.read_csv(\"test.csv\")\n",
    "\n",
    "# データの統合\n",
    "dataset = pd.concat([train, test], ignore_index = True)\n",
    "\n",
    "# 提出用に\n",
    "PassengerId = test['PassengerId']"
   ]
  },
  {
   "cell_type": "code",
   "execution_count": 3,
   "id": "82743646",
   "metadata": {},
   "outputs": [],
   "source": [
    "# 客室階層による生存率比較\n",
    "dataset['Cabin'] = dataset['Cabin'].fillna('Unknown') # 客室データが欠損している場合はUnknownを代入\n",
    "dataset['Deck']= dataset['Cabin'].str.get(0) #Cabin（部屋番号）の頭文字（０番目の文字）取得\n",
    "\n",
    "# チケットの文字数による生存率比較\n",
    "Ticket_Count = dict(dataset['Ticket'].value_counts()) # チケットの文字数でグループ分け\n",
    "dataset['TicketGroup'] = dataset['Ticket'].apply(lambda x:Ticket_Count[x]) # グループの振り分け\n",
    "\n",
    "# チケットの文字数での生存率が高いグループと低いグループの２つに分ける。\n",
    "# 高ければ２，低ければ１を代入\n",
    "def Ticket_Label(s):\n",
    "    if (s >= 2) & (s <= 4): # 文字数での生存率が高いグループ\n",
    "        return 2\n",
    "    elif ((s > 4) & (s <= 8)) | (s == 1): # 文字数での生存率が低いグループ\n",
    "        return 1\n",
    "    elif (s > 8):\n",
    "        return 0\n",
    "\n",
    "dataset['TicketGroup'] = dataset['TicketGroup'].apply(Ticket_Label)"
   ]
  },
  {
   "cell_type": "code",
   "execution_count": 5,
   "id": "d30503c3",
   "metadata": {},
   "outputs": [
    {
     "data": {
      "text/plain": [
       "'敬称一覧\\nMr：男 , Master：男の子, Jonkheer：オランダ貴族(男),\\nMlle：マドモワゼル (フランス未婚女性), Miss：未婚女性、女の子, Mme：マダム(フランス既婚女性), Ms：女性(未婚・既婚問わず), Mrs：既婚女性, \\nDon：男(スペイン), Sir：男(イギリス), the Countess：伯爵夫人, Dona：既婚女性(スペイン), Lady：既婚女性(イギリス),\\nCapt：船長, Col：大佐, Major：軍人, Dr：医者, Rev：聖職者や牧師\\n'"
      ]
     },
     "execution_count": 5,
     "metadata": {},
     "output_type": "execute_result"
    },
    {
     "data": {
      "image/png": "[encoded data removed]",
      "text/plain": [
       "<Figure size 432x288 with 1 Axes>"
      ]
     },
     "metadata": {
      "needs_background": "light"
     },
     "output_type": "display_data"
    }
   ],
   "source": [
    "# 'Honorifics'(敬称)による特徴別に分ける\n",
    "dataset['Honorifics'] = dataset['Name'].apply(lambda x:x.split(',')[1].split('.')[0].strip()) #敬称(','と'.'の間の単語)を抽出\n",
    "\n",
    "# 敬称をグループ分け\n",
    "# 例：'Capt', 'Col', 'Major', 'Dr', 'Rev'は'Officer'とする\n",
    "Honorifics_Dict = {}\n",
    "Honorifics_Dict.update(dict.fromkeys(['Capt', 'Col', 'Major', 'Dr', 'Rev'], 'Officer'))\n",
    "Honorifics_Dict.update(dict.fromkeys(['Don', 'Sir', 'the Countess', 'Dona', 'Lady'], 'Royalty'))\n",
    "Honorifics_Dict.update(dict.fromkeys(['Mme', 'Ms', 'Mrs'], 'Mrs'))\n",
    "Honorifics_Dict.update(dict.fromkeys(['Mlle', 'Miss'], 'Miss'))\n",
    "Honorifics_Dict.update(dict.fromkeys(['Mr'], 'Mr'))\n",
    "Honorifics_Dict.update(dict.fromkeys(['Master','Jonkheer'], 'Master'))\n",
    "dataset['Honorifics'] = dataset['Honorifics'].map(Honorifics_Dict)\n",
    "sns.barplot(x=\"Honorifics\", y=\"Survived\", data=dataset, palette='Set3')\n",
    "\n",
    "\"\"\"敬称一覧\n",
    "Mr：男 , Master：男の子, Jonkheer：オランダ貴族(男),\n",
    "Mlle：マドモワゼル (フランス未婚女性), Miss：未婚女性、女の子, Mme：マダム(フランス既婚女性), Ms：女性(未婚・既婚問わず), Mrs：既婚女性, \n",
    "Don：男(スペイン), Sir：男(イギリス), the Countess：伯爵夫人, Dona：既婚女性(スペイン), Lady：既婚女性(イギリス),\n",
    "Capt：船長, Col：大佐, Major：軍人, Dr：医者, Rev：聖職者や牧師\n",
    "\"\"\""
   ]
  },
  {
   "cell_type": "code",
   "execution_count": 7,
   "id": "0d9be12e",
   "metadata": {},
   "outputs": [
    {
     "data": {
      "text/html": [
       "<div>\n",
       "<style scoped>\n",
       "    .dataframe tbody tr th:only-of-type {\n",
       "        vertical-align: middle;\n",
       "    }\n",
       "\n",
       "    .dataframe tbody tr th {\n",
       "        vertical-align: top;\n",
       "    }\n",
       "\n",
       "    .dataframe thead th {\n",
       "        text-align: right;\n",
       "    }\n",
       "</style>\n",
       "<table border=\"1\" class=\"dataframe\">\n",
       "  <thead>\n",
       "    <tr style=\"text-align: right;\">\n",
       "      <th></th>\n",
       "      <th>Age</th>\n",
       "      <th>Pclass</th>\n",
       "      <th>Sex_female</th>\n",
       "      <th>Sex_male</th>\n",
       "      <th>Honorifics_Master</th>\n",
       "      <th>Honorifics_Miss</th>\n",
       "      <th>Honorifics_Mr</th>\n",
       "      <th>Honorifics_Mrs</th>\n",
       "      <th>Honorifics_Officer</th>\n",
       "      <th>Honorifics_Royalty</th>\n",
       "    </tr>\n",
       "  </thead>\n",
       "  <tbody>\n",
       "    <tr>\n",
       "      <th>0</th>\n",
       "      <td>22.0</td>\n",
       "      <td>3</td>\n",
       "      <td>0</td>\n",
       "      <td>1</td>\n",
       "      <td>0</td>\n",
       "      <td>0</td>\n",
       "      <td>1</td>\n",
       "      <td>0</td>\n",
       "      <td>0</td>\n",
       "      <td>0</td>\n",
       "    </tr>\n",
       "    <tr>\n",
       "      <th>1</th>\n",
       "      <td>38.0</td>\n",
       "      <td>1</td>\n",
       "      <td>1</td>\n",
       "      <td>0</td>\n",
       "      <td>0</td>\n",
       "      <td>0</td>\n",
       "      <td>0</td>\n",
       "      <td>1</td>\n",
       "      <td>0</td>\n",
       "      <td>0</td>\n",
       "    </tr>\n",
       "    <tr>\n",
       "      <th>2</th>\n",
       "      <td>26.0</td>\n",
       "      <td>3</td>\n",
       "      <td>1</td>\n",
       "      <td>0</td>\n",
       "      <td>0</td>\n",
       "      <td>1</td>\n",
       "      <td>0</td>\n",
       "      <td>0</td>\n",
       "      <td>0</td>\n",
       "      <td>0</td>\n",
       "    </tr>\n",
       "  </tbody>\n",
       "</table>\n",
       "</div>"
      ],
      "text/plain": [
       "    Age  Pclass  Sex_female  Sex_male  Honorifics_Master  Honorifics_Miss  \\\n",
       "0  22.0       3           0         1                  0                0   \n",
       "1  38.0       1           1         0                  0                0   \n",
       "2  26.0       3           1         0                  0                1   \n",
       "\n",
       "   Honorifics_Mr  Honorifics_Mrs  Honorifics_Officer  Honorifics_Royalty  \n",
       "0              1               0                   0                   0  \n",
       "1              0               1                   0                   0  \n",
       "2              0               0                   0                   0  "
      ]
     },
     "execution_count": 7,
     "metadata": {},
     "output_type": "execute_result"
    }
   ],
   "source": [
    "## 年齢の欠損値を予測して代入\n",
    "# 年齢予測のために使う項目を抽出し、ダミー変数を作成\n",
    "age = dataset[['Age','Pclass','Sex','Honorifics']]\n",
    "age_dummies = pd.get_dummies(age)\n",
    "age_dummies.head(3)"
   ]
  },
  {
   "cell_type": "code",
   "execution_count": 9,
   "id": "1430e7c8",
   "metadata": {},
   "outputs": [],
   "source": [
    "# ageが分かるものと欠損しているものに分ける\n",
    "known_age = age_dummies[age_dummies.Age.notnull()].values\n",
    "null_age = age_dummies[age_dummies.Age.isnull()].values\n",
    "\n",
    "# 特徴量と正解データに分ける\n",
    "age_X = known_age[:, 1:]\n",
    "age_y = known_age[:, 0]\n",
    "\n",
    "# 年齢予測モデルを作成し、予測した値を代入\n",
    "rf = RandomForestRegressor()\n",
    "rf.fit(age_X, age_y)\n",
    "pred_Age = rf.predict(null_age[:, 1:])\n",
    "dataset.loc[(dataset.Age.isnull()),'Age'] = pred_Age"
   ]
  },
  {
   "cell_type": "code",
   "execution_count": 10,
   "id": "16b51bf4",
   "metadata": {},
   "outputs": [
    {
     "data": {
      "text/html": [
       "<div>\n",
       "<style scoped>\n",
       "    .dataframe tbody tr th:only-of-type {\n",
       "        vertical-align: middle;\n",
       "    }\n",
       "\n",
       "    .dataframe tbody tr th {\n",
       "        vertical-align: top;\n",
       "    }\n",
       "\n",
       "    .dataframe thead th {\n",
       "        text-align: right;\n",
       "    }\n",
       "</style>\n",
       "<table border=\"1\" class=\"dataframe\">\n",
       "  <thead>\n",
       "    <tr style=\"text-align: right;\">\n",
       "      <th></th>\n",
       "      <th>PassengerId</th>\n",
       "      <th>Survived</th>\n",
       "      <th>Pclass</th>\n",
       "      <th>Name</th>\n",
       "      <th>Sex</th>\n",
       "      <th>Age</th>\n",
       "      <th>SibSp</th>\n",
       "      <th>Parch</th>\n",
       "      <th>Ticket</th>\n",
       "      <th>Fare</th>\n",
       "      <th>Cabin</th>\n",
       "      <th>Embarked</th>\n",
       "      <th>Deck</th>\n",
       "      <th>TicketGroup</th>\n",
       "      <th>Honorifics</th>\n",
       "    </tr>\n",
       "  </thead>\n",
       "  <tbody>\n",
       "    <tr>\n",
       "      <th>61</th>\n",
       "      <td>62</td>\n",
       "      <td>1.0</td>\n",
       "      <td>1</td>\n",
       "      <td>Icard, Miss. Amelie</td>\n",
       "      <td>female</td>\n",
       "      <td>38.0</td>\n",
       "      <td>0</td>\n",
       "      <td>0</td>\n",
       "      <td>113572</td>\n",
       "      <td>80.0</td>\n",
       "      <td>B28</td>\n",
       "      <td>NaN</td>\n",
       "      <td>B</td>\n",
       "      <td>2</td>\n",
       "      <td>Miss</td>\n",
       "    </tr>\n",
       "    <tr>\n",
       "      <th>829</th>\n",
       "      <td>830</td>\n",
       "      <td>1.0</td>\n",
       "      <td>1</td>\n",
       "      <td>Stone, Mrs. George Nelson (Martha Evelyn)</td>\n",
       "      <td>female</td>\n",
       "      <td>62.0</td>\n",
       "      <td>0</td>\n",
       "      <td>0</td>\n",
       "      <td>113572</td>\n",
       "      <td>80.0</td>\n",
       "      <td>B28</td>\n",
       "      <td>NaN</td>\n",
       "      <td>B</td>\n",
       "      <td>2</td>\n",
       "      <td>Mrs</td>\n",
       "    </tr>\n",
       "  </tbody>\n",
       "</table>\n",
       "</div>"
      ],
      "text/plain": [
       "     PassengerId  Survived  Pclass                                       Name  \\\n",
       "61            62       1.0       1                        Icard, Miss. Amelie   \n",
       "829          830       1.0       1  Stone, Mrs. George Nelson (Martha Evelyn)   \n",
       "\n",
       "        Sex   Age  SibSp  Parch  Ticket  Fare Cabin Embarked Deck  \\\n",
       "61   female  38.0      0      0  113572  80.0   B28      NaN    B   \n",
       "829  female  62.0      0      0  113572  80.0   B28      NaN    B   \n",
       "\n",
       "     TicketGroup Honorifics  \n",
       "61             2       Miss  \n",
       "829            2        Mrs  "
      ]
     },
     "execution_count": 10,
     "metadata": {},
     "output_type": "execute_result"
    }
   ],
   "source": [
    "# 'Embarked'(出港地)が欠損しているデータを表示\n",
    "dataset[dataset['Embarked'].isnull()]"
   ]
  },
  {
   "cell_type": "code",
   "execution_count": 11,
   "id": "d8f4ed89",
   "metadata": {},
   "outputs": [
    {
     "name": "stdout",
     "output_type": "stream",
     "text": [
      "Cの中央値 76.7292\n",
      "Sの中央値 52.0\n",
      "Qの中央値 90.0\n"
     ]
    }
   ],
   "source": [
    "# 'Pclass'(チケットクラス)が１の、'Embarked'(出港地)ごとの'Fare'(料金)中央値を表示\n",
    "C = dataset[(dataset['Embarked']=='C') & (dataset['Pclass'] == 1)]['Fare'].median()\n",
    "print(\"Cの中央値\", C)\n",
    "S = dataset[(dataset['Embarked']=='S') & (dataset['Pclass'] == 1)]['Fare'].median()\n",
    "print(\"Sの中央値\", S)\n",
    "Q = dataset[(dataset['Embarked']=='Q') & (dataset['Pclass'] == 1)]['Fare'].median()\n",
    "print(\"Qの中央値\", Q)\n",
    "\n",
    "# 'Embarked'の欠損値にCを代入\n",
    "dataset['Embarked'] = dataset['Embarked'].fillna('C')"
   ]
  },
  {
   "cell_type": "code",
   "execution_count": 12,
   "id": "d027e706",
   "metadata": {},
   "outputs": [
    {
     "data": {
      "text/plain": [
       "PassengerId      0\n",
       "Survived       418\n",
       "Pclass           0\n",
       "Name             0\n",
       "Sex              0\n",
       "Age              0\n",
       "SibSp            0\n",
       "Parch            0\n",
       "Ticket           0\n",
       "Fare             0\n",
       "Cabin            0\n",
       "Embarked         0\n",
       "Deck             0\n",
       "TicketGroup      0\n",
       "Honorifics       0\n",
       "dtype: int64"
      ]
     },
     "execution_count": 12,
     "metadata": {},
     "output_type": "execute_result"
    }
   ],
   "source": [
    "# 'Fare'(料金)が欠損しているデータを表示\n",
    "dataset[dataset['Fare'].isnull()]\n",
    "\n",
    "# 'Pclass'(チケットクラス)が3で、'Embarked'(出港地)が'S'の中央値を代入\n",
    "fare_median=dataset[(dataset['Embarked'] == \"S\") & (dataset['Pclass'] == 3)].Fare.median()\n",
    "dataset['Fare']=dataset['Fare'].fillna(fare_median)\n",
    "\n",
    "# 全体の欠損データの個数を確認\n",
    "dataset_null = dataset.fillna(np.nan)\n",
    "dataset_null.isnull().sum()"
   ]
  },
  {
   "cell_type": "code",
   "execution_count": 14,
   "id": "c8ecc30e",
   "metadata": {},
   "outputs": [
    {
     "data": {
      "text/plain": [
       "<AxesSubplot:xlabel='FamilyLabel', ylabel='Survived'>"
      ]
     },
     "execution_count": 14,
     "metadata": {},
     "output_type": "execute_result"
    },
    {
     "data": {
      "image/png": "[encoded data removed]",
      "text/plain": [
       "<Figure size 432x288 with 1 Axes>"
      ]
     },
     "metadata": {
      "needs_background": "light"
     },
     "output_type": "display_data"
    }
   ],
   "source": [
    "# 同乗している兄弟/配偶者の数による生存率比較\n",
    "sns.barplot(x=\"SibSp\", y=\"Survived\", data=train, palette='Set3')\n",
    "\n",
    "# 同乗している親/子供の数による生存率比較\n",
    "sns.barplot(x=\"Parch\", y=\"Survived\", data=train, palette='Set3')\n",
    "\n",
    "# 同乗している家族の数\n",
    "dataset['FamilySize']=dataset['SibSp']+dataset['Parch']+1\n",
    "sns.barplot(x=\"FamilySize\", y=\"Survived\", data=dataset, palette='Set3')\n",
    "\n",
    "# 家族数による生存率でグループ分け\n",
    "def Family_label(s):\n",
    "    if (s >= 2) & (s <= 4):\n",
    "        return 2\n",
    "    elif ((s > 4) & (s <= 7)) | (s == 1):\n",
    "        return 1\n",
    "    elif (s > 7):\n",
    "        return 0\n",
    "dataset['FamilyLabel']=dataset['FamilySize'].apply(Family_label)\n",
    "sns.barplot(x=\"FamilyLabel\", y=\"Survived\", data=dataset, palette='Set3')"
   ]
  },
  {
   "cell_type": "code",
   "execution_count": 15,
   "id": "4a37e08c",
   "metadata": {},
   "outputs": [
    {
     "data": {
      "text/html": [
       "<div>\n",
       "<style scoped>\n",
       "    .dataframe tbody tr th:only-of-type {\n",
       "        vertical-align: middle;\n",
       "    }\n",
       "\n",
       "    .dataframe tbody tr th {\n",
       "        vertical-align: top;\n",
       "    }\n",
       "\n",
       "    .dataframe thead th {\n",
       "        text-align: right;\n",
       "    }\n",
       "</style>\n",
       "<table border=\"1\" class=\"dataframe\">\n",
       "  <thead>\n",
       "    <tr style=\"text-align: right;\">\n",
       "      <th></th>\n",
       "      <th>GroupCount</th>\n",
       "    </tr>\n",
       "  </thead>\n",
       "  <tbody>\n",
       "    <tr>\n",
       "      <th>1.000000</th>\n",
       "      <td>115</td>\n",
       "    </tr>\n",
       "    <tr>\n",
       "      <th>0.000000</th>\n",
       "      <td>31</td>\n",
       "    </tr>\n",
       "    <tr>\n",
       "      <th>0.750000</th>\n",
       "      <td>2</td>\n",
       "    </tr>\n",
       "    <tr>\n",
       "      <th>0.333333</th>\n",
       "      <td>1</td>\n",
       "    </tr>\n",
       "    <tr>\n",
       "      <th>0.142857</th>\n",
       "      <td>1</td>\n",
       "    </tr>\n",
       "  </tbody>\n",
       "</table>\n",
       "</div>"
      ],
      "text/plain": [
       "          GroupCount\n",
       "1.000000         115\n",
       "0.000000          31\n",
       "0.750000           2\n",
       "0.333333           1\n",
       "0.142857           1"
      ]
     },
     "execution_count": 15,
     "metadata": {},
     "output_type": "execute_result"
    }
   ],
   "source": [
    "# 苗字による特徴を調べる\n",
    "dataset['Surname'] = dataset['Name'].apply(lambda x:x.split(',')[0].strip()) # 苗字(名前の\",\"の前の単語）を抽出\n",
    "Surname_Count = dict(dataset['Surname'].value_counts()) # 苗字の個数を数える\n",
    "dataset['Surname_Count'] = dataset['Surname'].apply(lambda x:Surname_Count[x]) # 苗字の個数を代入\n",
    "\n",
    "# 苗字にダブりがある人を、女・子供のグループと、大人で男性のグループに分ける\n",
    "Female_Child_Group=dataset.loc[(dataset['Surname_Count']>=2) & ((dataset['Age']<=12) | (dataset['Sex']=='female'))]\n",
    "Male_Adult_Group=dataset.loc[(dataset['Surname_Count']>=2) & (dataset['Age']>12) & (dataset['Sex']=='male')]\n",
    "\n",
    "# 女・子供グループにおける苗字ごとの生存率平均の個数を比較\n",
    "Female_Child_mean = Female_Child_Group.groupby('Surname')['Survived'].mean() # 苗字ごとの生存率平均\n",
    "Female_Child_mean_count = pd.DataFrame(Female_Child_mean.value_counts()) # 苗字ごとの生存率平均の数\n",
    "Female_Child_mean_count.columns=['GroupCount']\n",
    "Female_Child_mean_count"
   ]
  },
  {
   "cell_type": "code",
   "execution_count": 18,
   "id": "2d6c88e8",
   "metadata": {},
   "outputs": [
    {
     "data": {
      "text/html": [
       "<div>\n",
       "<style scoped>\n",
       "    .dataframe tbody tr th:only-of-type {\n",
       "        vertical-align: middle;\n",
       "    }\n",
       "\n",
       "    .dataframe tbody tr th {\n",
       "        vertical-align: top;\n",
       "    }\n",
       "\n",
       "    .dataframe thead th {\n",
       "        text-align: right;\n",
       "    }\n",
       "</style>\n",
       "<table border=\"1\" class=\"dataframe\">\n",
       "  <thead>\n",
       "    <tr style=\"text-align: right;\">\n",
       "      <th></th>\n",
       "      <th>GroupCount</th>\n",
       "    </tr>\n",
       "  </thead>\n",
       "  <tbody>\n",
       "    <tr>\n",
       "      <th>0.000000</th>\n",
       "      <td>122</td>\n",
       "    </tr>\n",
       "    <tr>\n",
       "      <th>1.000000</th>\n",
       "      <td>20</td>\n",
       "    </tr>\n",
       "    <tr>\n",
       "      <th>0.500000</th>\n",
       "      <td>6</td>\n",
       "    </tr>\n",
       "    <tr>\n",
       "      <th>0.333333</th>\n",
       "      <td>2</td>\n",
       "    </tr>\n",
       "    <tr>\n",
       "      <th>0.250000</th>\n",
       "      <td>1</td>\n",
       "    </tr>\n",
       "  </tbody>\n",
       "</table>\n",
       "</div>"
      ],
      "text/plain": [
       "          GroupCount\n",
       "0.000000         122\n",
       "1.000000          20\n",
       "0.500000           6\n",
       "0.333333           2\n",
       "0.250000           1"
      ]
     },
     "execution_count": 18,
     "metadata": {},
     "output_type": "execute_result"
    }
   ],
   "source": [
    "# 男（大人）グループにおける苗字ごとの生存率平均の個数を比較\n",
    "Male_Adult_mean = Male_Adult_Group.groupby('Surname')['Survived'].mean() # 苗字ごとの生存率平均\n",
    "Male_Adult_mean_count = pd.DataFrame(Male_Adult_mean.value_counts()) # 苗字ごとの生存率平均の数\n",
    "Male_Adult_mean_count.columns=['GroupCount']\n",
    "Male_Adult_mean_count"
   ]
  },
  {
   "cell_type": "code",
   "execution_count": 19,
   "id": "bf156542",
   "metadata": {},
   "outputs": [
    {
     "name": "stdout",
     "output_type": "stream",
     "text": [
      "Dead_List\n",
      "{'Robins', 'Olsson', 'Strom', 'Barbara', 'Danbom', 'Lobb', 'Vander Planke', 'Johnston', 'Panula', 'Rosblom', 'Caram', 'Cacic', 'Arnold-Franchi', 'Boulos', 'Lahtinen', 'Oreskovic', 'Bourke', 'Palsson', 'Lefebre', 'Ilmakangas', 'Jussila', 'Goodwin', 'Zabour', 'Canavan', 'Sage', 'Ford', 'Van Impe', 'Skoog', 'Rice', 'Attalah', 'Turpin'}\n",
      "Survived_List\n",
      "{'Duff Gordon', 'Frolicher-Stehli', 'Nakid', 'Beckwith', 'Bishop', 'Goldenberg', 'Daly', 'Harder', 'Frauenthal', 'Bradley', 'Taylor', 'Jonsson', 'Jussila', 'Cardeza', 'Dick', 'Beane', 'Kimball', 'Chambers', 'McCoy', 'Greenfield'}\n"
     ]
    }
   ],
   "source": [
    "# 各グループの例外を処理\n",
    "# 各グループの例外となる苗字を抽出\n",
    "# Dead_List：女・子供グループで全員死亡した苗字\n",
    "# Survived_List：男（大人）グループで全員死亡した苗字\n",
    "Dead_List = set(Female_Child_mean[Female_Child_mean.apply(lambda x:x==0)].index)\n",
    "print(\"Dead_List\", Dead_List, sep=\"\\n\")\n",
    "Survived_List = set(Male_Adult_mean[Male_Adult_mean.apply(lambda x:x==1)].index)\n",
    "print(\"Survived_List\", Survived_List, sep=\"\\n\")"
   ]
  },
  {
   "cell_type": "code",
   "execution_count": 23,
   "id": "a128570a",
   "metadata": {},
   "outputs": [],
   "source": [
    "# テストデータを書き換える\n",
    "# データをtrainとtestに分解 \n",
    "train = dataset.loc[dataset['Survived'].notnull()]\n",
    "test = dataset.loc[dataset['Survived'].isnull()]\n",
    "\n",
    "# 女・子供グループで全員死亡した苗字の人→６０歳の男性、敬称はMrに。\n",
    "# 男（大人）グループで全員生存した苗字の人→５才の女性、敬称はMissに。\n",
    "test.loc[(test['Surname'].apply(lambda x:x in Dead_List)),'Sex'] = 'male'\n",
    "test.loc[(test['Surname'].apply(lambda x:x in Dead_List)),'Age'] = 60\n",
    "test.loc[(test['Surname'].apply(lambda x:x in Dead_List)),'Title'] = 'Mr'\n",
    "test.loc[(test['Surname'].apply(lambda x:x in Survived_List)),'Sex'] = 'female'\n",
    "test.loc[(test['Surname'].apply(lambda x:x in Survived_List)),'Age'] = 5\n",
    "test.loc[(test['Surname'].apply(lambda x:x in Survived_List)),'Title'] = 'Miss'\n",
    "\n",
    "# 再びデータを結合\n",
    "dataset = pd.concat([train, test])"
   ]
  },
  {
   "cell_type": "code",
   "execution_count": 24,
   "id": "c041917e",
   "metadata": {},
   "outputs": [
    {
     "data": {
      "text/html": [
       "<div>\n",
       "<style scoped>\n",
       "    .dataframe tbody tr th:only-of-type {\n",
       "        vertical-align: middle;\n",
       "    }\n",
       "\n",
       "    .dataframe tbody tr th {\n",
       "        vertical-align: top;\n",
       "    }\n",
       "\n",
       "    .dataframe thead th {\n",
       "        text-align: right;\n",
       "    }\n",
       "</style>\n",
       "<table border=\"1\" class=\"dataframe\">\n",
       "  <thead>\n",
       "    <tr style=\"text-align: right;\">\n",
       "      <th></th>\n",
       "      <th>Survived</th>\n",
       "      <th>Pclass</th>\n",
       "      <th>Age</th>\n",
       "      <th>Fare</th>\n",
       "      <th>FamilyLabel</th>\n",
       "      <th>TicketGroup</th>\n",
       "      <th>Sex_female</th>\n",
       "      <th>Sex_male</th>\n",
       "      <th>Embarked_C</th>\n",
       "      <th>Embarked_Q</th>\n",
       "      <th>...</th>\n",
       "      <th>Honorifics_Royalty</th>\n",
       "      <th>Deck_A</th>\n",
       "      <th>Deck_B</th>\n",
       "      <th>Deck_C</th>\n",
       "      <th>Deck_D</th>\n",
       "      <th>Deck_E</th>\n",
       "      <th>Deck_F</th>\n",
       "      <th>Deck_G</th>\n",
       "      <th>Deck_T</th>\n",
       "      <th>Deck_U</th>\n",
       "    </tr>\n",
       "  </thead>\n",
       "  <tbody>\n",
       "    <tr>\n",
       "      <th>0</th>\n",
       "      <td>0.0</td>\n",
       "      <td>3</td>\n",
       "      <td>22.0</td>\n",
       "      <td>7.2500</td>\n",
       "      <td>2</td>\n",
       "      <td>1</td>\n",
       "      <td>0</td>\n",
       "      <td>1</td>\n",
       "      <td>0</td>\n",
       "      <td>0</td>\n",
       "      <td>...</td>\n",
       "      <td>0</td>\n",
       "      <td>0</td>\n",
       "      <td>0</td>\n",
       "      <td>0</td>\n",
       "      <td>0</td>\n",
       "      <td>0</td>\n",
       "      <td>0</td>\n",
       "      <td>0</td>\n",
       "      <td>0</td>\n",
       "      <td>1</td>\n",
       "    </tr>\n",
       "    <tr>\n",
       "      <th>1</th>\n",
       "      <td>1.0</td>\n",
       "      <td>1</td>\n",
       "      <td>38.0</td>\n",
       "      <td>71.2833</td>\n",
       "      <td>2</td>\n",
       "      <td>2</td>\n",
       "      <td>1</td>\n",
       "      <td>0</td>\n",
       "      <td>1</td>\n",
       "      <td>0</td>\n",
       "      <td>...</td>\n",
       "      <td>0</td>\n",
       "      <td>0</td>\n",
       "      <td>0</td>\n",
       "      <td>1</td>\n",
       "      <td>0</td>\n",
       "      <td>0</td>\n",
       "      <td>0</td>\n",
       "      <td>0</td>\n",
       "      <td>0</td>\n",
       "      <td>0</td>\n",
       "    </tr>\n",
       "    <tr>\n",
       "      <th>2</th>\n",
       "      <td>1.0</td>\n",
       "      <td>3</td>\n",
       "      <td>26.0</td>\n",
       "      <td>7.9250</td>\n",
       "      <td>1</td>\n",
       "      <td>1</td>\n",
       "      <td>1</td>\n",
       "      <td>0</td>\n",
       "      <td>0</td>\n",
       "      <td>0</td>\n",
       "      <td>...</td>\n",
       "      <td>0</td>\n",
       "      <td>0</td>\n",
       "      <td>0</td>\n",
       "      <td>0</td>\n",
       "      <td>0</td>\n",
       "      <td>0</td>\n",
       "      <td>0</td>\n",
       "      <td>0</td>\n",
       "      <td>0</td>\n",
       "      <td>1</td>\n",
       "    </tr>\n",
       "  </tbody>\n",
       "</table>\n",
       "<p>3 rows × 26 columns</p>\n",
       "</div>"
      ],
      "text/plain": [
       "   Survived  Pclass   Age     Fare  FamilyLabel  TicketGroup  Sex_female  \\\n",
       "0       0.0       3  22.0   7.2500            2            1           0   \n",
       "1       1.0       1  38.0  71.2833            2            2           1   \n",
       "2       1.0       3  26.0   7.9250            1            1           1   \n",
       "\n",
       "   Sex_male  Embarked_C  Embarked_Q  ...  Honorifics_Royalty  Deck_A  Deck_B  \\\n",
       "0         1           0           0  ...                   0       0       0   \n",
       "1         0           1           0  ...                   0       0       0   \n",
       "2         0           0           0  ...                   0       0       0   \n",
       "\n",
       "   Deck_C  Deck_D  Deck_E  Deck_F  Deck_G  Deck_T  Deck_U  \n",
       "0       0       0       0       0       0       0       1  \n",
       "1       1       0       0       0       0       0       0  \n",
       "2       0       0       0       0       0       0       1  \n",
       "\n",
       "[3 rows x 26 columns]"
      ]
     },
     "execution_count": 24,
     "metadata": {},
     "output_type": "execute_result"
    }
   ],
   "source": [
    "# 使用する変数を抽出\n",
    "dataset6 = dataset[['Survived','Pclass','Sex','Age','Fare','Embarked','Honorifics','FamilyLabel','Deck','TicketGroup']]\n",
    "# ダミー変数を作成\n",
    "dataset_dummies = pd.get_dummies(dataset6)\n",
    "dataset_dummies.head(3)"
   ]
  },
  {
   "cell_type": "code",
   "execution_count": 26,
   "id": "65663957",
   "metadata": {},
   "outputs": [
    {
     "name": "stdout",
     "output_type": "stream",
     "text": [
      "{'classify__max_depth': 9, 'classify__n_estimators': 28} 0.842896379525593\n"
     ]
    }
   ],
   "source": [
    "# データをtrainとtestに分解 \n",
    "#（ 'Survived'が存在するのがtrain, しないのがtest ）\n",
    "train_set = dataset_dummies[dataset_dummies['Survived'].notnull()]\n",
    "test_set = dataset_dummies[dataset_dummies['Survived'].isnull()]\n",
    "del test_set[\"Survived\"]\n",
    "\n",
    "# trainデータを変数と正解に分離\n",
    "X = train_set.values[:, 1:] # Pclass以降の変数\n",
    "y = train_set.values[:, 0] # 正解データ\n",
    "\n",
    "# 予測モデルの作成\n",
    "pipe = Pipeline([('classify', RandomForestClassifier(random_state = 10, max_features = 'sqrt'))])\n",
    "\n",
    "param_test = {'classify__n_estimators':list(range(20, 30, 1)), \n",
    "              'classify__max_depth':list(range(3, 10, 1))}\n",
    "gsearch = GridSearchCV(estimator = pipe, param_grid = param_test, scoring='accuracy', cv=10)\n",
    "gsearch.fit(X, y)\n",
    "print(gsearch.best_params_, gsearch.best_score_)\n",
    "\n",
    "# testデータの予測\n",
    "predictions = gsearch.predict(test_set)\n",
    "\n",
    "# Kaggle提出用csvファイルの作成\n",
    "submission = pd.DataFrame({\"PassengerId\": PassengerId, \"Survived\": predictions.astype(np.int32)})\n",
    "submission.to_csv(\"submission6.csv\", index=False)"
   ]
  },
  {
   "cell_type": "code",
   "execution_count": 27,
   "id": "c7f3ddc7",
   "metadata": {},
   "outputs": [
    {
     "name": "stdout",
     "output_type": "stream",
     "text": [
      "{'classify__max_depth': 6, 'classify__n_estimators': 26} 0.8462421972534331\n"
     ]
    }
   ],
   "source": [
    "pipe = Pipeline([('select',SelectKBest(k=20)),  # 予測に役立つ特徴量を２０個使ってモデルを作成\n",
    "               ('classify', RandomForestClassifier(random_state = 10, max_features = 'sqrt'))])\n",
    "\n",
    "param_test = {'classify__n_estimators':list(range(20, 30, 1)), \n",
    "              'classify__max_depth':list(range(3, 10, 1))}\n",
    "gsearch = GridSearchCV(estimator = pipe, param_grid = param_test, scoring='accuracy', cv=10)\n",
    "gsearch.fit(X, y)\n",
    "print(gsearch.best_params_, gsearch.best_score_)"
   ]
  },
  {
   "cell_type": "code",
   "execution_count": 28,
   "id": "dbc1bffd",
   "metadata": {},
   "outputs": [
    {
     "data": {
      "text/plain": [
       "Pipeline(steps=[('selectkbest', SelectKBest(k=20)),\n",
       "                ('randomforestclassifier',\n",
       "                 RandomForestClassifier(max_depth=6, max_features='sqrt',\n",
       "                                        n_estimators=26, random_state=10,\n",
       "                                        warm_start=True))])"
      ]
     },
     "execution_count": 28,
     "metadata": {},
     "output_type": "execute_result"
    }
   ],
   "source": [
    "select = SelectKBest(k = 20)\n",
    "clf = RandomForestClassifier(random_state = 10, warm_start = True, \n",
    "                                  n_estimators = 26,\n",
    "                                  max_depth = 6, \n",
    "                                  max_features = 'sqrt')\n",
    "pipeline = make_pipeline(select, clf)\n",
    "pipeline.fit(X, y)"
   ]
  },
  {
   "cell_type": "code",
   "execution_count": 29,
   "id": "28734bb9",
   "metadata": {},
   "outputs": [
    {
     "name": "stdout",
     "output_type": "stream",
     "text": [
      "CV Score : Mean - 0.8462422 | Std - 0.03623982 \n"
     ]
    }
   ],
   "source": [
    "# 与えられたmax_depthとn_estimatorsを利用して、特徴量を２０に絞って再度予測モデルを作成し、予測\n",
    "select = SelectKBest(k = 20)\n",
    "clf = RandomForestClassifier(random_state = 10,\n",
    "                             warm_start = True, \n",
    "                             n_estimators = 26,\n",
    "                             max_depth = 6, \n",
    "                             max_features = 'sqrt')\n",
    "pipeline = make_pipeline(select, clf)\n",
    "pipeline.fit(X, y)\n",
    "\n",
    "cv_score = model_selection.cross_val_score(pipeline, X, y, cv= 10)\n",
    "print(\"CV Score : Mean - %.7g | Std - %.7g \" % (np.mean(cv_score), np.std(cv_score)))\n",
    "\n",
    "# testデータの予測\n",
    "predictions = pipeline.predict(test_set)\n",
    "\n",
    "# Kaggle提出用csvファイルの作成\n",
    "submission = pd.DataFrame({\"PassengerId\": PassengerId, \"Survived\": predictions.astype(np.int32)})\n",
    "submission.to_csv(\"submission7.csv\", index=False)"
   ]
  },
  {
   "cell_type": "code",
   "execution_count": null,
   "id": "b609c7de",
   "metadata": {},
   "outputs": [],
   "source": []
  }
 ],
 "metadata": {
  "kernelspec": {
   "display_name": "Python 3 (ipykernel)",
   "language": "python",
   "name": "python3"
  },
  "language_info": {
   "codemirror_mode": {
    "name": "ipython",
    "version": 3
   },
   "file_extension": ".py",
   "mimetype": "text/x-python",
   "name": "python",
   "nbconvert_exporter": "python",
   "pygments_lexer": "ipython3",
   "version": "3.9.7"
  }
 },
 "nbformat": 4,
 "nbformat_minor": 5
}
