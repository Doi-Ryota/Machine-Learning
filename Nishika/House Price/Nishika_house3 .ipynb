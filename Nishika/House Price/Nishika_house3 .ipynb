{
  "cells": [
    {
      "cell_type": "code",
      "execution_count": 1,
      "metadata": {
        "colab": {
          "base_uri": "https://localhost:8080/"
        },
        "id": "6ezLlPzMJqjO",
        "outputId": "1984225e-f100-4b86-f8c5-292452ab4407"
      },
      "outputs": [
        {
          "name": "stdout",
          "output_type": "stream",
          "text": [
            "Looking in indexes: https://pypi.org/simple, https://us-python.pkg.dev/colab-wheels/public/simple/\n",
            "Requirement already satisfied: japanize_matplotlib in /usr/local/lib/python3.8/dist-packages (1.1.3)\n",
            "Requirement already satisfied: matplotlib in /usr/local/lib/python3.8/dist-packages (from japanize_matplotlib) (3.2.2)\n",
            "Requirement already satisfied: python-dateutil>=2.1 in /usr/local/lib/python3.8/dist-packages (from matplotlib->japanize_matplotlib) (2.8.2)\n",
            "Requirement already satisfied: kiwisolver>=1.0.1 in /usr/local/lib/python3.8/dist-packages (from matplotlib->japanize_matplotlib) (1.4.4)\n",
            "Requirement already satisfied: numpy>=1.11 in /usr/local/lib/python3.8/dist-packages (from matplotlib->japanize_matplotlib) (1.22.4)\n",
            "Requirement already satisfied: pyparsing!=2.0.4,!=2.1.2,!=2.1.6,>=2.0.1 in /usr/local/lib/python3.8/dist-packages (from matplotlib->japanize_matplotlib) (3.0.9)\n",
            "Requirement already satisfied: cycler>=0.10 in /usr/local/lib/python3.8/dist-packages (from matplotlib->japanize_matplotlib) (0.11.0)\n",
            "Requirement already satisfied: six>=1.5 in /usr/local/lib/python3.8/dist-packages (from python-dateutil>=2.1->matplotlib->japanize_matplotlib) (1.15.0)\n"
          ]
        }
      ],
      "source": [
        "!pip install japanize_matplotlib"
      ]
    },
    {
      "cell_type": "code",
      "execution_count": 2,
      "metadata": {
        "colab": {
          "base_uri": "https://localhost:8080/"
        },
        "id": "50ua4o7CdEVu",
        "outputId": "c0279969-a93a-44cb-ffa1-7083bb28019b"
      },
      "outputs": [
        {
          "name": "stdout",
          "output_type": "stream",
          "text": [
            "Looking in indexes: https://pypi.org/simple, https://us-python.pkg.dev/colab-wheels/public/simple/\n",
            "Requirement already satisfied: catboost in /usr/local/lib/python3.8/dist-packages (1.1.1)\n",
            "Requirement already satisfied: graphviz in /usr/local/lib/python3.8/dist-packages (from catboost) (0.10.1)\n",
            "Requirement already satisfied: pandas>=0.24.0 in /usr/local/lib/python3.8/dist-packages (from catboost) (1.3.5)\n",
            "Requirement already satisfied: plotly in /usr/local/lib/python3.8/dist-packages (from catboost) (5.5.0)\n",
            "Requirement already satisfied: matplotlib in /usr/local/lib/python3.8/dist-packages (from catboost) (3.2.2)\n",
            "Requirement already satisfied: six in /usr/local/lib/python3.8/dist-packages (from catboost) (1.15.0)\n",
            "Requirement already satisfied: numpy>=1.16.0 in /usr/local/lib/python3.8/dist-packages (from catboost) (1.22.4)\n",
            "Requirement already satisfied: scipy in /usr/local/lib/python3.8/dist-packages (from catboost) (1.7.3)\n",
            "Requirement already satisfied: python-dateutil>=2.7.3 in /usr/local/lib/python3.8/dist-packages (from pandas>=0.24.0->catboost) (2.8.2)\n",
            "Requirement already satisfied: pytz>=2017.3 in /usr/local/lib/python3.8/dist-packages (from pandas>=0.24.0->catboost) (2022.7.1)\n",
            "Requirement already satisfied: kiwisolver>=1.0.1 in /usr/local/lib/python3.8/dist-packages (from matplotlib->catboost) (1.4.4)\n",
            "Requirement already satisfied: cycler>=0.10 in /usr/local/lib/python3.8/dist-packages (from matplotlib->catboost) (0.11.0)\n",
            "Requirement already satisfied: pyparsing!=2.0.4,!=2.1.2,!=2.1.6,>=2.0.1 in /usr/local/lib/python3.8/dist-packages (from matplotlib->catboost) (3.0.9)\n",
            "Requirement already satisfied: tenacity>=6.2.0 in /usr/local/lib/python3.8/dist-packages (from plotly->catboost) (8.2.1)\n"
          ]
        }
      ],
      "source": [
        "!pip install catboost"
      ]
    },
    {
      "cell_type": "code",
      "execution_count": 3,
      "metadata": {
        "colab": {
          "base_uri": "https://localhost:8080/"
        },
        "id": "aWRUSfDUn5RG",
        "outputId": "8fa3d108-0afd-4a66-ced0-48022b04d671"
      },
      "outputs": [
        {
          "name": "stdout",
          "output_type": "stream",
          "text": [
            "Looking in indexes: https://pypi.org/simple, https://us-python.pkg.dev/colab-wheels/public/simple/\n",
            "Requirement already satisfied: optuna in /usr/local/lib/python3.8/dist-packages (3.1.0)\n",
            "Requirement already satisfied: sqlalchemy>=1.3.0 in /usr/local/lib/python3.8/dist-packages (from optuna) (1.4.46)\n",
            "Requirement already satisfied: cmaes>=0.9.1 in /usr/local/lib/python3.8/dist-packages (from optuna) (0.9.1)\n",
            "Requirement already satisfied: packaging>=20.0 in /usr/local/lib/python3.8/dist-packages (from optuna) (23.0)\n",
            "Requirement already satisfied: colorlog in /usr/local/lib/python3.8/dist-packages (from optuna) (6.7.0)\n",
            "Requirement already satisfied: PyYAML in /usr/local/lib/python3.8/dist-packages (from optuna) (6.0)\n",
            "Requirement already satisfied: alembic>=1.5.0 in /usr/local/lib/python3.8/dist-packages (from optuna) (1.9.4)\n",
            "Requirement already satisfied: numpy in /usr/local/lib/python3.8/dist-packages (from optuna) (1.22.4)\n",
            "Requirement already satisfied: tqdm in /usr/local/lib/python3.8/dist-packages (from optuna) (4.64.1)\n",
            "Requirement already satisfied: Mako in /usr/local/lib/python3.8/dist-packages (from alembic>=1.5.0->optuna) (1.2.4)\n",
            "Requirement already satisfied: importlib-metadata in /usr/local/lib/python3.8/dist-packages (from alembic>=1.5.0->optuna) (6.0.0)\n",
            "Requirement already satisfied: importlib-resources in /usr/local/lib/python3.8/dist-packages (from alembic>=1.5.0->optuna) (5.10.2)\n",
            "Requirement already satisfied: greenlet!=0.4.17 in /usr/local/lib/python3.8/dist-packages (from sqlalchemy>=1.3.0->optuna) (2.0.2)\n",
            "Requirement already satisfied: zipp>=0.5 in /usr/local/lib/python3.8/dist-packages (from importlib-metadata->alembic>=1.5.0->optuna) (3.13.0)\n",
            "Requirement already satisfied: MarkupSafe>=0.9.2 in /usr/local/lib/python3.8/dist-packages (from Mako->alembic>=1.5.0->optuna) (2.0.1)\n"
          ]
        }
      ],
      "source": [
        "!pip install optuna"
      ]
    },
    {
      "cell_type": "code",
      "execution_count": 4,
      "metadata": {
        "id": "yF8vfo-k7uZo"
      },
      "outputs": [],
      "source": [
        "%matplotlib inline\n",
        "import numpy as np\n",
        "import matplotlib.pyplot as plt\n",
        "import pandas as pd\n",
        "import seaborn as sns\n",
        "import japanize_matplotlib"
      ]
    },
    {
      "cell_type": "code",
      "execution_count": 5,
      "metadata": {
        "colab": {
          "base_uri": "https://localhost:8080/"
        },
        "id": "9lbfKi3X8AJ8",
        "outputId": "74f01dce-4827-43dd-f9f9-87f9bf282da3"
      },
      "outputs": [
        {
          "name": "stderr",
          "output_type": "stream",
          "text": [
            "/usr/local/lib/python3.8/dist-packages/IPython/core/interactiveshell.py:3326: DtypeWarning: Columns (10) have mixed types.Specify dtype option on import or set low_memory=False.\n",
            "  exec(code_obj, self.user_global_ns, self.user_ns)\n"
          ]
        }
      ],
      "source": [
        "train_dfs = []\n",
        "for i in range(47):\n",
        "    num = str(i+1).zfill(2)\n",
        "    train_dfs.append(pd.read_csv(num+\".csv\"))\n",
        "train_df = pd.concat(train_dfs)\n",
        "train_df.reset_index(drop=True, inplace=True)\n",
        "test_df = pd.read_csv(\"test.csv\")\n"
      ]
    },
    {
      "cell_type": "code",
      "execution_count": 6,
      "metadata": {
        "colab": {
          "base_uri": "https://localhost:8080/"
        },
        "id": "3j1Ve3V8AHuw",
        "outputId": "35abc6a9-0736-46f6-cde5-d13ea7f1bfff"
      },
      "outputs": [
        {
          "name": "stdout",
          "output_type": "stream",
          "text": [
            "<class 'pandas.core.frame.DataFrame'>\n",
            "RangeIndex: 751560 entries, 0 to 751559\n",
            "Data columns (total 28 columns):\n",
            " #   Column        Non-Null Count   Dtype  \n",
            "---  ------        --------------   -----  \n",
            " 0   ID            751560 non-null  int64  \n",
            " 1   種類            751560 non-null  object \n",
            " 2   地域            0 non-null       float64\n",
            " 3   市区町村コード       751560 non-null  int64  \n",
            " 4   都道府県名         751560 non-null  object \n",
            " 5   市区町村名         751560 non-null  object \n",
            " 6   地区名           750890 non-null  object \n",
            " 7   最寄駅：名称        748788 non-null  object \n",
            " 8   最寄駅：距離（分）     728362 non-null  object \n",
            " 9   間取り           724050 non-null  object \n",
            " 10  面積（㎡）         751560 non-null  object \n",
            " 11  土地の形状         0 non-null       float64\n",
            " 12  間口            0 non-null       float64\n",
            " 13  延床面積（㎡）       0 non-null       float64\n",
            " 14  建築年           729671 non-null  object \n",
            " 15  建物の構造         730717 non-null  object \n",
            " 16  用途            672943 non-null  object \n",
            " 17  今後の利用目的       384492 non-null  object \n",
            " 18  前面道路：方位       0 non-null       float64\n",
            " 19  前面道路：種類       0 non-null       float64\n",
            " 20  前面道路：幅員（ｍ）    0 non-null       float64\n",
            " 21  都市計画          731308 non-null  object \n",
            " 22  建ぺい率（％）       726811 non-null  float64\n",
            " 23  容積率（％）        726811 non-null  float64\n",
            " 24  取引時点          751560 non-null  object \n",
            " 25  改装            679417 non-null  object \n",
            " 26  取引の事情等        19152 non-null   object \n",
            " 27  取引価格（総額）_log  751560 non-null  float64\n",
            "dtypes: float64(10), int64(2), object(16)\n",
            "memory usage: 160.6+ MB\n"
          ]
        }
      ],
      "source": [
        "train_df.info()"
      ]
    },
    {
      "cell_type": "code",
      "execution_count": 7,
      "metadata": {
        "colab": {
          "base_uri": "https://localhost:8080/",
          "height": 991
        },
        "id": "wtAbnhGRAOBb",
        "outputId": "659f28bc-fd5c-4a91-c549-23d0841b7ff3"
      },
      "outputs": [
        {
          "data": {
            "text/html": [
              "\n",
              "  <div id=\"df-b46e3bab-523d-47f8-93b9-f484cf261b41\">\n",
              "    <div class=\"colab-df-container\">\n",
              "      <div>\n",
              "<style scoped>\n",
              "    .dataframe tbody tr th:only-of-type {\n",
              "        vertical-align: middle;\n",
              "    }\n",
              "\n",
              "    .dataframe tbody tr th {\n",
              "        vertical-align: top;\n",
              "    }\n",
              "\n",
              "    .dataframe thead th {\n",
              "        text-align: right;\n",
              "    }\n",
              "</style>\n",
              "<table border=\"1\" class=\"dataframe\">\n",
              "  <thead>\n",
              "    <tr style=\"text-align: right;\">\n",
              "      <th></th>\n",
              "      <th>ID</th>\n",
              "      <th>種類</th>\n",
              "      <th>市区町村コード</th>\n",
              "      <th>都道府県名</th>\n",
              "      <th>市区町村名</th>\n",
              "      <th>地区名</th>\n",
              "      <th>最寄駅：名称</th>\n",
              "      <th>最寄駅：距離（分）</th>\n",
              "      <th>間取り</th>\n",
              "      <th>面積（㎡）</th>\n",
              "      <th>...</th>\n",
              "      <th>建物の構造</th>\n",
              "      <th>用途</th>\n",
              "      <th>今後の利用目的</th>\n",
              "      <th>都市計画</th>\n",
              "      <th>建ぺい率（％）</th>\n",
              "      <th>容積率（％）</th>\n",
              "      <th>取引時点</th>\n",
              "      <th>改装</th>\n",
              "      <th>取引の事情等</th>\n",
              "      <th>取引価格（総額）_log</th>\n",
              "    </tr>\n",
              "  </thead>\n",
              "  <tbody>\n",
              "    <tr>\n",
              "      <th>0</th>\n",
              "      <td>1000057</td>\n",
              "      <td>中古マンション等</td>\n",
              "      <td>1101</td>\n",
              "      <td>北海道</td>\n",
              "      <td>札幌市中央区</td>\n",
              "      <td>大通西</td>\n",
              "      <td>大通</td>\n",
              "      <td>5</td>\n",
              "      <td>２ＬＤＫ</td>\n",
              "      <td>75</td>\n",
              "      <td>...</td>\n",
              "      <td>ＲＣ</td>\n",
              "      <td>NaN</td>\n",
              "      <td>住宅</td>\n",
              "      <td>商業地域</td>\n",
              "      <td>80.0</td>\n",
              "      <td>600.0</td>\n",
              "      <td>2022年第1四半期</td>\n",
              "      <td>改装済</td>\n",
              "      <td>NaN</td>\n",
              "      <td>NaN</td>\n",
              "    </tr>\n",
              "    <tr>\n",
              "      <th>1</th>\n",
              "      <td>1000077</td>\n",
              "      <td>中古マンション等</td>\n",
              "      <td>1101</td>\n",
              "      <td>北海道</td>\n",
              "      <td>札幌市中央区</td>\n",
              "      <td>大通西</td>\n",
              "      <td>西１１丁目</td>\n",
              "      <td>1</td>\n",
              "      <td>３ＬＤＫ</td>\n",
              "      <td>75</td>\n",
              "      <td>...</td>\n",
              "      <td>ＲＣ</td>\n",
              "      <td>NaN</td>\n",
              "      <td>その他</td>\n",
              "      <td>商業地域</td>\n",
              "      <td>80.0</td>\n",
              "      <td>600.0</td>\n",
              "      <td>2022年第2四半期</td>\n",
              "      <td>未改装</td>\n",
              "      <td>NaN</td>\n",
              "      <td>NaN</td>\n",
              "    </tr>\n",
              "    <tr>\n",
              "      <th>2</th>\n",
              "      <td>1000081</td>\n",
              "      <td>中古マンション等</td>\n",
              "      <td>1101</td>\n",
              "      <td>北海道</td>\n",
              "      <td>札幌市中央区</td>\n",
              "      <td>大通西</td>\n",
              "      <td>西１１丁目</td>\n",
              "      <td>3</td>\n",
              "      <td>２ＬＤＫ</td>\n",
              "      <td>75</td>\n",
              "      <td>...</td>\n",
              "      <td>ＲＣ</td>\n",
              "      <td>NaN</td>\n",
              "      <td>住宅</td>\n",
              "      <td>商業地域</td>\n",
              "      <td>80.0</td>\n",
              "      <td>600.0</td>\n",
              "      <td>2022年第2四半期</td>\n",
              "      <td>未改装</td>\n",
              "      <td>NaN</td>\n",
              "      <td>NaN</td>\n",
              "    </tr>\n",
              "    <tr>\n",
              "      <th>3</th>\n",
              "      <td>1000128</td>\n",
              "      <td>中古マンション等</td>\n",
              "      <td>1101</td>\n",
              "      <td>北海道</td>\n",
              "      <td>札幌市中央区</td>\n",
              "      <td>大通西</td>\n",
              "      <td>西１８丁目</td>\n",
              "      <td>3</td>\n",
              "      <td>２ＬＤＫ</td>\n",
              "      <td>50</td>\n",
              "      <td>...</td>\n",
              "      <td>ＲＣ</td>\n",
              "      <td>NaN</td>\n",
              "      <td>住宅</td>\n",
              "      <td>商業地域</td>\n",
              "      <td>80.0</td>\n",
              "      <td>400.0</td>\n",
              "      <td>2022年第2四半期</td>\n",
              "      <td>改装済</td>\n",
              "      <td>NaN</td>\n",
              "      <td>NaN</td>\n",
              "    </tr>\n",
              "    <tr>\n",
              "      <th>4</th>\n",
              "      <td>1000129</td>\n",
              "      <td>中古マンション等</td>\n",
              "      <td>1101</td>\n",
              "      <td>北海道</td>\n",
              "      <td>札幌市中央区</td>\n",
              "      <td>大通西</td>\n",
              "      <td>西１８丁目</td>\n",
              "      <td>0</td>\n",
              "      <td>１Ｒ</td>\n",
              "      <td>20</td>\n",
              "      <td>...</td>\n",
              "      <td>ＳＲＣ</td>\n",
              "      <td>NaN</td>\n",
              "      <td>住宅</td>\n",
              "      <td>商業地域</td>\n",
              "      <td>80.0</td>\n",
              "      <td>400.0</td>\n",
              "      <td>2022年第2四半期</td>\n",
              "      <td>未改装</td>\n",
              "      <td>NaN</td>\n",
              "      <td>NaN</td>\n",
              "    </tr>\n",
              "  </tbody>\n",
              "</table>\n",
              "<p>5 rows × 21 columns</p>\n",
              "</div>\n",
              "      <button class=\"colab-df-convert\" onclick=\"convertToInteractive('df-b46e3bab-523d-47f8-93b9-f484cf261b41')\"\n",
              "              title=\"Convert this dataframe to an interactive table.\"\n",
              "              style=\"display:none;\">\n",
              "        \n",
              "  <svg xmlns=\"http://www.w3.org/2000/svg\" height=\"24px\"viewBox=\"0 0 24 24\"\n",
              "       width=\"24px\">\n",
              "    <path d=\"M0 0h24v24H0V0z\" fill=\"none\"/>\n",
              "    <path d=\"M18.56 5.44l.94 2.06.94-2.06 2.06-.94-2.06-.94-.94-2.06-.94 2.06-2.06.94zm-11 1L8.5 8.5l.94-2.06 2.06-.94-2.06-.94L8.5 2.5l-.94 2.06-2.06.94zm10 10l.94 2.06.94-2.06 2.06-.94-2.06-.94-.94-2.06-.94 2.06-2.06.94z\"/><path d=\"M17.41 7.96l-1.37-1.37c-.4-.4-.92-.59-1.43-.59-.52 0-1.04.2-1.43.59L10.3 9.45l-7.72 7.72c-.78.78-.78 2.05 0 2.83L4 21.41c.39.39.9.59 1.41.59.51 0 1.02-.2 1.41-.59l7.78-7.78 2.81-2.81c.8-.78.8-2.07 0-2.86zM5.41 20L4 18.59l7.72-7.72 1.47 1.35L5.41 20z\"/>\n",
              "  </svg>\n",
              "      </button>\n",
              "      \n",
              "  <style>\n",
              "    .colab-df-container {\n",
              "      display:flex;\n",
              "      flex-wrap:wrap;\n",
              "      gap: 12px;\n",
              "    }\n",
              "\n",
              "    .colab-df-convert {\n",
              "      background-color: #E8F0FE;\n",
              "      border: none;\n",
              "      border-radius: 50%;\n",
              "      cursor: pointer;\n",
              "      display: none;\n",
              "      fill: #1967D2;\n",
              "      height: 32px;\n",
              "      padding: 0 0 0 0;\n",
              "      width: 32px;\n",
              "    }\n",
              "\n",
              "    .colab-df-convert:hover {\n",
              "      background-color: #E2EBFA;\n",
              "      box-shadow: 0px 1px 2px rgba(60, 64, 67, 0.3), 0px 1px 3px 1px rgba(60, 64, 67, 0.15);\n",
              "      fill: #174EA6;\n",
              "    }\n",
              "\n",
              "    [theme=dark] .colab-df-convert {\n",
              "      background-color: #3B4455;\n",
              "      fill: #D2E3FC;\n",
              "    }\n",
              "\n",
              "    [theme=dark] .colab-df-convert:hover {\n",
              "      background-color: #434B5C;\n",
              "      box-shadow: 0px 1px 3px 1px rgba(0, 0, 0, 0.15);\n",
              "      filter: drop-shadow(0px 1px 2px rgba(0, 0, 0, 0.3));\n",
              "      fill: #FFFFFF;\n",
              "    }\n",
              "  </style>\n",
              "\n",
              "      <script>\n",
              "        const buttonEl =\n",
              "          document.querySelector('#df-b46e3bab-523d-47f8-93b9-f484cf261b41 button.colab-df-convert');\n",
              "        buttonEl.style.display =\n",
              "          google.colab.kernel.accessAllowed ? 'block' : 'none';\n",
              "\n",
              "        async function convertToInteractive(key) {\n",
              "          const element = document.querySelector('#df-b46e3bab-523d-47f8-93b9-f484cf261b41');\n",
              "          const dataTable =\n",
              "            await google.colab.kernel.invokeFunction('convertToInteractive',\n",
              "                                                     [key], {});\n",
              "          if (!dataTable) return;\n",
              "\n",
              "          const docLinkHtml = 'Like what you see? Visit the ' +\n",
              "            '<a target=\"_blank\" href=https://colab.research.google.com/notebooks/data_table.ipynb>data table notebook</a>'\n",
              "            + ' to learn more about interactive tables.';\n",
              "          element.innerHTML = '';\n",
              "          dataTable['output_type'] = 'display_data';\n",
              "          await google.colab.output.renderOutput(dataTable, element);\n",
              "          const docLink = document.createElement('div');\n",
              "          docLink.innerHTML = docLinkHtml;\n",
              "          element.appendChild(docLink);\n",
              "        }\n",
              "      </script>\n",
              "    </div>\n",
              "  </div>\n",
              "  "
            ],
            "text/plain": [
              "        ID        種類  市区町村コード 都道府県名   市区町村名  地区名 最寄駅：名称 最寄駅：距離（分）   間取り 面積（㎡）  \\\n",
              "0  1000057  中古マンション等     1101   北海道  札幌市中央区  大通西     大通         5  ２ＬＤＫ    75   \n",
              "1  1000077  中古マンション等     1101   北海道  札幌市中央区  大通西  西１１丁目         1  ３ＬＤＫ    75   \n",
              "2  1000081  中古マンション等     1101   北海道  札幌市中央区  大通西  西１１丁目         3  ２ＬＤＫ    75   \n",
              "3  1000128  中古マンション等     1101   北海道  札幌市中央区  大通西  西１８丁目         3  ２ＬＤＫ    50   \n",
              "4  1000129  中古マンション等     1101   北海道  札幌市中央区  大通西  西１８丁目         0    １Ｒ    20   \n",
              "\n",
              "   ... 建物の構造   用途 今後の利用目的  都市計画 建ぺい率（％）  容積率（％）        取引時点   改装 取引の事情等  \\\n",
              "0  ...    ＲＣ  NaN      住宅  商業地域    80.0   600.0  2022年第1四半期  改装済    NaN   \n",
              "1  ...    ＲＣ  NaN     その他  商業地域    80.0   600.0  2022年第2四半期  未改装    NaN   \n",
              "2  ...    ＲＣ  NaN      住宅  商業地域    80.0   600.0  2022年第2四半期  未改装    NaN   \n",
              "3  ...    ＲＣ  NaN      住宅  商業地域    80.0   400.0  2022年第2四半期  改装済    NaN   \n",
              "4  ...   ＳＲＣ  NaN      住宅  商業地域    80.0   400.0  2022年第2四半期  未改装    NaN   \n",
              "\n",
              "  取引価格（総額）_log  \n",
              "0          NaN  \n",
              "1          NaN  \n",
              "2          NaN  \n",
              "3          NaN  \n",
              "4          NaN  \n",
              "\n",
              "[5 rows x 21 columns]"
            ]
          },
          "execution_count": 7,
          "metadata": {},
          "output_type": "execute_result"
        }
      ],
      "source": [
        "l = len(train_df)\n",
        "df = pd.concat([train_df,test_df])\n",
        "df.drop(['地域','土地の形状','間口','延床面積（㎡）','前面道路：方位','前面道路：種類','前面道路：幅員（ｍ）'], inplace=True,axis=1)\n",
        "train_df = df[:l]\n",
        "test_df = df[l:]\n",
        "test_df.head()"
      ]
    },
    {
      "cell_type": "code",
      "execution_count": 8,
      "metadata": {
        "colab": {
          "base_uri": "https://localhost:8080/",
          "height": 300
        },
        "id": "yrbgbhbgCPh7",
        "outputId": "2fea8d65-d29b-4998-c28c-c3198bc92c09"
      },
      "outputs": [
        {
          "data": {
            "text/html": [
              "\n",
              "  <div id=\"df-da5618f3-5066-438c-bd45-aef32cee8de8\">\n",
              "    <div class=\"colab-df-container\">\n",
              "      <div>\n",
              "<style scoped>\n",
              "    .dataframe tbody tr th:only-of-type {\n",
              "        vertical-align: middle;\n",
              "    }\n",
              "\n",
              "    .dataframe tbody tr th {\n",
              "        vertical-align: top;\n",
              "    }\n",
              "\n",
              "    .dataframe thead th {\n",
              "        text-align: right;\n",
              "    }\n",
              "</style>\n",
              "<table border=\"1\" class=\"dataframe\">\n",
              "  <thead>\n",
              "    <tr style=\"text-align: right;\">\n",
              "      <th></th>\n",
              "      <th>ID</th>\n",
              "      <th>市区町村コード</th>\n",
              "      <th>建ぺい率（％）</th>\n",
              "      <th>容積率（％）</th>\n",
              "      <th>取引価格（総額）_log</th>\n",
              "    </tr>\n",
              "  </thead>\n",
              "  <tbody>\n",
              "    <tr>\n",
              "      <th>count</th>\n",
              "      <td>7.515600e+05</td>\n",
              "      <td>751560.000000</td>\n",
              "      <td>726811.000000</td>\n",
              "      <td>726811.000000</td>\n",
              "      <td>751560.000000</td>\n",
              "    </tr>\n",
              "    <tr>\n",
              "      <th>mean</th>\n",
              "      <td>1.850737e+07</td>\n",
              "      <td>18525.018398</td>\n",
              "      <td>67.690528</td>\n",
              "      <td>302.820155</td>\n",
              "      <td>7.231624</td>\n",
              "    </tr>\n",
              "    <tr>\n",
              "      <th>std</th>\n",
              "      <td>9.562456e+06</td>\n",
              "      <td>9592.101003</td>\n",
              "      <td>10.415187</td>\n",
              "      <td>148.420827</td>\n",
              "      <td>0.356035</td>\n",
              "    </tr>\n",
              "    <tr>\n",
              "      <th>min</th>\n",
              "      <td>1.000007e+06</td>\n",
              "      <td>1101.000000</td>\n",
              "      <td>30.000000</td>\n",
              "      <td>50.000000</td>\n",
              "      <td>2.653213</td>\n",
              "    </tr>\n",
              "    <tr>\n",
              "      <th>25%</th>\n",
              "      <td>1.307699e+07</td>\n",
              "      <td>13107.000000</td>\n",
              "      <td>60.000000</td>\n",
              "      <td>200.000000</td>\n",
              "      <td>7.041393</td>\n",
              "    </tr>\n",
              "    <tr>\n",
              "      <th>50%</th>\n",
              "      <td>1.403367e+07</td>\n",
              "      <td>14104.000000</td>\n",
              "      <td>60.000000</td>\n",
              "      <td>200.000000</td>\n",
              "      <td>7.278754</td>\n",
              "    </tr>\n",
              "    <tr>\n",
              "      <th>75%</th>\n",
              "      <td>2.703655e+07</td>\n",
              "      <td>27114.000000</td>\n",
              "      <td>80.000000</td>\n",
              "      <td>400.000000</td>\n",
              "      <td>7.462398</td>\n",
              "    </tr>\n",
              "    <tr>\n",
              "      <th>max</th>\n",
              "      <td>4.703684e+07</td>\n",
              "      <td>47213.000000</td>\n",
              "      <td>80.000000</td>\n",
              "      <td>1300.000000</td>\n",
              "      <td>9.934498</td>\n",
              "    </tr>\n",
              "  </tbody>\n",
              "</table>\n",
              "</div>\n",
              "      <button class=\"colab-df-convert\" onclick=\"convertToInteractive('df-da5618f3-5066-438c-bd45-aef32cee8de8')\"\n",
              "              title=\"Convert this dataframe to an interactive table.\"\n",
              "              style=\"display:none;\">\n",
              "        \n",
              "  <svg xmlns=\"http://www.w3.org/2000/svg\" height=\"24px\"viewBox=\"0 0 24 24\"\n",
              "       width=\"24px\">\n",
              "    <path d=\"M0 0h24v24H0V0z\" fill=\"none\"/>\n",
              "    <path d=\"M18.56 5.44l.94 2.06.94-2.06 2.06-.94-2.06-.94-.94-2.06-.94 2.06-2.06.94zm-11 1L8.5 8.5l.94-2.06 2.06-.94-2.06-.94L8.5 2.5l-.94 2.06-2.06.94zm10 10l.94 2.06.94-2.06 2.06-.94-2.06-.94-.94-2.06-.94 2.06-2.06.94z\"/><path d=\"M17.41 7.96l-1.37-1.37c-.4-.4-.92-.59-1.43-.59-.52 0-1.04.2-1.43.59L10.3 9.45l-7.72 7.72c-.78.78-.78 2.05 0 2.83L4 21.41c.39.39.9.59 1.41.59.51 0 1.02-.2 1.41-.59l7.78-7.78 2.81-2.81c.8-.78.8-2.07 0-2.86zM5.41 20L4 18.59l7.72-7.72 1.47 1.35L5.41 20z\"/>\n",
              "  </svg>\n",
              "      </button>\n",
              "      \n",
              "  <style>\n",
              "    .colab-df-container {\n",
              "      display:flex;\n",
              "      flex-wrap:wrap;\n",
              "      gap: 12px;\n",
              "    }\n",
              "\n",
              "    .colab-df-convert {\n",
              "      background-color: #E8F0FE;\n",
              "      border: none;\n",
              "      border-radius: 50%;\n",
              "      cursor: pointer;\n",
              "      display: none;\n",
              "      fill: #1967D2;\n",
              "      height: 32px;\n",
              "      padding: 0 0 0 0;\n",
              "      width: 32px;\n",
              "    }\n",
              "\n",
              "    .colab-df-convert:hover {\n",
              "      background-color: #E2EBFA;\n",
              "      box-shadow: 0px 1px 2px rgba(60, 64, 67, 0.3), 0px 1px 3px 1px rgba(60, 64, 67, 0.15);\n",
              "      fill: #174EA6;\n",
              "    }\n",
              "\n",
              "    [theme=dark] .colab-df-convert {\n",
              "      background-color: #3B4455;\n",
              "      fill: #D2E3FC;\n",
              "    }\n",
              "\n",
              "    [theme=dark] .colab-df-convert:hover {\n",
              "      background-color: #434B5C;\n",
              "      box-shadow: 0px 1px 3px 1px rgba(0, 0, 0, 0.15);\n",
              "      filter: drop-shadow(0px 1px 2px rgba(0, 0, 0, 0.3));\n",
              "      fill: #FFFFFF;\n",
              "    }\n",
              "  </style>\n",
              "\n",
              "      <script>\n",
              "        const buttonEl =\n",
              "          document.querySelector('#df-da5618f3-5066-438c-bd45-aef32cee8de8 button.colab-df-convert');\n",
              "        buttonEl.style.display =\n",
              "          google.colab.kernel.accessAllowed ? 'block' : 'none';\n",
              "\n",
              "        async function convertToInteractive(key) {\n",
              "          const element = document.querySelector('#df-da5618f3-5066-438c-bd45-aef32cee8de8');\n",
              "          const dataTable =\n",
              "            await google.colab.kernel.invokeFunction('convertToInteractive',\n",
              "                                                     [key], {});\n",
              "          if (!dataTable) return;\n",
              "\n",
              "          const docLinkHtml = 'Like what you see? Visit the ' +\n",
              "            '<a target=\"_blank\" href=https://colab.research.google.com/notebooks/data_table.ipynb>data table notebook</a>'\n",
              "            + ' to learn more about interactive tables.';\n",
              "          element.innerHTML = '';\n",
              "          dataTable['output_type'] = 'display_data';\n",
              "          await google.colab.output.renderOutput(dataTable, element);\n",
              "          const docLink = document.createElement('div');\n",
              "          docLink.innerHTML = docLinkHtml;\n",
              "          element.appendChild(docLink);\n",
              "        }\n",
              "      </script>\n",
              "    </div>\n",
              "  </div>\n",
              "  "
            ],
            "text/plain": [
              "                 ID        市区町村コード        建ぺい率（％）         容積率（％）  \\\n",
              "count  7.515600e+05  751560.000000  726811.000000  726811.000000   \n",
              "mean   1.850737e+07   18525.018398      67.690528     302.820155   \n",
              "std    9.562456e+06    9592.101003      10.415187     148.420827   \n",
              "min    1.000007e+06    1101.000000      30.000000      50.000000   \n",
              "25%    1.307699e+07   13107.000000      60.000000     200.000000   \n",
              "50%    1.403367e+07   14104.000000      60.000000     200.000000   \n",
              "75%    2.703655e+07   27114.000000      80.000000     400.000000   \n",
              "max    4.703684e+07   47213.000000      80.000000    1300.000000   \n",
              "\n",
              "        取引価格（総額）_log  \n",
              "count  751560.000000  \n",
              "mean        7.231624  \n",
              "std         0.356035  \n",
              "min         2.653213  \n",
              "25%         7.041393  \n",
              "50%         7.278754  \n",
              "75%         7.462398  \n",
              "max         9.934498  "
            ]
          },
          "execution_count": 8,
          "metadata": {},
          "output_type": "execute_result"
        }
      ],
      "source": [
        "train_df.describe()"
      ]
    },
    {
      "cell_type": "code",
      "execution_count": 9,
      "metadata": {
        "colab": {
          "base_uri": "https://localhost:8080/",
          "height": 371
        },
        "id": "Kd01b0E4DFFB",
        "outputId": "ef108aa4-8bb3-4162-faf4-db3cf106f27f"
      },
      "outputs": [
        {
          "data": {
            "text/plain": [
              "(array([2.90000e+01, 9.00000e+00, 2.70000e+01, 3.30000e+02, 9.53000e+03,\n",
              "        1.70191e+05, 5.39049e+05, 3.20630e+04, 3.20000e+02, 1.20000e+01]),\n",
              " array([2.65321251, 3.38134111, 4.1094697 , 4.8375983 , 5.56572689,\n",
              "        6.29385548, 7.02198408, 7.75011267, 8.47824126, 9.20636986,\n",
              "        9.93449845]),\n",
              " <a list of 10 Patch objects>)"
            ]
          },
          "execution_count": 9,
          "metadata": {},
          "output_type": "execute_result"
        },
        {
          "data": {
            "image/png": "[encoded data removed]",
            "text/plain": [
              "<Figure size 432x288 with 1 Axes>"
            ]
          },
          "metadata": {
            "needs_background": "light"
          },
          "output_type": "display_data"
        }
      ],
      "source": [
        "\n",
        "plt.hist(train_df[\"取引価格（総額）_log\"])"
      ]
    },
    {
      "cell_type": "code",
      "execution_count": 10,
      "metadata": {
        "id": "1m9oU4FlF1L-"
      },
      "outputs": [],
      "source": [
        "l = len(train_df)\n",
        "df = pd.concat([train_df,test_df])\n",
        "df[\"面積（㎡）\"] = df[\"面積（㎡）\"].replace(\"2000㎡以上\",\"2000\")\n",
        "df[\"面積（㎡）\"] = df[\"面積（㎡）\"].astype(int)\n",
        "train_df = df[:l]\n",
        "test_df = df[l:]"
      ]
    },
    {
      "cell_type": "code",
      "execution_count": 11,
      "metadata": {
        "id": "zAZC4LsqHnAj"
      },
      "outputs": [],
      "source": [
        "import warnings\n",
        "warnings.simplefilter('ignore')"
      ]
    },
    {
      "cell_type": "code",
      "execution_count": 12,
      "metadata": {
        "colab": {
          "base_uri": "https://localhost:8080/",
          "height": 1000
        },
        "id": "-tITF_BdEmNq",
        "outputId": "28945f38-0f3d-4e9b-c06c-9f2eaaf854d8"
      },
      "outputs": [
        {
          "data": {
            "image/png": "[encoded data removed]",
            "text/plain": [
              "<Figure size 864x1080 with 24 Axes>"
            ]
          },
          "metadata": {
            "needs_background": "light"
          },
          "output_type": "display_data"
        }
      ],
      "source": [
        "ncols = 4\n",
        "nrows = np.ceil(len(train_df.columns)/ncols).astype(int)\n",
        "fig, axs = plt.subplots(ncols=ncols, nrows=nrows, figsize=(12,nrows*2.5))\n",
        "for c, ax in zip(train_df.columns, axs.flatten()):\n",
        "    sns.histplot(train_df, x=c, ax=ax)\n",
        "fig.suptitle('Distribution of all variables', fontsize=20)\n",
        "plt.tight_layout(rect=[0, 0, 1, 0.98])"
      ]
    },
    {
      "cell_type": "code",
      "execution_count": 13,
      "metadata": {
        "colab": {
          "base_uri": "https://localhost:8080/"
        },
        "id": "-ET9zPr0Fitl",
        "outputId": "f0e9a6b8-8802-4abc-d9ec-9bde13fa191f"
      },
      "outputs": [
        {
          "name": "stdout",
          "output_type": "stream",
          "text": [
            "Numerical:  6\n",
            "Categorical:  15\n"
          ]
        }
      ],
      "source": [
        "numerical_feats = train_df.dtypes[train_df.dtypes != \"object\"].index\n",
        "print(\"Numerical: \", len(numerical_feats))\n",
        "\n",
        "categorical_feats = train_df.dtypes[train_df.dtypes == \"object\"].index\n",
        "print(\"Categorical: \", len(categorical_feats))"
      ]
    },
    {
      "cell_type": "code",
      "execution_count": 14,
      "metadata": {
        "colab": {
          "base_uri": "https://localhost:8080/"
        },
        "id": "k_JEfwKjK5-7",
        "outputId": "32b603ad-9f56-48cd-f9c1-1aa2b34b36e7"
      },
      "outputs": [
        {
          "name": "stdout",
          "output_type": "stream",
          "text": [
            "Numerical: Index(['ID', '市区町村コード', '面積（㎡）', '建ぺい率（％）', '容積率（％）', '取引価格（総額）_log'], dtype='object')\n",
            "Caetgorical: Index(['種類', '都道府県名', '市区町村名', '地区名', '最寄駅：名称', '最寄駅：距離（分）', '間取り', '建築年',\n",
            "       '建物の構造', '用途', '今後の利用目的', '都市計画', '取引時点', '改装', '取引の事情等'],\n",
            "      dtype='object')\n"
          ]
        }
      ],
      "source": [
        "print(\"Numerical:\",numerical_feats)\n",
        "print(\"Caetgorical:\",categorical_feats)"
      ]
    },
    {
      "cell_type": "code",
      "execution_count": 15,
      "metadata": {
        "colab": {
          "base_uri": "https://localhost:8080/",
          "height": 488
        },
        "id": "AL_oWxB9NYgV",
        "outputId": "40042e8d-5b43-4daa-fb65-1d691ed11667"
      },
      "outputs": [
        {
          "data": {
            "text/html": [
              "\n",
              "  <div id=\"df-a77f9c83-12f9-448c-8d1e-9a302b2ae228\">\n",
              "    <div class=\"colab-df-container\">\n",
              "      <div>\n",
              "<style scoped>\n",
              "    .dataframe tbody tr th:only-of-type {\n",
              "        vertical-align: middle;\n",
              "    }\n",
              "\n",
              "    .dataframe tbody tr th {\n",
              "        vertical-align: top;\n",
              "    }\n",
              "\n",
              "    .dataframe thead th {\n",
              "        text-align: right;\n",
              "    }\n",
              "</style>\n",
              "<table border=\"1\" class=\"dataframe\">\n",
              "  <thead>\n",
              "    <tr style=\"text-align: right;\">\n",
              "      <th></th>\n",
              "      <th>Total</th>\n",
              "      <th>Percent</th>\n",
              "    </tr>\n",
              "  </thead>\n",
              "  <tbody>\n",
              "    <tr>\n",
              "      <th>取引の事情等</th>\n",
              "      <td>732408</td>\n",
              "      <td>0.974517</td>\n",
              "    </tr>\n",
              "    <tr>\n",
              "      <th>今後の利用目的</th>\n",
              "      <td>367068</td>\n",
              "      <td>0.488408</td>\n",
              "    </tr>\n",
              "    <tr>\n",
              "      <th>用途</th>\n",
              "      <td>78617</td>\n",
              "      <td>0.104605</td>\n",
              "    </tr>\n",
              "    <tr>\n",
              "      <th>改装</th>\n",
              "      <td>72143</td>\n",
              "      <td>0.095991</td>\n",
              "    </tr>\n",
              "    <tr>\n",
              "      <th>間取り</th>\n",
              "      <td>27510</td>\n",
              "      <td>0.036604</td>\n",
              "    </tr>\n",
              "    <tr>\n",
              "      <th>容積率（％）</th>\n",
              "      <td>24749</td>\n",
              "      <td>0.032930</td>\n",
              "    </tr>\n",
              "    <tr>\n",
              "      <th>建ぺい率（％）</th>\n",
              "      <td>24749</td>\n",
              "      <td>0.032930</td>\n",
              "    </tr>\n",
              "    <tr>\n",
              "      <th>最寄駅：距離（分）</th>\n",
              "      <td>23198</td>\n",
              "      <td>0.030866</td>\n",
              "    </tr>\n",
              "    <tr>\n",
              "      <th>建築年</th>\n",
              "      <td>21889</td>\n",
              "      <td>0.029125</td>\n",
              "    </tr>\n",
              "    <tr>\n",
              "      <th>建物の構造</th>\n",
              "      <td>20843</td>\n",
              "      <td>0.027733</td>\n",
              "    </tr>\n",
              "    <tr>\n",
              "      <th>都市計画</th>\n",
              "      <td>20252</td>\n",
              "      <td>0.026947</td>\n",
              "    </tr>\n",
              "    <tr>\n",
              "      <th>最寄駅：名称</th>\n",
              "      <td>2772</td>\n",
              "      <td>0.003688</td>\n",
              "    </tr>\n",
              "    <tr>\n",
              "      <th>地区名</th>\n",
              "      <td>670</td>\n",
              "      <td>0.000891</td>\n",
              "    </tr>\n",
              "    <tr>\n",
              "      <th>取引時点</th>\n",
              "      <td>0</td>\n",
              "      <td>0.000000</td>\n",
              "    </tr>\n",
              "  </tbody>\n",
              "</table>\n",
              "</div>\n",
              "      <button class=\"colab-df-convert\" onclick=\"convertToInteractive('df-a77f9c83-12f9-448c-8d1e-9a302b2ae228')\"\n",
              "              title=\"Convert this dataframe to an interactive table.\"\n",
              "              style=\"display:none;\">\n",
              "        \n",
              "  <svg xmlns=\"http://www.w3.org/2000/svg\" height=\"24px\"viewBox=\"0 0 24 24\"\n",
              "       width=\"24px\">\n",
              "    <path d=\"M0 0h24v24H0V0z\" fill=\"none\"/>\n",
              "    <path d=\"M18.56 5.44l.94 2.06.94-2.06 2.06-.94-2.06-.94-.94-2.06-.94 2.06-2.06.94zm-11 1L8.5 8.5l.94-2.06 2.06-.94-2.06-.94L8.5 2.5l-.94 2.06-2.06.94zm10 10l.94 2.06.94-2.06 2.06-.94-2.06-.94-.94-2.06-.94 2.06-2.06.94z\"/><path d=\"M17.41 7.96l-1.37-1.37c-.4-.4-.92-.59-1.43-.59-.52 0-1.04.2-1.43.59L10.3 9.45l-7.72 7.72c-.78.78-.78 2.05 0 2.83L4 21.41c.39.39.9.59 1.41.59.51 0 1.02-.2 1.41-.59l7.78-7.78 2.81-2.81c.8-.78.8-2.07 0-2.86zM5.41 20L4 18.59l7.72-7.72 1.47 1.35L5.41 20z\"/>\n",
              "  </svg>\n",
              "      </button>\n",
              "      \n",
              "  <style>\n",
              "    .colab-df-container {\n",
              "      display:flex;\n",
              "      flex-wrap:wrap;\n",
              "      gap: 12px;\n",
              "    }\n",
              "\n",
              "    .colab-df-convert {\n",
              "      background-color: #E8F0FE;\n",
              "      border: none;\n",
              "      border-radius: 50%;\n",
              "      cursor: pointer;\n",
              "      display: none;\n",
              "      fill: #1967D2;\n",
              "      height: 32px;\n",
              "      padding: 0 0 0 0;\n",
              "      width: 32px;\n",
              "    }\n",
              "\n",
              "    .colab-df-convert:hover {\n",
              "      background-color: #E2EBFA;\n",
              "      box-shadow: 0px 1px 2px rgba(60, 64, 67, 0.3), 0px 1px 3px 1px rgba(60, 64, 67, 0.15);\n",
              "      fill: #174EA6;\n",
              "    }\n",
              "\n",
              "    [theme=dark] .colab-df-convert {\n",
              "      background-color: #3B4455;\n",
              "      fill: #D2E3FC;\n",
              "    }\n",
              "\n",
              "    [theme=dark] .colab-df-convert:hover {\n",
              "      background-color: #434B5C;\n",
              "      box-shadow: 0px 1px 3px 1px rgba(0, 0, 0, 0.15);\n",
              "      filter: drop-shadow(0px 1px 2px rgba(0, 0, 0, 0.3));\n",
              "      fill: #FFFFFF;\n",
              "    }\n",
              "  </style>\n",
              "\n",
              "      <script>\n",
              "        const buttonEl =\n",
              "          document.querySelector('#df-a77f9c83-12f9-448c-8d1e-9a302b2ae228 button.colab-df-convert');\n",
              "        buttonEl.style.display =\n",
              "          google.colab.kernel.accessAllowed ? 'block' : 'none';\n",
              "\n",
              "        async function convertToInteractive(key) {\n",
              "          const element = document.querySelector('#df-a77f9c83-12f9-448c-8d1e-9a302b2ae228');\n",
              "          const dataTable =\n",
              "            await google.colab.kernel.invokeFunction('convertToInteractive',\n",
              "                                                     [key], {});\n",
              "          if (!dataTable) return;\n",
              "\n",
              "          const docLinkHtml = 'Like what you see? Visit the ' +\n",
              "            '<a target=\"_blank\" href=https://colab.research.google.com/notebooks/data_table.ipynb>data table notebook</a>'\n",
              "            + ' to learn more about interactive tables.';\n",
              "          element.innerHTML = '';\n",
              "          dataTable['output_type'] = 'display_data';\n",
              "          await google.colab.output.renderOutput(dataTable, element);\n",
              "          const docLink = document.createElement('div');\n",
              "          docLink.innerHTML = docLinkHtml;\n",
              "          element.appendChild(docLink);\n",
              "        }\n",
              "      </script>\n",
              "    </div>\n",
              "  </div>\n",
              "  "
            ],
            "text/plain": [
              "            Total   Percent\n",
              "取引の事情等     732408  0.974517\n",
              "今後の利用目的    367068  0.488408\n",
              "用途          78617  0.104605\n",
              "改装          72143  0.095991\n",
              "間取り         27510  0.036604\n",
              "容積率（％）      24749  0.032930\n",
              "建ぺい率（％）     24749  0.032930\n",
              "最寄駅：距離（分）   23198  0.030866\n",
              "建築年         21889  0.029125\n",
              "建物の構造       20843  0.027733\n",
              "都市計画        20252  0.026947\n",
              "最寄駅：名称       2772  0.003688\n",
              "地区名           670  0.000891\n",
              "取引時点            0  0.000000"
            ]
          },
          "execution_count": 15,
          "metadata": {},
          "output_type": "execute_result"
        }
      ],
      "source": [
        "total = train_df.isnull().sum().sort_values(ascending=False)\n",
        "percent = (train_df.isnull().sum()/train_df.isnull().count()).sort_values(ascending=False)\n",
        "missing_data = pd.concat([total, percent], axis=1, keys=['Total', 'Percent'])\n",
        "missing_data.head(14)"
      ]
    },
    {
      "cell_type": "code",
      "execution_count": 16,
      "metadata": {
        "id": "0cdxeDQ8PYTf"
      },
      "outputs": [],
      "source": [
        "cols_fillna = [\"今後の利用目的\",\"改装\",\"間取り\",\"都市計画\",'建物の構造']\n",
        "for col in cols_fillna:\n",
        "        train_df[col].fillna('None',inplace=True)\n",
        "        test_df[col].fillna('None',inplace=True)"
      ]
    },
    {
      "cell_type": "code",
      "execution_count": 17,
      "metadata": {
        "colab": {
          "base_uri": "https://localhost:8080/",
          "height": 488
        },
        "id": "yIlmT1ez5V0D",
        "outputId": "a4ff1385-aaf6-4cbc-e75d-73be6602b309"
      },
      "outputs": [
        {
          "data": {
            "text/html": [
              "\n",
              "  <div id=\"df-6fe14e10-9129-47de-b114-e5a9087f2edf\">\n",
              "    <div class=\"colab-df-container\">\n",
              "      <div>\n",
              "<style scoped>\n",
              "    .dataframe tbody tr th:only-of-type {\n",
              "        vertical-align: middle;\n",
              "    }\n",
              "\n",
              "    .dataframe tbody tr th {\n",
              "        vertical-align: top;\n",
              "    }\n",
              "\n",
              "    .dataframe thead th {\n",
              "        text-align: right;\n",
              "    }\n",
              "</style>\n",
              "<table border=\"1\" class=\"dataframe\">\n",
              "  <thead>\n",
              "    <tr style=\"text-align: right;\">\n",
              "      <th></th>\n",
              "      <th>Total</th>\n",
              "      <th>Percent</th>\n",
              "    </tr>\n",
              "  </thead>\n",
              "  <tbody>\n",
              "    <tr>\n",
              "      <th>取引の事情等</th>\n",
              "      <td>732408</td>\n",
              "      <td>0.974517</td>\n",
              "    </tr>\n",
              "    <tr>\n",
              "      <th>用途</th>\n",
              "      <td>78617</td>\n",
              "      <td>0.104605</td>\n",
              "    </tr>\n",
              "    <tr>\n",
              "      <th>容積率（％）</th>\n",
              "      <td>24749</td>\n",
              "      <td>0.032930</td>\n",
              "    </tr>\n",
              "    <tr>\n",
              "      <th>建ぺい率（％）</th>\n",
              "      <td>24749</td>\n",
              "      <td>0.032930</td>\n",
              "    </tr>\n",
              "    <tr>\n",
              "      <th>最寄駅：距離（分）</th>\n",
              "      <td>23198</td>\n",
              "      <td>0.030866</td>\n",
              "    </tr>\n",
              "    <tr>\n",
              "      <th>建築年</th>\n",
              "      <td>21889</td>\n",
              "      <td>0.029125</td>\n",
              "    </tr>\n",
              "    <tr>\n",
              "      <th>最寄駅：名称</th>\n",
              "      <td>2772</td>\n",
              "      <td>0.003688</td>\n",
              "    </tr>\n",
              "    <tr>\n",
              "      <th>地区名</th>\n",
              "      <td>670</td>\n",
              "      <td>0.000891</td>\n",
              "    </tr>\n",
              "    <tr>\n",
              "      <th>改装</th>\n",
              "      <td>0</td>\n",
              "      <td>0.000000</td>\n",
              "    </tr>\n",
              "    <tr>\n",
              "      <th>取引時点</th>\n",
              "      <td>0</td>\n",
              "      <td>0.000000</td>\n",
              "    </tr>\n",
              "    <tr>\n",
              "      <th>都市計画</th>\n",
              "      <td>0</td>\n",
              "      <td>0.000000</td>\n",
              "    </tr>\n",
              "    <tr>\n",
              "      <th>今後の利用目的</th>\n",
              "      <td>0</td>\n",
              "      <td>0.000000</td>\n",
              "    </tr>\n",
              "    <tr>\n",
              "      <th>ID</th>\n",
              "      <td>0</td>\n",
              "      <td>0.000000</td>\n",
              "    </tr>\n",
              "    <tr>\n",
              "      <th>建物の構造</th>\n",
              "      <td>0</td>\n",
              "      <td>0.000000</td>\n",
              "    </tr>\n",
              "  </tbody>\n",
              "</table>\n",
              "</div>\n",
              "      <button class=\"colab-df-convert\" onclick=\"convertToInteractive('df-6fe14e10-9129-47de-b114-e5a9087f2edf')\"\n",
              "              title=\"Convert this dataframe to an interactive table.\"\n",
              "              style=\"display:none;\">\n",
              "        \n",
              "  <svg xmlns=\"http://www.w3.org/2000/svg\" height=\"24px\"viewBox=\"0 0 24 24\"\n",
              "       width=\"24px\">\n",
              "    <path d=\"M0 0h24v24H0V0z\" fill=\"none\"/>\n",
              "    <path d=\"M18.56 5.44l.94 2.06.94-2.06 2.06-.94-2.06-.94-.94-2.06-.94 2.06-2.06.94zm-11 1L8.5 8.5l.94-2.06 2.06-.94-2.06-.94L8.5 2.5l-.94 2.06-2.06.94zm10 10l.94 2.06.94-2.06 2.06-.94-2.06-.94-.94-2.06-.94 2.06-2.06.94z\"/><path d=\"M17.41 7.96l-1.37-1.37c-.4-.4-.92-.59-1.43-.59-.52 0-1.04.2-1.43.59L10.3 9.45l-7.72 7.72c-.78.78-.78 2.05 0 2.83L4 21.41c.39.39.9.59 1.41.59.51 0 1.02-.2 1.41-.59l7.78-7.78 2.81-2.81c.8-.78.8-2.07 0-2.86zM5.41 20L4 18.59l7.72-7.72 1.47 1.35L5.41 20z\"/>\n",
              "  </svg>\n",
              "      </button>\n",
              "      \n",
              "  <style>\n",
              "    .colab-df-container {\n",
              "      display:flex;\n",
              "      flex-wrap:wrap;\n",
              "      gap: 12px;\n",
              "    }\n",
              "\n",
              "    .colab-df-convert {\n",
              "      background-color: #E8F0FE;\n",
              "      border: none;\n",
              "      border-radius: 50%;\n",
              "      cursor: pointer;\n",
              "      display: none;\n",
              "      fill: #1967D2;\n",
              "      height: 32px;\n",
              "      padding: 0 0 0 0;\n",
              "      width: 32px;\n",
              "    }\n",
              "\n",
              "    .colab-df-convert:hover {\n",
              "      background-color: #E2EBFA;\n",
              "      box-shadow: 0px 1px 2px rgba(60, 64, 67, 0.3), 0px 1px 3px 1px rgba(60, 64, 67, 0.15);\n",
              "      fill: #174EA6;\n",
              "    }\n",
              "\n",
              "    [theme=dark] .colab-df-convert {\n",
              "      background-color: #3B4455;\n",
              "      fill: #D2E3FC;\n",
              "    }\n",
              "\n",
              "    [theme=dark] .colab-df-convert:hover {\n",
              "      background-color: #434B5C;\n",
              "      box-shadow: 0px 1px 3px 1px rgba(0, 0, 0, 0.15);\n",
              "      filter: drop-shadow(0px 1px 2px rgba(0, 0, 0, 0.3));\n",
              "      fill: #FFFFFF;\n",
              "    }\n",
              "  </style>\n",
              "\n",
              "      <script>\n",
              "        const buttonEl =\n",
              "          document.querySelector('#df-6fe14e10-9129-47de-b114-e5a9087f2edf button.colab-df-convert');\n",
              "        buttonEl.style.display =\n",
              "          google.colab.kernel.accessAllowed ? 'block' : 'none';\n",
              "\n",
              "        async function convertToInteractive(key) {\n",
              "          const element = document.querySelector('#df-6fe14e10-9129-47de-b114-e5a9087f2edf');\n",
              "          const dataTable =\n",
              "            await google.colab.kernel.invokeFunction('convertToInteractive',\n",
              "                                                     [key], {});\n",
              "          if (!dataTable) return;\n",
              "\n",
              "          const docLinkHtml = 'Like what you see? Visit the ' +\n",
              "            '<a target=\"_blank\" href=https://colab.research.google.com/notebooks/data_table.ipynb>data table notebook</a>'\n",
              "            + ' to learn more about interactive tables.';\n",
              "          element.innerHTML = '';\n",
              "          dataTable['output_type'] = 'display_data';\n",
              "          await google.colab.output.renderOutput(dataTable, element);\n",
              "          const docLink = document.createElement('div');\n",
              "          docLink.innerHTML = docLinkHtml;\n",
              "          element.appendChild(docLink);\n",
              "        }\n",
              "      </script>\n",
              "    </div>\n",
              "  </div>\n",
              "  "
            ],
            "text/plain": [
              "            Total   Percent\n",
              "取引の事情等     732408  0.974517\n",
              "用途          78617  0.104605\n",
              "容積率（％）      24749  0.032930\n",
              "建ぺい率（％）     24749  0.032930\n",
              "最寄駅：距離（分）   23198  0.030866\n",
              "建築年         21889  0.029125\n",
              "最寄駅：名称       2772  0.003688\n",
              "地区名           670  0.000891\n",
              "改装              0  0.000000\n",
              "取引時点            0  0.000000\n",
              "都市計画            0  0.000000\n",
              "今後の利用目的         0  0.000000\n",
              "ID              0  0.000000\n",
              "建物の構造           0  0.000000"
            ]
          },
          "execution_count": 17,
          "metadata": {},
          "output_type": "execute_result"
        }
      ],
      "source": [
        "total = train_df.isnull().sum().sort_values(ascending=False)\n",
        "percent = (train_df.isnull().sum()/train_df.isnull().count()).sort_values(ascending=False)\n",
        "missing_data = pd.concat([total, percent], axis=1, keys=['Total', 'Percent'])\n",
        "missing_data.head(14)"
      ]
    },
    {
      "cell_type": "code",
      "execution_count": 18,
      "metadata": {
        "id": "rP7qn0kYUWBL"
      },
      "outputs": [],
      "source": [
        "l = len(train_df)\n",
        "df = pd.concat([train_df,test_df])\n",
        "\n",
        "df[\"最寄駅：距離（分）\"].replace({\"30分?60分\":\"45\",\"1H?1H30\":\"75\",\"2H?\":\"120\",'1H30?2H':\"105\"},inplace = True)\n",
        "df[\"最寄駅：距離（分）\"] = df[\"最寄駅：距離（分）\"].astype(float)\n",
        "\n",
        "def convert_wareki_to_seireki(wareki):\n",
        "    if wareki == wareki:\n",
        "        if wareki == '戦前':\n",
        "            wareki = '昭和20年'\n",
        "        value = wareki[2:-1]\n",
        "        if value == '元':\n",
        "            value = 1\n",
        "        else:\n",
        "            value = int(value)\n",
        "        if '昭和' in wareki:\n",
        "            seireki = 1925+value\n",
        "        elif '平成' in wareki:\n",
        "            seireki = 1988+value\n",
        "        elif '令和' in wareki:\n",
        "            seireki = 2018+value\n",
        "    else:\n",
        "        seireki = wareki\n",
        "    return seireki\n",
        "df['建築年'] = df['建築年'].apply(lambda x: convert_wareki_to_seireki(x))\n",
        "\n",
        "df['取引時点_何年前'] = df['取引時点'].apply(lambda x: 2021-int(x[:4]))\n",
        "df.drop(['取引時点'], axis=1, inplace=True)\n",
        "\n",
        "train_df = df[:l]\n",
        "test_df = df[l:]"
      ]
    },
    {
      "cell_type": "code",
      "execution_count": 19,
      "metadata": {
        "id": "0pFqiO1E8SGX"
      },
      "outputs": [],
      "source": [
        "cols_fillna = [\"建築年\",\"容積率（％）\",\"建ぺい率（％）\",\"最寄駅：距離（分）\"]\n",
        "for col in cols_fillna:\n",
        "    train_df[col].fillna(train_df[col].mean(), inplace=True)\n",
        "    test_df[col].fillna(test_df[col].mean(), inplace=True)"
      ]
    },
    {
      "cell_type": "code",
      "execution_count": 20,
      "metadata": {
        "colab": {
          "base_uri": "https://localhost:8080/",
          "height": 488
        },
        "id": "CHPEelxgzvkp",
        "outputId": "2901148d-c15b-4d06-faf7-9723116abdd3"
      },
      "outputs": [
        {
          "data": {
            "text/html": [
              "\n",
              "  <div id=\"df-65bd682e-53cd-4513-a2e8-cecb13c40fc3\">\n",
              "    <div class=\"colab-df-container\">\n",
              "      <div>\n",
              "<style scoped>\n",
              "    .dataframe tbody tr th:only-of-type {\n",
              "        vertical-align: middle;\n",
              "    }\n",
              "\n",
              "    .dataframe tbody tr th {\n",
              "        vertical-align: top;\n",
              "    }\n",
              "\n",
              "    .dataframe thead th {\n",
              "        text-align: right;\n",
              "    }\n",
              "</style>\n",
              "<table border=\"1\" class=\"dataframe\">\n",
              "  <thead>\n",
              "    <tr style=\"text-align: right;\">\n",
              "      <th></th>\n",
              "      <th>Total</th>\n",
              "      <th>Percent</th>\n",
              "    </tr>\n",
              "  </thead>\n",
              "  <tbody>\n",
              "    <tr>\n",
              "      <th>取引の事情等</th>\n",
              "      <td>732408</td>\n",
              "      <td>0.974517</td>\n",
              "    </tr>\n",
              "    <tr>\n",
              "      <th>用途</th>\n",
              "      <td>78617</td>\n",
              "      <td>0.104605</td>\n",
              "    </tr>\n",
              "    <tr>\n",
              "      <th>最寄駅：名称</th>\n",
              "      <td>2772</td>\n",
              "      <td>0.003688</td>\n",
              "    </tr>\n",
              "    <tr>\n",
              "      <th>地区名</th>\n",
              "      <td>670</td>\n",
              "      <td>0.000891</td>\n",
              "    </tr>\n",
              "    <tr>\n",
              "      <th>ID</th>\n",
              "      <td>0</td>\n",
              "      <td>0.000000</td>\n",
              "    </tr>\n",
              "    <tr>\n",
              "      <th>取引価格（総額）_log</th>\n",
              "      <td>0</td>\n",
              "      <td>0.000000</td>\n",
              "    </tr>\n",
              "    <tr>\n",
              "      <th>改装</th>\n",
              "      <td>0</td>\n",
              "      <td>0.000000</td>\n",
              "    </tr>\n",
              "    <tr>\n",
              "      <th>容積率（％）</th>\n",
              "      <td>0</td>\n",
              "      <td>0.000000</td>\n",
              "    </tr>\n",
              "    <tr>\n",
              "      <th>建ぺい率（％）</th>\n",
              "      <td>0</td>\n",
              "      <td>0.000000</td>\n",
              "    </tr>\n",
              "    <tr>\n",
              "      <th>都市計画</th>\n",
              "      <td>0</td>\n",
              "      <td>0.000000</td>\n",
              "    </tr>\n",
              "    <tr>\n",
              "      <th>今後の利用目的</th>\n",
              "      <td>0</td>\n",
              "      <td>0.000000</td>\n",
              "    </tr>\n",
              "    <tr>\n",
              "      <th>建築年</th>\n",
              "      <td>0</td>\n",
              "      <td>0.000000</td>\n",
              "    </tr>\n",
              "    <tr>\n",
              "      <th>建物の構造</th>\n",
              "      <td>0</td>\n",
              "      <td>0.000000</td>\n",
              "    </tr>\n",
              "    <tr>\n",
              "      <th>種類</th>\n",
              "      <td>0</td>\n",
              "      <td>0.000000</td>\n",
              "    </tr>\n",
              "  </tbody>\n",
              "</table>\n",
              "</div>\n",
              "      <button class=\"colab-df-convert\" onclick=\"convertToInteractive('df-65bd682e-53cd-4513-a2e8-cecb13c40fc3')\"\n",
              "              title=\"Convert this dataframe to an interactive table.\"\n",
              "              style=\"display:none;\">\n",
              "        \n",
              "  <svg xmlns=\"http://www.w3.org/2000/svg\" height=\"24px\"viewBox=\"0 0 24 24\"\n",
              "       width=\"24px\">\n",
              "    <path d=\"M0 0h24v24H0V0z\" fill=\"none\"/>\n",
              "    <path d=\"M18.56 5.44l.94 2.06.94-2.06 2.06-.94-2.06-.94-.94-2.06-.94 2.06-2.06.94zm-11 1L8.5 8.5l.94-2.06 2.06-.94-2.06-.94L8.5 2.5l-.94 2.06-2.06.94zm10 10l.94 2.06.94-2.06 2.06-.94-2.06-.94-.94-2.06-.94 2.06-2.06.94z\"/><path d=\"M17.41 7.96l-1.37-1.37c-.4-.4-.92-.59-1.43-.59-.52 0-1.04.2-1.43.59L10.3 9.45l-7.72 7.72c-.78.78-.78 2.05 0 2.83L4 21.41c.39.39.9.59 1.41.59.51 0 1.02-.2 1.41-.59l7.78-7.78 2.81-2.81c.8-.78.8-2.07 0-2.86zM5.41 20L4 18.59l7.72-7.72 1.47 1.35L5.41 20z\"/>\n",
              "  </svg>\n",
              "      </button>\n",
              "      \n",
              "  <style>\n",
              "    .colab-df-container {\n",
              "      display:flex;\n",
              "      flex-wrap:wrap;\n",
              "      gap: 12px;\n",
              "    }\n",
              "\n",
              "    .colab-df-convert {\n",
              "      background-color: #E8F0FE;\n",
              "      border: none;\n",
              "      border-radius: 50%;\n",
              "      cursor: pointer;\n",
              "      display: none;\n",
              "      fill: #1967D2;\n",
              "      height: 32px;\n",
              "      padding: 0 0 0 0;\n",
              "      width: 32px;\n",
              "    }\n",
              "\n",
              "    .colab-df-convert:hover {\n",
              "      background-color: #E2EBFA;\n",
              "      box-shadow: 0px 1px 2px rgba(60, 64, 67, 0.3), 0px 1px 3px 1px rgba(60, 64, 67, 0.15);\n",
              "      fill: #174EA6;\n",
              "    }\n",
              "\n",
              "    [theme=dark] .colab-df-convert {\n",
              "      background-color: #3B4455;\n",
              "      fill: #D2E3FC;\n",
              "    }\n",
              "\n",
              "    [theme=dark] .colab-df-convert:hover {\n",
              "      background-color: #434B5C;\n",
              "      box-shadow: 0px 1px 3px 1px rgba(0, 0, 0, 0.15);\n",
              "      filter: drop-shadow(0px 1px 2px rgba(0, 0, 0, 0.3));\n",
              "      fill: #FFFFFF;\n",
              "    }\n",
              "  </style>\n",
              "\n",
              "      <script>\n",
              "        const buttonEl =\n",
              "          document.querySelector('#df-65bd682e-53cd-4513-a2e8-cecb13c40fc3 button.colab-df-convert');\n",
              "        buttonEl.style.display =\n",
              "          google.colab.kernel.accessAllowed ? 'block' : 'none';\n",
              "\n",
              "        async function convertToInteractive(key) {\n",
              "          const element = document.querySelector('#df-65bd682e-53cd-4513-a2e8-cecb13c40fc3');\n",
              "          const dataTable =\n",
              "            await google.colab.kernel.invokeFunction('convertToInteractive',\n",
              "                                                     [key], {});\n",
              "          if (!dataTable) return;\n",
              "\n",
              "          const docLinkHtml = 'Like what you see? Visit the ' +\n",
              "            '<a target=\"_blank\" href=https://colab.research.google.com/notebooks/data_table.ipynb>data table notebook</a>'\n",
              "            + ' to learn more about interactive tables.';\n",
              "          element.innerHTML = '';\n",
              "          dataTable['output_type'] = 'display_data';\n",
              "          await google.colab.output.renderOutput(dataTable, element);\n",
              "          const docLink = document.createElement('div');\n",
              "          docLink.innerHTML = docLinkHtml;\n",
              "          element.appendChild(docLink);\n",
              "        }\n",
              "      </script>\n",
              "    </div>\n",
              "  </div>\n",
              "  "
            ],
            "text/plain": [
              "               Total   Percent\n",
              "取引の事情等        732408  0.974517\n",
              "用途             78617  0.104605\n",
              "最寄駅：名称          2772  0.003688\n",
              "地区名              670  0.000891\n",
              "ID                 0  0.000000\n",
              "取引価格（総額）_log       0  0.000000\n",
              "改装                 0  0.000000\n",
              "容積率（％）             0  0.000000\n",
              "建ぺい率（％）            0  0.000000\n",
              "都市計画               0  0.000000\n",
              "今後の利用目的            0  0.000000\n",
              "建築年                0  0.000000\n",
              "建物の構造              0  0.000000\n",
              "種類                 0  0.000000"
            ]
          },
          "execution_count": 20,
          "metadata": {},
          "output_type": "execute_result"
        }
      ],
      "source": [
        "total = train_df.isnull().sum().sort_values(ascending=False)\n",
        "percent = (train_df.isnull().sum()/train_df.isnull().count()).sort_values(ascending=False)\n",
        "missing_data = pd.concat([total, percent], axis=1, keys=['Total', 'Percent'])\n",
        "missing_data.head(14)"
      ]
    },
    {
      "cell_type": "code",
      "execution_count": 21,
      "metadata": {
        "id": "uZEXbrCuXI2X"
      },
      "outputs": [],
      "source": [
        "train_df[\"e_最寄駅：距離（分）\"] = np.log(train_df[\"最寄駅：距離（分）\"] + 1)\n",
        "test_df[\"e_最寄駅：距離（分）\"] = np.log(test_df[\"最寄駅：距離（分）\"] + 1)"
      ]
    },
    {
      "cell_type": "code",
      "execution_count": 22,
      "metadata": {
        "id": "J4VEbYoLY4dp"
      },
      "outputs": [],
      "source": [
        "train_df[\"e_面積（㎡）\"] = np.log(train_df[\"面積（㎡）\"] + 1)\n",
        "test_df[\"e_面積（㎡）\"] = np.log(test_df[\"面積（㎡）\"] + 1)"
      ]
    },
    {
      "cell_type": "code",
      "execution_count": 23,
      "metadata": {
        "id": "1dXaE7pQ9kic"
      },
      "outputs": [],
      "source": [
        "cols = [\"取引の事情等\",\"用途\",'e_最寄駅：距離（分）',\"市区町村コード\", '建物の構造','取引時点_何年前', '改装', '間取り', 'e_面積（㎡）','建築年','建ぺい率（％）', '容積率（％）']\n",
        "train_X = train_df[cols]\n",
        "train_Y = train_df['取引価格（総額）_log']\n",
        "test_data = test_df[cols]"
      ]
    },
    {
      "cell_type": "code",
      "execution_count": 24,
      "metadata": {
        "id": "AlRMI9f4BwAP"
      },
      "outputs": [],
      "source": [
        "from sklearn.preprocessing import LabelEncoder\n",
        "df = pd.concat([train_X,test_data])\n",
        "cols = [ '建物の構造','改装', '間取り',\"用途\",\"取引の事情等\"]\n",
        "for col in cols:\n",
        "    le = LabelEncoder()\n",
        "    encoded = le.fit_transform(df[col].values)\n",
        "    decoded = le.inverse_transform(encoded)\n",
        "    df[col] = encoded"
      ]
    },
    {
      "cell_type": "code",
      "execution_count": 25,
      "metadata": {
        "id": "o7iIh3oSCNou"
      },
      "outputs": [],
      "source": [
        "train_X = df[:l]\n",
        "test = df[l:]"
      ]
    },
    {
      "cell_type": "code",
      "execution_count": 26,
      "metadata": {
        "colab": {
          "base_uri": "https://localhost:8080/",
          "height": 683
        },
        "id": "9um98tbNGSuC",
        "outputId": "e6f6504b-5952-42df-b81c-04b76345cd12"
      },
      "outputs": [
        {
          "data": {
            "image/png": "[encoded data removed]",
            "text/plain": [
              "<Figure size 864x720 with 2 Axes>"
            ]
          },
          "metadata": {
            "needs_background": "light"
          },
          "output_type": "display_data"
        }
      ],
      "source": [
        "k = 15 # number of variables for heatmap\n",
        "df = pd.concat([train_X,train_Y],axis=1)\n",
        "corrmat = df.corr()\n",
        "cols = corrmat.nlargest(k, '取引価格（総額）_log')['取引価格（総額）_log'].index\n",
        "cm = np.corrcoef(df[cols].values.T)\n",
        "fig, ax = plt.subplots(figsize=(12, 10))\n",
        "sns.set(font_scale=1.2,font=\"IPAexGothic\")\n",
        "hm = sns.heatmap(cm, cbar=True, annot=True, square=True, fmt=\".2f\", annot_kws={\"size\": 10}, yticklabels=cols.values, xticklabels=cols.values)\n",
        "plt.show()\n",
        "fig.savefig(\"figure4.png\")"
      ]
    },
    {
      "cell_type": "code",
      "execution_count": 27,
      "metadata": {
        "id": "49LxUz2DDn0E"
      },
      "outputs": [],
      "source": [
        "import lightgbm as lgb\n",
        "import xgboost as xgb\n",
        "from catboost import CatBoost, CatBoostRegressor, CatBoostClassifier\n",
        "from catboost import Pool\n",
        "from sklearn.model_selection import train_test_split\n",
        "from sklearn.model_selection import GridSearchCV\n",
        "from sklearn.model_selection import cross_val_score,KFold\n",
        "from sklearn.metrics import mean_absolute_error\n",
        "import optuna"
      ]
    },
    {
      "cell_type": "code",
      "execution_count": 31,
      "metadata": {
        "colab": {
          "base_uri": "https://localhost:8080/"
        },
        "id": "Ja3sFqUGwyaS",
        "outputId": "12047bce-e612-43ba-9280-5a64f397d5bc"
      },
      "outputs": [
        {
          "name": "stderr",
          "output_type": "stream",
          "text": [
            "\u001b[32m[I 2023-02-23 07:15:44,616]\u001b[0m A new study created in memory with name: no-name-e5946307-300b-462b-bb77-1bd422bb8442\u001b[0m\n"
          ]
        },
        {
          "name": "stdout",
          "output_type": "stream",
          "text": [
            "Training until validation scores don't improve for 100 rounds.\n",
            "Early stopping, best iteration is:\n",
            "[141]\tvalid_0's l1: 0.197569\n",
            "Training until validation scores don't improve for 100 rounds.\n",
            "Early stopping, best iteration is:\n",
            "[238]\tvalid_0's l1: 0.136038\n"
          ]
        },
        {
          "name": "stderr",
          "output_type": "stream",
          "text": [
            "\u001b[32m[I 2023-02-23 07:16:51,740]\u001b[0m Trial 0 finished with value: 0.16680343321694735 and parameters: {'learning_rate': 0.10574816718571123, 'num_leaves': 878, 'colsample': 0.19884667546636856, 'subsample': 0.20773821461612801, 'max_depth': 78, 'min_child_samples': 72, 'reg_alpha': 1.5440281298775022e-05, 'reg_lambda': 1.0969306459948165e-08, 'cat_smooth': 14}. Best is trial 0 with value: 0.16680343321694735.\u001b[0m\n"
          ]
        },
        {
          "name": "stdout",
          "output_type": "stream",
          "text": [
            "Training until validation scores don't improve for 100 rounds.\n",
            "Early stopping, best iteration is:\n",
            "[348]\tvalid_0's l1: 0.195454\n",
            "Training until validation scores don't improve for 100 rounds.\n",
            "Early stopping, best iteration is:\n",
            "[450]\tvalid_0's l1: 0.130113\n"
          ]
        },
        {
          "name": "stderr",
          "output_type": "stream",
          "text": [
            "\u001b[32m[I 2023-02-23 07:19:02,759]\u001b[0m Trial 1 finished with value: 0.1627834608580954 and parameters: {'learning_rate': 0.04672611004127024, 'num_leaves': 513, 'colsample': 0.29077691040734455, 'subsample': 0.29384563792235596, 'max_depth': 94, 'min_child_samples': 543, 'reg_alpha': 0.23728227578684877, 'reg_lambda': 0.08329745725078654, 'cat_smooth': 25}. Best is trial 1 with value: 0.1627834608580954.\u001b[0m\n"
          ]
        },
        {
          "name": "stdout",
          "output_type": "stream",
          "text": [
            "Training until validation scores don't improve for 100 rounds.\n",
            "Early stopping, best iteration is:\n",
            "[136]\tvalid_0's l1: 0.197951\n",
            "Training until validation scores don't improve for 100 rounds.\n",
            "Early stopping, best iteration is:\n",
            "[257]\tvalid_0's l1: 0.136228\n"
          ]
        },
        {
          "name": "stderr",
          "output_type": "stream",
          "text": [
            "\u001b[32m[I 2023-02-23 07:19:46,802]\u001b[0m Trial 2 finished with value: 0.16708982908987569 and parameters: {'learning_rate': 0.2803370954230326, 'num_leaves': 75, 'colsample': 0.24862386967083858, 'subsample': 0.23037140966350775, 'max_depth': 33, 'min_child_samples': 549, 'reg_alpha': 2.5428562232507923e-05, 'reg_lambda': 0.00033168448994542294, 'cat_smooth': 33}. Best is trial 1 with value: 0.1627834608580954.\u001b[0m\n"
          ]
        },
        {
          "name": "stdout",
          "output_type": "stream",
          "text": [
            "Training until validation scores don't improve for 100 rounds.\n",
            "Early stopping, best iteration is:\n",
            "[251]\tvalid_0's l1: 0.198327\n",
            "Training until validation scores don't improve for 100 rounds.\n",
            "Early stopping, best iteration is:\n",
            "[155]\tvalid_0's l1: 0.136671\n"
          ]
        },
        {
          "name": "stderr",
          "output_type": "stream",
          "text": [
            "\u001b[32m[I 2023-02-23 07:20:38,867]\u001b[0m Trial 3 finished with value: 0.16749945423634727 and parameters: {'learning_rate': 0.2785617202014738, 'num_leaves': 862, 'colsample': 0.23728435687607943, 'subsample': 0.20732405056321776, 'max_depth': 28, 'min_child_samples': 858, 'reg_alpha': 0.10141614664338094, 'reg_lambda': 9.899431282060494e-08, 'cat_smooth': 64}. Best is trial 1 with value: 0.1627834608580954.\u001b[0m\n"
          ]
        },
        {
          "name": "stdout",
          "output_type": "stream",
          "text": [
            "Training until validation scores don't improve for 100 rounds.\n",
            "Early stopping, best iteration is:\n",
            "[141]\tvalid_0's l1: 0.198259\n",
            "Training until validation scores don't improve for 100 rounds.\n",
            "Early stopping, best iteration is:\n",
            "[259]\tvalid_0's l1: 0.137618\n"
          ]
        },
        {
          "name": "stderr",
          "output_type": "stream",
          "text": [
            "\u001b[32m[I 2023-02-23 07:21:36,333]\u001b[0m Trial 4 finished with value: 0.16793816683731105 and parameters: {'learning_rate': 0.15422271554534855, 'num_leaves': 596, 'colsample': 0.17535456010439238, 'subsample': 0.1924610610191146, 'max_depth': 63, 'min_child_samples': 189, 'reg_alpha': 1.2787172340231356e-08, 'reg_lambda': 0.032287936716041146, 'cat_smooth': 47}. Best is trial 1 with value: 0.1627834608580954.\u001b[0m\n"
          ]
        },
        {
          "name": "stdout",
          "output_type": "stream",
          "text": [
            "Training until validation scores don't improve for 100 rounds.\n",
            "Early stopping, best iteration is:\n",
            "[88]\tvalid_0's l1: 0.19518\n",
            "Training until validation scores don't improve for 100 rounds.\n",
            "Early stopping, best iteration is:\n",
            "[243]\tvalid_0's l1: 0.136308\n"
          ]
        },
        {
          "name": "stderr",
          "output_type": "stream",
          "text": [
            "\u001b[32m[I 2023-02-23 07:22:07,512]\u001b[0m Trial 5 finished with value: 0.1657440883215872 and parameters: {'learning_rate': 0.27012279080996116, 'num_leaves': 861, 'colsample': 0.19802409709355392, 'subsample': 0.17867612038830585, 'max_depth': 6, 'min_child_samples': 119, 'reg_alpha': 3.6765720693203257, 'reg_lambda': 3.4000780732869857e-07, 'cat_smooth': 79}. Best is trial 1 with value: 0.1627834608580954.\u001b[0m\n"
          ]
        },
        {
          "name": "stdout",
          "output_type": "stream",
          "text": [
            "Training until validation scores don't improve for 100 rounds.\n",
            "Early stopping, best iteration is:\n",
            "[136]\tvalid_0's l1: 0.197614\n",
            "Training until validation scores don't improve for 100 rounds.\n",
            "Early stopping, best iteration is:\n",
            "[139]\tvalid_0's l1: 0.135893\n"
          ]
        },
        {
          "name": "stderr",
          "output_type": "stream",
          "text": [
            "\u001b[32m[I 2023-02-23 07:22:36,916]\u001b[0m Trial 6 finished with value: 0.16675330290011534 and parameters: {'learning_rate': 0.3317730527822752, 'num_leaves': 37, 'colsample': 0.23077044862869733, 'subsample': 0.15683042356175625, 'max_depth': 12, 'min_child_samples': 224, 'reg_alpha': 0.7060743689125408, 'reg_lambda': 2.3076263981732385e-07, 'cat_smooth': 14}. Best is trial 1 with value: 0.1627834608580954.\u001b[0m\n"
          ]
        },
        {
          "name": "stdout",
          "output_type": "stream",
          "text": [
            "Training until validation scores don't improve for 100 rounds.\n",
            "Early stopping, best iteration is:\n",
            "[330]\tvalid_0's l1: 0.201122\n",
            "Training until validation scores don't improve for 100 rounds.\n",
            "Early stopping, best iteration is:\n",
            "[818]\tvalid_0's l1: 0.149502\n"
          ]
        },
        {
          "name": "stderr",
          "output_type": "stream",
          "text": [
            "\u001b[32m[I 2023-02-23 07:23:51,093]\u001b[0m Trial 7 finished with value: 0.17531201357939852 and parameters: {'learning_rate': 0.05036995282910612, 'num_leaves': 474, 'colsample': 0.10149374738514623, 'subsample': 0.18801370811123186, 'max_depth': 63, 'min_child_samples': 1989, 'reg_alpha': 8.591833672870678e-06, 'reg_lambda': 0.02469466501011773, 'cat_smooth': 47}. Best is trial 1 with value: 0.1627834608580954.\u001b[0m\n"
          ]
        },
        {
          "name": "stdout",
          "output_type": "stream",
          "text": [
            "Training until validation scores don't improve for 100 rounds.\n",
            "Early stopping, best iteration is:\n",
            "[151]\tvalid_0's l1: 0.199345\n",
            "Training until validation scores don't improve for 100 rounds.\n",
            "Early stopping, best iteration is:\n",
            "[170]\tvalid_0's l1: 0.132706\n"
          ]
        },
        {
          "name": "stderr",
          "output_type": "stream",
          "text": [
            "\u001b[32m[I 2023-02-23 07:24:35,886]\u001b[0m Trial 8 finished with value: 0.1660252168917521 and parameters: {'learning_rate': 0.21992107830001115, 'num_leaves': 968, 'colsample': 0.2709847212283591, 'subsample': 0.13041617787693266, 'max_depth': 8, 'min_child_samples': 126, 'reg_alpha': 1.6990850357376787e-06, 'reg_lambda': 2.793305923508655e-08, 'cat_smooth': 54}. Best is trial 1 with value: 0.1627834608580954.\u001b[0m\n"
          ]
        },
        {
          "name": "stdout",
          "output_type": "stream",
          "text": [
            "Training until validation scores don't improve for 100 rounds.\n",
            "Early stopping, best iteration is:\n",
            "[114]\tvalid_0's l1: 0.19663\n",
            "Training until validation scores don't improve for 100 rounds.\n",
            "Early stopping, best iteration is:\n",
            "[709]\tvalid_0's l1: 0.145446\n"
          ]
        },
        {
          "name": "stderr",
          "output_type": "stream",
          "text": [
            "\u001b[32m[I 2023-02-23 07:26:08,100]\u001b[0m Trial 9 finished with value: 0.17103769252732398 and parameters: {'learning_rate': 0.10200385653590949, 'num_leaves': 121, 'colsample': 0.19143982786539565, 'subsample': 0.15885377485954028, 'max_depth': 90, 'min_child_samples': 1873, 'reg_alpha': 0.001460520225296354, 'reg_lambda': 0.44919955171334364, 'cat_smooth': 7}. Best is trial 1 with value: 0.1627834608580954.\u001b[0m\n"
          ]
        },
        {
          "name": "stdout",
          "output_type": "stream",
          "text": [
            "Training until validation scores don't improve for 100 rounds.\n",
            "Early stopping, best iteration is:\n",
            "[199]\tvalid_0's l1: 0.200133\n",
            "Training until validation scores don't improve for 100 rounds.\n",
            "Early stopping, best iteration is:\n",
            "[179]\tvalid_0's l1: 0.13166\n"
          ]
        },
        {
          "name": "stderr",
          "output_type": "stream",
          "text": [
            "\u001b[32m[I 2023-02-23 07:27:12,417]\u001b[0m Trial 10 finished with value: 0.16589644607281132 and parameters: {'learning_rate': 0.3945707082297403, 'num_leaves': 412, 'colsample': 0.2938027992970023, 'subsample': 0.29707945011419706, 'max_depth': 99, 'min_child_samples': 1363, 'reg_alpha': 0.016733719976441627, 'reg_lambda': 0.00015569801152381338, 'cat_smooth': 100}. Best is trial 1 with value: 0.1627834608580954.\u001b[0m\n"
          ]
        },
        {
          "name": "stdout",
          "output_type": "stream",
          "text": [
            "Training until validation scores don't improve for 100 rounds.\n",
            "Early stopping, best iteration is:\n",
            "[234]\tvalid_0's l1: 0.196974\n",
            "Training until validation scores don't improve for 100 rounds.\n",
            "Early stopping, best iteration is:\n",
            "[263]\tvalid_0's l1: 0.130274\n"
          ]
        },
        {
          "name": "stderr",
          "output_type": "stream",
          "text": [
            "\u001b[32m[I 2023-02-23 07:28:10,595]\u001b[0m Trial 11 finished with value: 0.1636238736260423 and parameters: {'learning_rate': 0.1807694079203832, 'num_leaves': 686, 'colsample': 0.2897801396793608, 'subsample': 0.29130725812845565, 'max_depth': 41, 'min_child_samples': 610, 'reg_alpha': 9.256315835541631, 'reg_lambda': 8.386996340308435e-06, 'cat_smooth': 95}. Best is trial 1 with value: 0.1627834608580954.\u001b[0m\n"
          ]
        },
        {
          "name": "stdout",
          "output_type": "stream",
          "text": [
            "Training until validation scores don't improve for 100 rounds.\n",
            "Early stopping, best iteration is:\n",
            "[234]\tvalid_0's l1: 0.196182\n",
            "Training until validation scores don't improve for 100 rounds.\n",
            "Early stopping, best iteration is:\n",
            "[216]\tvalid_0's l1: 0.130339\n"
          ]
        },
        {
          "name": "stderr",
          "output_type": "stream",
          "text": [
            "\u001b[32m[I 2023-02-23 07:29:08,350]\u001b[0m Trial 12 finished with value: 0.16326022974124182 and parameters: {'learning_rate': 0.1679760588561123, 'num_leaves': 638, 'colsample': 0.2980345267229799, 'subsample': 0.2928479652488344, 'max_depth': 42, 'min_child_samples': 713, 'reg_alpha': 6.941766670228142, 'reg_lambda': 8.580458852894627e-06, 'cat_smooth': 89}. Best is trial 1 with value: 0.1627834608580954.\u001b[0m\n"
          ]
        },
        {
          "name": "stdout",
          "output_type": "stream",
          "text": [
            "Training until validation scores don't improve for 100 rounds.\n",
            "Early stopping, best iteration is:\n",
            "[346]\tvalid_0's l1: 0.195246\n",
            "Training until validation scores don't improve for 100 rounds.\n",
            "Early stopping, best iteration is:\n",
            "[506]\tvalid_0's l1: 0.129949\n"
          ]
        },
        {
          "name": "stderr",
          "output_type": "stream",
          "text": [
            "\u001b[32m[I 2023-02-23 07:31:18,766]\u001b[0m Trial 13 finished with value: 0.16259758543468988 and parameters: {'learning_rate': 0.061548742523259425, 'num_leaves': 328, 'colsample': 0.29897103818968646, 'subsample': 0.265588762010156, 'max_depth': 55, 'min_child_samples': 904, 'reg_alpha': 0.19497883320481266, 'reg_lambda': 8.908755967409941e-06, 'cat_smooth': 29}. Best is trial 13 with value: 0.16259758543468988.\u001b[0m\n"
          ]
        },
        {
          "name": "stdout",
          "output_type": "stream",
          "text": [
            "Training until validation scores don't improve for 100 rounds.\n",
            "Early stopping, best iteration is:\n",
            "[274]\tvalid_0's l1: 0.195576\n",
            "Training until validation scores don't improve for 100 rounds.\n",
            "Early stopping, best iteration is:\n",
            "[1236]\tvalid_0's l1: 0.129013\n"
          ]
        },
        {
          "name": "stderr",
          "output_type": "stream",
          "text": [
            "\u001b[32m[I 2023-02-23 07:35:18,925]\u001b[0m Trial 14 finished with value: 0.16229419500444592 and parameters: {'learning_rate': 0.06343383079480128, 'num_leaves': 269, 'colsample': 0.2623944116676998, 'subsample': 0.25984046223140284, 'max_depth': 77, 'min_child_samples': 1159, 'reg_alpha': 0.03793914831713595, 'reg_lambda': 0.0019773780875132073, 'cat_smooth': 28}. Best is trial 14 with value: 0.16229419500444592.\u001b[0m\n"
          ]
        },
        {
          "name": "stdout",
          "output_type": "stream",
          "text": [
            "Training until validation scores don't improve for 100 rounds.\n",
            "Early stopping, best iteration is:\n",
            "[80]\tvalid_0's l1: 0.19726\n",
            "Training until validation scores don't improve for 100 rounds.\n",
            "Early stopping, best iteration is:\n",
            "[1172]\tvalid_0's l1: 0.129114\n"
          ]
        },
        {
          "name": "stderr",
          "output_type": "stream",
          "text": [
            "\u001b[32m[I 2023-02-23 07:38:48,183]\u001b[0m Trial 15 finished with value: 0.1631869119234451 and parameters: {'learning_rate': 0.10855827031029458, 'num_leaves': 276, 'colsample': 0.26198328330600873, 'subsample': 0.2553446684325855, 'max_depth': 68, 'min_child_samples': 1214, 'reg_alpha': 0.012104340786875119, 'reg_lambda': 0.0008968098699649991, 'cat_smooth': 29}. Best is trial 14 with value: 0.16229419500444592.\u001b[0m\n"
          ]
        },
        {
          "name": "stdout",
          "output_type": "stream",
          "text": [
            "Training until validation scores don't improve for 100 rounds.\n",
            "Early stopping, best iteration is:\n",
            "[408]\tvalid_0's l1: 0.195078\n",
            "Training until validation scores don't improve for 100 rounds.\n",
            "Early stopping, best iteration is:\n",
            "[1857]\tvalid_0's l1: 0.13339\n"
          ]
        },
        {
          "name": "stderr",
          "output_type": "stream",
          "text": [
            "\u001b[32m[I 2023-02-23 07:44:33,407]\u001b[0m Trial 16 finished with value: 0.16423391431028894 and parameters: {'learning_rate': 0.04606216995912479, 'num_leaves': 244, 'colsample': 0.266642897045796, 'subsample': 0.25346784503060665, 'max_depth': 80, 'min_child_samples': 1504, 'reg_alpha': 0.0025015962683674156, 'reg_lambda': 0.0018360291652620546, 'cat_smooth': 1}. Best is trial 14 with value: 0.16229419500444592.\u001b[0m\n"
          ]
        },
        {
          "name": "stdout",
          "output_type": "stream",
          "text": [
            "Training until validation scores don't improve for 100 rounds.\n",
            "Early stopping, best iteration is:\n",
            "[164]\tvalid_0's l1: 0.197776\n",
            "Training until validation scores don't improve for 100 rounds.\n",
            "Early stopping, best iteration is:\n",
            "[351]\tvalid_0's l1: 0.136186\n"
          ]
        },
        {
          "name": "stderr",
          "output_type": "stream",
          "text": [
            "\u001b[32m[I 2023-02-23 07:45:31,898]\u001b[0m Trial 17 finished with value: 0.16698107124543554 and parameters: {'learning_rate': 0.08347915893432364, 'num_leaves': 309, 'colsample': 0.23251575319515772, 'subsample': 0.2637317044255555, 'max_depth': 53, 'min_child_samples': 1091, 'reg_alpha': 0.0873561465822355, 'reg_lambda': 1.8622178577015424e-05, 'cat_smooth': 37}. Best is trial 14 with value: 0.16229419500444592.\u001b[0m\n"
          ]
        },
        {
          "name": "stdout",
          "output_type": "stream",
          "text": [
            "Training until validation scores don't improve for 100 rounds.\n",
            "Early stopping, best iteration is:\n",
            "[162]\tvalid_0's l1: 0.197549\n",
            "Training until validation scores don't improve for 100 rounds.\n",
            "Early stopping, best iteration is:\n",
            "[673]\tvalid_0's l1: 0.133289\n"
          ]
        },
        {
          "name": "stderr",
          "output_type": "stream",
          "text": [
            "\u001b[32m[I 2023-02-23 07:47:30,430]\u001b[0m Trial 18 finished with value: 0.16541900020425931 and parameters: {'learning_rate': 0.1343034107207783, 'num_leaves': 202, 'colsample': 0.27487187271757246, 'subsample': 0.22991168401843237, 'max_depth': 79, 'min_child_samples': 1629, 'reg_alpha': 0.7672428514679793, 'reg_lambda': 0.005295651870944789, 'cat_smooth': 19}. Best is trial 14 with value: 0.16229419500444592.\u001b[0m\n"
          ]
        },
        {
          "name": "stdout",
          "output_type": "stream",
          "text": [
            "Training until validation scores don't improve for 100 rounds.\n",
            "Early stopping, best iteration is:\n",
            "[346]\tvalid_0's l1: 0.194853\n",
            "Training until validation scores don't improve for 100 rounds.\n",
            "Early stopping, best iteration is:\n",
            "[543]\tvalid_0's l1: 0.129701\n"
          ]
        },
        {
          "name": "stderr",
          "output_type": "stream",
          "text": [
            "\u001b[32m[I 2023-02-23 07:49:40,501]\u001b[0m Trial 19 finished with value: 0.16227692710157385 and parameters: {'learning_rate': 0.07762486031380453, 'num_leaves': 159, 'colsample': 0.2535430029988181, 'subsample': 0.2311498688531951, 'max_depth': 52, 'min_child_samples': 915, 'reg_alpha': 0.025709947187020153, 'reg_lambda': 5.858724057169498e-05, 'cat_smooth': 65}. Best is trial 19 with value: 0.16227692710157385.\u001b[0m\n"
          ]
        },
        {
          "name": "stdout",
          "output_type": "stream",
          "text": [
            "Training until validation scores don't improve for 100 rounds.\n",
            "Early stopping, best iteration is:\n",
            "[141]\tvalid_0's l1: 0.197282\n",
            "Training until validation scores don't improve for 100 rounds.\n",
            "Early stopping, best iteration is:\n",
            "[251]\tvalid_0's l1: 0.136296\n"
          ]
        },
        {
          "name": "stderr",
          "output_type": "stream",
          "text": [
            "\u001b[32m[I 2023-02-23 07:50:28,099]\u001b[0m Trial 20 finished with value: 0.1667893925634032 and parameters: {'learning_rate': 0.13163473566485406, 'num_leaves': 165, 'colsample': 0.22289325580759073, 'subsample': 0.10596375602054166, 'max_depth': 70, 'min_child_samples': 1140, 'reg_alpha': 0.0005077915045869901, 'reg_lambda': 0.00010870757958789847, 'cat_smooth': 72}. Best is trial 19 with value: 0.16227692710157385.\u001b[0m\n"
          ]
        },
        {
          "name": "stdout",
          "output_type": "stream",
          "text": [
            "Training until validation scores don't improve for 100 rounds.\n",
            "Early stopping, best iteration is:\n",
            "[234]\tvalid_0's l1: 0.195742\n",
            "Training until validation scores don't improve for 100 rounds.\n",
            "Early stopping, best iteration is:\n",
            "[462]\tvalid_0's l1: 0.129825\n"
          ]
        },
        {
          "name": "stderr",
          "output_type": "stream",
          "text": [
            "\u001b[32m[I 2023-02-23 07:52:20,232]\u001b[0m Trial 21 finished with value: 0.1627831077969409 and parameters: {'learning_rate': 0.0731473588893136, 'num_leaves': 355, 'colsample': 0.25590298657400307, 'subsample': 0.23487485724203502, 'max_depth': 53, 'min_child_samples': 922, 'reg_alpha': 0.015036772917660908, 'reg_lambda': 2.9698647804771054e-05, 'cat_smooth': 57}. Best is trial 19 with value: 0.16227692710157385.\u001b[0m\n"
          ]
        },
        {
          "name": "stdout",
          "output_type": "stream",
          "text": [
            "Training until validation scores don't improve for 100 rounds.\n",
            "Early stopping, best iteration is:\n",
            "[162]\tvalid_0's l1: 0.196472\n",
            "Training until validation scores don't improve for 100 rounds.\n",
            "Early stopping, best iteration is:\n",
            "[386]\tvalid_0's l1: 0.130393\n"
          ]
        },
        {
          "name": "stderr",
          "output_type": "stream",
          "text": [
            "\u001b[32m[I 2023-02-23 07:53:49,062]\u001b[0m Trial 22 finished with value: 0.1634323818645981 and parameters: {'learning_rate': 0.07668349408786207, 'num_leaves': 357, 'colsample': 0.27583488803992645, 'subsample': 0.2710463682119891, 'max_depth': 45, 'min_child_samples': 804, 'reg_alpha': 0.056422775227196006, 'reg_lambda': 1.329957188272054e-06, 'cat_smooth': 39}. Best is trial 19 with value: 0.16227692710157385.\u001b[0m\n"
          ]
        },
        {
          "name": "stdout",
          "output_type": "stream",
          "text": [
            "Training until validation scores don't improve for 100 rounds.\n",
            "Early stopping, best iteration is:\n",
            "[348]\tvalid_0's l1: 0.194745\n",
            "Training until validation scores don't improve for 100 rounds.\n",
            "Early stopping, best iteration is:\n",
            "[1273]\tvalid_0's l1: 0.129116\n"
          ]
        },
        {
          "name": "stderr",
          "output_type": "stream",
          "text": [
            "\u001b[32m[I 2023-02-23 07:57:36,880]\u001b[0m Trial 23 finished with value: 0.16193039446661345 and parameters: {'learning_rate': 0.04294248289124555, 'num_leaves': 176, 'colsample': 0.2802134733235037, 'subsample': 0.24452627505523727, 'max_depth': 57, 'min_child_samples': 1319, 'reg_alpha': 1.0468952339467341, 'reg_lambda': 5.307953882743973e-05, 'cat_smooth': 66}. Best is trial 23 with value: 0.16193039446661345.\u001b[0m\n"
          ]
        },
        {
          "name": "stdout",
          "output_type": "stream",
          "text": [
            "Training until validation scores don't improve for 100 rounds.\n",
            "Early stopping, best iteration is:\n",
            "[234]\tvalid_0's l1: 0.188345\n",
            "Training until validation scores don't improve for 100 rounds.\n",
            "Early stopping, best iteration is:\n",
            "[1089]\tvalid_0's l1: 0.130341\n"
          ]
        },
        {
          "name": "stderr",
          "output_type": "stream",
          "text": [
            "\u001b[32m[I 2023-02-23 07:59:11,432]\u001b[0m Trial 24 finished with value: 0.1593432919004833 and parameters: {'learning_rate': 0.0837251233300163, 'num_leaves': 14, 'colsample': 0.2519609974455761, 'subsample': 0.22023904500698124, 'max_depth': 26, 'min_child_samples': 1315, 'reg_alpha': 1.4091185689346732, 'reg_lambda': 0.00044544464786994164, 'cat_smooth': 68}. Best is trial 24 with value: 0.1593432919004833.\u001b[0m\n"
          ]
        },
        {
          "name": "stdout",
          "output_type": "stream",
          "text": [
            "Training until validation scores don't improve for 100 rounds.\n",
            "Early stopping, best iteration is:\n",
            "[120]\tvalid_0's l1: 0.196043\n",
            "Training until validation scores don't improve for 100 rounds.\n",
            "Early stopping, best iteration is:\n",
            "[667]\tvalid_0's l1: 0.136965\n"
          ]
        },
        {
          "name": "stderr",
          "output_type": "stream",
          "text": [
            "\u001b[32m[I 2023-02-23 08:00:27,506]\u001b[0m Trial 25 finished with value: 0.16650435300892713 and parameters: {'learning_rate': 0.1000392649169726, 'num_leaves': 108, 'colsample': 0.24842895970297935, 'subsample': 0.21654936151642099, 'max_depth': 22, 'min_child_samples': 1375, 'reg_alpha': 1.4947976654051243, 'reg_lambda': 5.186733511128388e-05, 'cat_smooth': 71}. Best is trial 24 with value: 0.1593432919004833.\u001b[0m\n"
          ]
        },
        {
          "name": "stdout",
          "output_type": "stream",
          "text": [
            "Training until validation scores don't improve for 100 rounds.\n",
            "Early stopping, best iteration is:\n",
            "[94]\tvalid_0's l1: 0.18884\n",
            "Training until validation scores don't improve for 100 rounds.\n",
            "Early stopping, best iteration is:\n",
            "[1615]\tvalid_0's l1: 0.133757\n"
          ]
        },
        {
          "name": "stderr",
          "output_type": "stream",
          "text": [
            "\u001b[32m[I 2023-02-23 08:02:19,673]\u001b[0m Trial 26 finished with value: 0.161298460516131 and parameters: {'learning_rate': 0.13228793671349548, 'num_leaves': 11, 'colsample': 0.27911303396839976, 'subsample': 0.24075817040170208, 'max_depth': 19, 'min_child_samples': 1689, 'reg_alpha': 0.9503371489465099, 'reg_lambda': 0.00033299126964768725, 'cat_smooth': 82}. Best is trial 24 with value: 0.1593432919004833.\u001b[0m\n"
          ]
        },
        {
          "name": "stdout",
          "output_type": "stream",
          "text": [
            "Training until validation scores don't improve for 100 rounds.\n",
            "Early stopping, best iteration is:\n",
            "[532]\tvalid_0's l1: 0.189183\n",
            "Training until validation scores don't improve for 100 rounds.\n",
            "Early stopping, best iteration is:\n",
            "[1940]\tvalid_0's l1: 0.134861\n"
          ]
        },
        {
          "name": "stderr",
          "output_type": "stream",
          "text": [
            "\u001b[32m[I 2023-02-23 08:05:25,007]\u001b[0m Trial 27 finished with value: 0.16202202126449355 and parameters: {'learning_rate': 0.04360479281328219, 'num_leaves': 16, 'colsample': 0.2835345472698573, 'subsample': 0.2427636597839735, 'max_depth': 18, 'min_child_samples': 1711, 'reg_alpha': 1.6040415449989898, 'reg_lambda': 0.0005537884978137278, 'cat_smooth': 83}. Best is trial 24 with value: 0.1593432919004833.\u001b[0m\n"
          ]
        },
        {
          "name": "stdout",
          "output_type": "stream",
          "text": [
            "Training until validation scores don't improve for 100 rounds.\n",
            "Early stopping, best iteration is:\n",
            "[162]\tvalid_0's l1: 0.191758\n",
            "Training until validation scores don't improve for 100 rounds.\n",
            "Early stopping, best iteration is:\n",
            "[1050]\tvalid_0's l1: 0.135261\n"
          ]
        },
        {
          "name": "stderr",
          "output_type": "stream",
          "text": [
            "\u001b[32m[I 2023-02-23 08:07:13,294]\u001b[0m Trial 28 finished with value: 0.1635142407843037 and parameters: {'learning_rate': 0.13121651888855745, 'num_leaves': 28, 'colsample': 0.2786945999267142, 'subsample': 0.2214180169461447, 'max_depth': 33, 'min_child_samples': 1714, 'reg_alpha': 9.772862690815566, 'reg_lambda': 0.0002588293474429173, 'cat_smooth': 79}. Best is trial 24 with value: 0.1593432919004833.\u001b[0m\n"
          ]
        },
        {
          "name": "stdout",
          "output_type": "stream",
          "text": [
            "Training until validation scores don't improve for 100 rounds.\n",
            "Early stopping, best iteration is:\n",
            "[80]\tvalid_0's l1: 0.196294\n",
            "Training until validation scores don't improve for 100 rounds.\n",
            "Early stopping, best iteration is:\n",
            "[679]\tvalid_0's l1: 0.13075\n"
          ]
        },
        {
          "name": "stderr",
          "output_type": "stream",
          "text": [
            "\u001b[32m[I 2023-02-23 08:09:07,681]\u001b[0m Trial 29 finished with value: 0.16352182858557354 and parameters: {'learning_rate': 0.10564368558141334, 'num_leaves': 189, 'colsample': 0.2820767546099095, 'subsample': 0.20119182330307625, 'max_depth': 16, 'min_child_samples': 1349, 'reg_alpha': 0.3334284032456181, 'reg_lambda': 0.005536826726589505, 'cat_smooth': 62}. Best is trial 24 with value: 0.1593432919004833.\u001b[0m\n"
          ]
        },
        {
          "name": "stdout",
          "output_type": "stream",
          "text": [
            "Training until validation scores don't improve for 100 rounds.\n",
            "Early stopping, best iteration is:\n",
            "[109]\tvalid_0's l1: 0.193733\n",
            "Training until validation scores don't improve for 100 rounds.\n",
            "Early stopping, best iteration is:\n",
            "[1392]\tvalid_0's l1: 0.133635\n"
          ]
        },
        {
          "name": "stderr",
          "output_type": "stream",
          "text": [
            "\u001b[32m[I 2023-02-23 08:12:33,826]\u001b[0m Trial 30 finished with value: 0.16368368295701702 and parameters: {'learning_rate': 0.08753927876080086, 'num_leaves': 93, 'colsample': 0.2677953102372455, 'subsample': 0.21493704421680962, 'max_depth': 23, 'min_child_samples': 1533, 'reg_alpha': 0.7590248759358328, 'reg_lambda': 0.0002024485595842708, 'cat_smooth': 71}. Best is trial 24 with value: 0.1593432919004833.\u001b[0m\n"
          ]
        },
        {
          "name": "stdout",
          "output_type": "stream",
          "text": [
            "Training until validation scores don't improve for 100 rounds.\n",
            "Early stopping, best iteration is:\n",
            "[381]\tvalid_0's l1: 0.191868\n",
            "Training until validation scores don't improve for 100 rounds.\n",
            "Early stopping, best iteration is:\n",
            "[784]\tvalid_0's l1: 0.141253\n"
          ]
        },
        {
          "name": "stderr",
          "output_type": "stream",
          "text": [
            "\u001b[32m[I 2023-02-23 08:14:30,827]\u001b[0m Trial 31 finished with value: 0.16656083313946737 and parameters: {'learning_rate': 0.0484432953543177, 'num_leaves': 39, 'colsample': 0.2828878551593329, 'subsample': 0.24313389018630643, 'max_depth': 17, 'min_child_samples': 1788, 'reg_alpha': 2.0607133114984, 'reg_lambda': 0.0004846307478020567, 'cat_smooth': 82}. Best is trial 24 with value: 0.1593432919004833.\u001b[0m\n"
          ]
        },
        {
          "name": "stdout",
          "output_type": "stream",
          "text": [
            "Training until validation scores don't improve for 100 rounds.\n",
            "Early stopping, best iteration is:\n",
            "[442]\tvalid_0's l1: 0.190327\n",
            "Training until validation scores don't improve for 100 rounds.\n",
            "Early stopping, best iteration is:\n",
            "[1838]\tvalid_0's l1: 0.138089\n"
          ]
        },
        {
          "name": "stderr",
          "output_type": "stream",
          "text": [
            "\u001b[32m[I 2023-02-23 08:16:34,441]\u001b[0m Trial 32 finished with value: 0.16420794744547468 and parameters: {'learning_rate': 0.04154877237986836, 'num_leaves': 16, 'colsample': 0.28303981647958465, 'subsample': 0.24548479030679407, 'max_depth': 3, 'min_child_samples': 1541, 'reg_alpha': 1.9432865936829915, 'reg_lambda': 0.0007914988706473404, 'cat_smooth': 87}. Best is trial 24 with value: 0.1593432919004833.\u001b[0m\n"
          ]
        },
        {
          "name": "stdout",
          "output_type": "stream",
          "text": [
            "Training until validation scores don't improve for 100 rounds.\n",
            "Early stopping, best iteration is:\n",
            "[110]\tvalid_0's l1: 0.194078\n",
            "Training until validation scores don't improve for 100 rounds.\n",
            "Early stopping, best iteration is:\n",
            "[950]\tvalid_0's l1: 0.129238\n"
          ]
        },
        {
          "name": "stderr",
          "output_type": "stream",
          "text": [
            "\u001b[32m[I 2023-02-23 08:19:06,067]\u001b[0m Trial 33 finished with value: 0.16165785517302259 and parameters: {'learning_rate': 0.06645068863980635, 'num_leaves': 105, 'colsample': 0.2974193154024551, 'subsample': 0.24263312301048226, 'max_depth': 35, 'min_child_samples': 1275, 'reg_alpha': 0.3573793556290102, 'reg_lambda': 0.00011703180153915243, 'cat_smooth': 75}. Best is trial 24 with value: 0.1593432919004833.\u001b[0m\n"
          ]
        },
        {
          "name": "stdout",
          "output_type": "stream",
          "text": [
            "Training until validation scores don't improve for 100 rounds.\n",
            "Early stopping, best iteration is:\n",
            "[80]\tvalid_0's l1: 0.195431\n",
            "Training until validation scores don't improve for 100 rounds.\n",
            "Early stopping, best iteration is:\n",
            "[501]\tvalid_0's l1: 0.129331\n"
          ]
        },
        {
          "name": "stderr",
          "output_type": "stream",
          "text": [
            "\u001b[32m[I 2023-02-23 08:20:27,037]\u001b[0m Trial 34 finished with value: 0.16238119362429623 and parameters: {'learning_rate': 0.1178373029827175, 'num_leaves': 118, 'colsample': 0.2952319102829721, 'subsample': 0.2224847879061782, 'max_depth': 35, 'min_child_samples': 1262, 'reg_alpha': 0.29387384485634616, 'reg_lambda': 8.552076256849669e-05, 'cat_smooth': 75}. Best is trial 24 with value: 0.1593432919004833.\u001b[0m\n"
          ]
        },
        {
          "name": "stdout",
          "output_type": "stream",
          "text": [
            "Training until validation scores don't improve for 100 rounds.\n",
            "Early stopping, best iteration is:\n",
            "[162]\tvalid_0's l1: 0.197398\n",
            "Training until validation scores don't improve for 100 rounds.\n",
            "Early stopping, best iteration is:\n",
            "[1241]\tvalid_0's l1: 0.129288\n"
          ]
        },
        {
          "name": "stderr",
          "output_type": "stream",
          "text": [
            "\u001b[32m[I 2023-02-23 08:24:11,242]\u001b[0m Trial 35 finished with value: 0.16334301893340902 and parameters: {'learning_rate': 0.09153497581549541, 'num_leaves': 210, 'colsample': 0.299628143713748, 'subsample': 0.20966511482141859, 'max_depth': 29, 'min_child_samples': 1070, 'reg_alpha': 0.15922210360398156, 'reg_lambda': 0.00018270678221054442, 'cat_smooth': 66}. Best is trial 24 with value: 0.1593432919004833.\u001b[0m\n"
          ]
        },
        {
          "name": "stdout",
          "output_type": "stream",
          "text": [
            "Training until validation scores don't improve for 100 rounds.\n",
            "Early stopping, best iteration is:\n",
            "[164]\tvalid_0's l1: 0.195603\n",
            "Training until validation scores don't improve for 100 rounds.\n",
            "Early stopping, best iteration is:\n",
            "[1217]\tvalid_0's l1: 0.139223\n"
          ]
        },
        {
          "name": "stderr",
          "output_type": "stream",
          "text": [
            "\u001b[32m[I 2023-02-23 08:26:22,252]\u001b[0m Trial 36 finished with value: 0.16741300561925476 and parameters: {'learning_rate': 0.06842381371574, 'num_leaves': 79, 'colsample': 0.24511105344822925, 'subsample': 0.23162374679907544, 'max_depth': 38, 'min_child_samples': 1426, 'reg_alpha': 3.1123635810141836, 'reg_lambda': 2.6309909502954738e-06, 'cat_smooth': 58}. Best is trial 24 with value: 0.1593432919004833.\u001b[0m\n"
          ]
        },
        {
          "name": "stdout",
          "output_type": "stream",
          "text": [
            "Training until validation scores don't improve for 100 rounds.\n",
            "Early stopping, best iteration is:\n",
            "[80]\tvalid_0's l1: 0.195693\n",
            "Training until validation scores don't improve for 100 rounds.\n",
            "Early stopping, best iteration is:\n",
            "[1391]\tvalid_0's l1: 0.128843\n"
          ]
        },
        {
          "name": "stderr",
          "output_type": "stream",
          "text": [
            "\u001b[32m[I 2023-02-23 08:30:04,503]\u001b[0m Trial 37 finished with value: 0.16226819124046965 and parameters: {'learning_rate': 0.11923068543534107, 'num_leaves': 146, 'colsample': 0.2604413734358696, 'subsample': 0.20613713075508353, 'max_depth': 26, 'min_child_samples': 1270, 'reg_alpha': 0.42213583293756823, 'reg_lambda': 2.244113927962464e-05, 'cat_smooth': 92}. Best is trial 24 with value: 0.1593432919004833.\u001b[0m\n"
          ]
        },
        {
          "name": "stdout",
          "output_type": "stream",
          "text": [
            "Training until validation scores don't improve for 100 rounds.\n",
            "Early stopping, best iteration is:\n",
            "[156]\tvalid_0's l1: 0.197132\n",
            "Training until validation scores don't improve for 100 rounds.\n",
            "Early stopping, best iteration is:\n",
            "[506]\tvalid_0's l1: 0.133052\n"
          ]
        },
        {
          "name": "stderr",
          "output_type": "stream",
          "text": [
            "\u001b[32m[I 2023-02-23 08:31:43,830]\u001b[0m Trial 38 finished with value: 0.16509207338904425 and parameters: {'learning_rate': 0.15126653154457576, 'num_leaves': 787, 'colsample': 0.27126020835504283, 'subsample': 0.276227276207594, 'max_depth': 60, 'min_child_samples': 1465, 'reg_alpha': 0.1196420177090788, 'reg_lambda': 6.376895029462304e-05, 'cat_smooth': 50}. Best is trial 24 with value: 0.1593432919004833.\u001b[0m\n"
          ]
        },
        {
          "name": "stdout",
          "output_type": "stream",
          "text": [
            "Training until validation scores don't improve for 100 rounds.\n",
            "Early stopping, best iteration is:\n",
            "[164]\tvalid_0's l1: 0.194889\n",
            "Training until validation scores don't improve for 100 rounds.\n",
            "Early stopping, best iteration is:\n",
            "[579]\tvalid_0's l1: 0.136191\n"
          ]
        },
        {
          "name": "stderr",
          "output_type": "stream",
          "text": [
            "\u001b[32m[I 2023-02-23 08:32:55,592]\u001b[0m Trial 39 finished with value: 0.16553963119431978 and parameters: {'learning_rate': 0.06332004136861112, 'num_leaves': 62, 'colsample': 0.2420800258003954, 'subsample': 0.24198445370456337, 'max_depth': 45, 'min_child_samples': 992, 'reg_alpha': 0.5433878840776917, 'reg_lambda': 0.0002988381252927917, 'cat_smooth': 74}. Best is trial 24 with value: 0.1593432919004833.\u001b[0m\n"
          ]
        },
        {
          "name": "stdout",
          "output_type": "stream",
          "text": [
            "Training until validation scores don't improve for 100 rounds.\n",
            "Early stopping, best iteration is:\n",
            "[80]\tvalid_0's l1: 0.197012\n",
            "Training until validation scores don't improve for 100 rounds.\n",
            "Early stopping, best iteration is:\n",
            "[242]\tvalid_0's l1: 0.141664\n"
          ]
        },
        {
          "name": "stderr",
          "output_type": "stream",
          "text": [
            "\u001b[32m[I 2023-02-23 08:33:38,562]\u001b[0m Trial 40 finished with value: 0.16933803946689208 and parameters: {'learning_rate': 0.09402003382187243, 'num_leaves': 516, 'colsample': 0.29059361722829896, 'subsample': 0.1945475639518572, 'max_depth': 30, 'min_child_samples': 1972, 'reg_alpha': 4.043500564580962, 'reg_lambda': 0.00203545016063392, 'cat_smooth': 78}. Best is trial 24 with value: 0.1593432919004833.\u001b[0m\n"
          ]
        },
        {
          "name": "stdout",
          "output_type": "stream",
          "text": [
            "Training until validation scores don't improve for 100 rounds.\n",
            "Early stopping, best iteration is:\n",
            "[444]\tvalid_0's l1: 0.188075\n",
            "Training until validation scores don't improve for 100 rounds.\n",
            "Early stopping, best iteration is:\n",
            "[2012]\tvalid_0's l1: 0.135052\n"
          ]
        },
        {
          "name": "stderr",
          "output_type": "stream",
          "text": [
            "\u001b[32m[I 2023-02-23 08:36:16,729]\u001b[0m Trial 41 finished with value: 0.16156361639970668 and parameters: {'learning_rate': 0.05286929944396793, 'num_leaves': 11, 'colsample': 0.2850673936413972, 'subsample': 0.24898979610791663, 'max_depth': 16, 'min_child_samples': 1672, 'reg_alpha': 1.8377001742445103, 'reg_lambda': 0.00045838782985148043, 'cat_smooth': 84}. Best is trial 24 with value: 0.1593432919004833.\u001b[0m\n"
          ]
        },
        {
          "name": "stdout",
          "output_type": "stream",
          "text": [
            "Training until validation scores don't improve for 100 rounds.\n",
            "Early stopping, best iteration is:\n",
            "[234]\tvalid_0's l1: 0.193557\n",
            "Training until validation scores don't improve for 100 rounds.\n",
            "Early stopping, best iteration is:\n",
            "[1313]\tvalid_0's l1: 0.133695\n"
          ]
        },
        {
          "name": "stderr",
          "output_type": "stream",
          "text": [
            "\u001b[32m[I 2023-02-23 08:39:28,562]\u001b[0m Trial 42 finished with value: 0.1636258481071845 and parameters: {'learning_rate': 0.06068568926839374, 'num_leaves': 79, 'colsample': 0.27320071472127355, 'subsample': 0.2526472145645069, 'max_depth': 11, 'min_child_samples': 1630, 'reg_alpha': 1.0461669254957762, 'reg_lambda': 0.00012056393762149819, 'cat_smooth': 85}. Best is trial 24 with value: 0.1593432919004833.\u001b[0m\n"
          ]
        },
        {
          "name": "stdout",
          "output_type": "stream",
          "text": [
            "Training until validation scores don't improve for 100 rounds.\n",
            "Early stopping, best iteration is:\n",
            "[233]\tvalid_0's l1: 0.187712\n",
            "Training until validation scores don't improve for 100 rounds.\n",
            "Early stopping, best iteration is:\n",
            "[646]\tvalid_0's l1: 0.140291\n"
          ]
        },
        {
          "name": "stderr",
          "output_type": "stream",
          "text": [
            "\u001b[32m[I 2023-02-23 08:40:22,703]\u001b[0m Trial 43 finished with value: 0.1640015009768463 and parameters: {'learning_rate': 0.08732214608837942, 'num_leaves': 10, 'colsample': 0.28949274676614484, 'subsample': 0.2480207889323446, 'max_depth': 22, 'min_child_samples': 1879, 'reg_alpha': 2.7173802418066506, 'reg_lambda': 0.0003889454360200501, 'cat_smooth': 97}. Best is trial 24 with value: 0.1593432919004833.\u001b[0m\n"
          ]
        },
        {
          "name": "stdout",
          "output_type": "stream",
          "text": [
            "Training until validation scores don't improve for 100 rounds.\n",
            "Early stopping, best iteration is:\n",
            "[110]\tvalid_0's l1: 0.195282\n",
            "Training until validation scores don't improve for 100 rounds.\n",
            "Early stopping, best iteration is:\n",
            "[1009]\tvalid_0's l1: 0.129359\n"
          ]
        },
        {
          "name": "stderr",
          "output_type": "stream",
          "text": [
            "\u001b[32m[I 2023-02-23 08:42:29,680]\u001b[0m Trial 44 finished with value: 0.16232015549290824 and parameters: {'learning_rate': 0.07349739739325742, 'num_leaves': 127, 'colsample': 0.2868896536646088, 'subsample': 0.22582156431756856, 'max_depth': 13, 'min_child_samples': 1297, 'reg_alpha': 9.447545707288151, 'reg_lambda': 0.0009302374741497433, 'cat_smooth': 66}. Best is trial 24 with value: 0.1593432919004833.\u001b[0m\n"
          ]
        },
        {
          "name": "stdout",
          "output_type": "stream",
          "text": [
            "Training until validation scores don't improve for 100 rounds.\n",
            "Early stopping, best iteration is:\n",
            "[465]\tvalid_0's l1: 0.192588\n",
            "Training until validation scores don't improve for 100 rounds.\n",
            "Early stopping, best iteration is:\n",
            "[1363]\tvalid_0's l1: 0.134467\n"
          ]
        },
        {
          "name": "stderr",
          "output_type": "stream",
          "text": [
            "\u001b[32m[I 2023-02-23 08:45:31,451]\u001b[0m Trial 45 finished with value: 0.16352787291158888 and parameters: {'learning_rate': 0.05634186910968471, 'num_leaves': 68, 'colsample': 0.25524616412006645, 'subsample': 0.23580829182636986, 'max_depth': 7, 'min_child_samples': 1609, 'reg_alpha': 0.24351727753681232, 'reg_lambda': 2.8727307670898756e-05, 'cat_smooth': 90}. Best is trial 24 with value: 0.1593432919004833.\u001b[0m\n"
          ]
        },
        {
          "name": "stdout",
          "output_type": "stream",
          "text": [
            "Training until validation scores don't improve for 100 rounds.\n",
            "Early stopping, best iteration is:\n",
            "[242]\tvalid_0's l1: 0.196562\n",
            "Training until validation scores don't improve for 100 rounds.\n",
            "Early stopping, best iteration is:\n",
            "[242]\tvalid_0's l1: 0.142556\n"
          ]
        },
        {
          "name": "stderr",
          "output_type": "stream",
          "text": [
            "\u001b[32m[I 2023-02-23 08:46:40,684]\u001b[0m Trial 46 finished with value: 0.16955911955228142 and parameters: {'learning_rate': 0.10008691011966464, 'num_leaves': 214, 'colsample': 0.26779961124457036, 'subsample': 0.23754321438953502, 'max_depth': 34, 'min_child_samples': 1789, 'reg_alpha': 0.09050171594035605, 'reg_lambda': 0.00015018723189115412, 'cat_smooth': 79}. Best is trial 24 with value: 0.1593432919004833.\u001b[0m\n"
          ]
        },
        {
          "name": "stdout",
          "output_type": "stream",
          "text": [
            "Training until validation scores don't improve for 100 rounds.\n",
            "Early stopping, best iteration is:\n",
            "[410]\tvalid_0's l1: 0.195081\n",
            "Training until validation scores don't improve for 100 rounds.\n",
            "Early stopping, best iteration is:\n",
            "[688]\tvalid_0's l1: 0.12967\n"
          ]
        },
        {
          "name": "stderr",
          "output_type": "stream",
          "text": [
            "\u001b[32m[I 2023-02-23 08:49:07,384]\u001b[0m Trial 47 finished with value: 0.1623755221464097 and parameters: {'learning_rate': 0.055594377420922936, 'num_leaves': 445, 'colsample': 0.2778699751921659, 'subsample': 0.2175572623831378, 'max_depth': 47, 'min_child_samples': 381, 'reg_alpha': 3.802528094759432, 'reg_lambda': 0.006269025973190737, 'cat_smooth': 61}. Best is trial 24 with value: 0.1593432919004833.\u001b[0m\n"
          ]
        },
        {
          "name": "stdout",
          "output_type": "stream",
          "text": [
            "Training until validation scores don't improve for 100 rounds.\n",
            "Early stopping, best iteration is:\n",
            "[348]\tvalid_0's l1: 0.194135\n",
            "Training until validation scores don't improve for 100 rounds.\n",
            "Early stopping, best iteration is:\n",
            "[1578]\tvalid_0's l1: 0.133583\n"
          ]
        },
        {
          "name": "stderr",
          "output_type": "stream",
          "text": [
            "\u001b[32m[I 2023-02-23 08:53:39,084]\u001b[0m Trial 48 finished with value: 0.1638588929287455 and parameters: {'learning_rate': 0.04169889573242881, 'num_leaves': 147, 'colsample': 0.29902365696966077, 'subsample': 0.27751182411029085, 'max_depth': 25, 'min_child_samples': 1413, 'reg_alpha': 0.5733751904736959, 'reg_lambda': 0.00027310493580889764, 'cat_smooth': 44}. Best is trial 24 with value: 0.1593432919004833.\u001b[0m\n"
          ]
        },
        {
          "name": "stdout",
          "output_type": "stream",
          "text": [
            "Training until validation scores don't improve for 100 rounds.\n",
            "Early stopping, best iteration is:\n",
            "[109]\tvalid_0's l1: 0.193253\n",
            "Training until validation scores don't improve for 100 rounds.\n",
            "Early stopping, best iteration is:\n",
            "[683]\tvalid_0's l1: 0.12973\n"
          ]
        },
        {
          "name": "stderr",
          "output_type": "stream",
          "text": [
            "\u001b[32m[I 2023-02-23 08:55:11,091]\u001b[0m Trial 49 finished with value: 0.16149149020210576 and parameters: {'learning_rate': 0.08049577189315713, 'num_leaves': 55, 'colsample': 0.29097948024249304, 'subsample': 0.26180833476028403, 'max_depth': 38, 'min_child_samples': 1179, 'reg_alpha': 1.0305329192656145, 'reg_lambda': 5.216213075437172e-05, 'cat_smooth': 68}. Best is trial 24 with value: 0.1593432919004833.\u001b[0m\n"
          ]
        },
        {
          "name": "stdout",
          "output_type": "stream",
          "text": [
            "{'learning_rate': 0.0837251233300163, 'num_leaves': 14, 'colsample': 0.2519609974455761, 'subsample': 0.22023904500698124, 'max_depth': 26, 'min_child_samples': 1315, 'reg_alpha': 1.4091185689346732, 'reg_lambda': 0.00044544464786994164, 'cat_smooth': 68}\n"
          ]
        }
      ],
      "source": [
        "N_split = 2\n",
        "kf = KFold(n_splits=N_split)\n",
        "def objective(trial):\n",
        "    params = {\n",
        "        'objective': 'regression',\n",
        "        'boosting_type': 'gbdt',\n",
        "        'metric': 'mae',\n",
        "        'learning_rate': trial.suggest_float(\"learning_rate\", 0.04,0.4),\n",
        "        'num_leaves': trial.suggest_int('num_leaves', 10, 1000),\n",
        "        'colsample_bytree':trial.suggest_float(\"colsample\", 0.1,0.3),\n",
        "        'subsample': trial.suggest_float(\"subsample\", 0.1,0.3),\n",
        "        'max_depth': trial.suggest_int('max_depth', 3, 100),\n",
        "        'min_child_samples': trial.suggest_int('min_child_samples', 3, 2000),\n",
        "        'reg_alpha': trial.suggest_loguniform('reg_alpha', 1e-8, 10.0),\n",
        "        'reg_lambda': trial.suggest_loguniform('reg_lambda', 1e-8, 1.0),\n",
        "        'cat_smooth':trial.suggest_int('cat_smooth', 1, 100),\n",
        "        'seed': 42,\n",
        "        'n_estimators':20000\n",
        "    }\n",
        "            \n",
        "\n",
        "    score_list = []\n",
        "\n",
        "    for fold, (train_idx, val_idx) in enumerate(kf.split(train_X, train_Y)):\n",
        "        X_train = train_X.loc[train_idx][cols]\n",
        "        X_valid = train_X.iloc[val_idx][cols]\n",
        "        \n",
        "       \n",
        "        X_train_f = X_train\n",
        "        Y_train = train_Y.loc[train_idx].values\n",
        "\n",
        "        X_valid_f = X_valid\n",
        "        Y_valid = train_Y.loc[val_idx].values\n",
        "\n",
        "\n",
        "        model = lgb.LGBMRegressor(**params) \n",
        "        model.fit(        \n",
        "                X_train_f,\n",
        "                Y_train,\n",
        "                eval_set =[( X_valid_f,Y_valid)],\n",
        "                verbose =-1,\n",
        "                early_stopping_rounds = 100)\n",
        "\n",
        "        Y_valid_pred = model.predict(X_valid_f)\n",
        "        score = mean_absolute_error(Y_valid, Y_valid_pred)\n",
        "        score_list.append(score)\n",
        "        \n",
        "    return sum(score_list) / len(score_list)\n",
        "\n",
        "try:\n",
        "    cols = cols.drop('取引価格（総額）_log')\n",
        "except:\n",
        "    pass\n",
        "lgb_study = optuna.create_study(direction='minimize')\n",
        "lgb_study.optimize(objective, n_trials=50)\n",
        "print(lgb_study.best_params)"
      ]
    },
    {
      "cell_type": "code",
      "execution_count": 32,
      "metadata": {
        "colab": {
          "base_uri": "https://localhost:8080/"
        },
        "id": "dfUT7JcwDbHP",
        "outputId": "8bcd9bec-7630-437d-dde6-e233c0ad656e"
      },
      "outputs": [
        {
          "name": "stdout",
          "output_type": "stream",
          "text": [
            "Training until validation scores don't improve for 100 rounds.\n",
            "[100]\tvalid_0's l1: 0.113018\n",
            "[200]\tvalid_0's l1: 0.105235\n",
            "[300]\tvalid_0's l1: 0.101577\n",
            "[400]\tvalid_0's l1: 0.099644\n",
            "[500]\tvalid_0's l1: 0.0982813\n",
            "[600]\tvalid_0's l1: 0.0971826\n",
            "[700]\tvalid_0's l1: 0.0964475\n",
            "[800]\tvalid_0's l1: 0.0958195\n",
            "[900]\tvalid_0's l1: 0.095318\n",
            "[1000]\tvalid_0's l1: 0.0948822\n",
            "[1100]\tvalid_0's l1: 0.0945144\n",
            "[1200]\tvalid_0's l1: 0.0941622\n",
            "[1300]\tvalid_0's l1: 0.093882\n",
            "[1400]\tvalid_0's l1: 0.0936191\n",
            "[1500]\tvalid_0's l1: 0.0933948\n",
            "[1600]\tvalid_0's l1: 0.0931739\n",
            "[1700]\tvalid_0's l1: 0.0929672\n",
            "[1800]\tvalid_0's l1: 0.0928075\n",
            "[1900]\tvalid_0's l1: 0.0926632\n",
            "[2000]\tvalid_0's l1: 0.0924846\n",
            "[2100]\tvalid_0's l1: 0.0923342\n",
            "[2200]\tvalid_0's l1: 0.0922213\n",
            "[2300]\tvalid_0's l1: 0.0921135\n",
            "[2400]\tvalid_0's l1: 0.091959\n",
            "[2500]\tvalid_0's l1: 0.0918303\n",
            "[2600]\tvalid_0's l1: 0.0917259\n",
            "[2700]\tvalid_0's l1: 0.0915906\n",
            "[2800]\tvalid_0's l1: 0.0914649\n",
            "[2900]\tvalid_0's l1: 0.0913756\n",
            "[3000]\tvalid_0's l1: 0.0912818\n",
            "[3100]\tvalid_0's l1: 0.0912086\n",
            "[3200]\tvalid_0's l1: 0.0911315\n",
            "[3300]\tvalid_0's l1: 0.0910621\n",
            "[3400]\tvalid_0's l1: 0.0909791\n",
            "[3500]\tvalid_0's l1: 0.0908979\n",
            "[3600]\tvalid_0's l1: 0.0908119\n",
            "[3700]\tvalid_0's l1: 0.0907458\n",
            "[3800]\tvalid_0's l1: 0.0906902\n",
            "[3900]\tvalid_0's l1: 0.0906181\n",
            "[4000]\tvalid_0's l1: 0.0905441\n",
            "[4100]\tvalid_0's l1: 0.0904629\n",
            "[4200]\tvalid_0's l1: 0.0904122\n",
            "[4300]\tvalid_0's l1: 0.0903465\n",
            "[4400]\tvalid_0's l1: 0.0902898\n",
            "[4500]\tvalid_0's l1: 0.090224\n",
            "[4600]\tvalid_0's l1: 0.0901663\n",
            "[4700]\tvalid_0's l1: 0.0901212\n",
            "[4800]\tvalid_0's l1: 0.0900759\n",
            "[4900]\tvalid_0's l1: 0.0900213\n",
            "[5000]\tvalid_0's l1: 0.0899687\n",
            "[5100]\tvalid_0's l1: 0.0899185\n",
            "[5200]\tvalid_0's l1: 0.0898788\n",
            "[5300]\tvalid_0's l1: 0.0898397\n",
            "[5400]\tvalid_0's l1: 0.0897998\n",
            "[5500]\tvalid_0's l1: 0.0897456\n",
            "[5600]\tvalid_0's l1: 0.0897116\n",
            "[5700]\tvalid_0's l1: 0.0896696\n",
            "[5800]\tvalid_0's l1: 0.0896273\n",
            "[5900]\tvalid_0's l1: 0.0895931\n",
            "[6000]\tvalid_0's l1: 0.0895519\n",
            "[6100]\tvalid_0's l1: 0.0895156\n",
            "[6200]\tvalid_0's l1: 0.0894672\n",
            "[6300]\tvalid_0's l1: 0.0894338\n",
            "[6400]\tvalid_0's l1: 0.0893911\n",
            "[6500]\tvalid_0's l1: 0.0893438\n",
            "[6600]\tvalid_0's l1: 0.0893075\n",
            "[6700]\tvalid_0's l1: 0.0892777\n",
            "[6800]\tvalid_0's l1: 0.0892397\n",
            "[6900]\tvalid_0's l1: 0.0892121\n",
            "[7000]\tvalid_0's l1: 0.0891692\n",
            "[7100]\tvalid_0's l1: 0.0891335\n",
            "[7200]\tvalid_0's l1: 0.0891017\n",
            "[7300]\tvalid_0's l1: 0.089077\n",
            "[7400]\tvalid_0's l1: 0.089047\n",
            "[7500]\tvalid_0's l1: 0.0890223\n",
            "[7600]\tvalid_0's l1: 0.088995\n",
            "[7700]\tvalid_0's l1: 0.0889535\n",
            "[7800]\tvalid_0's l1: 0.0889235\n",
            "[7900]\tvalid_0's l1: 0.0888897\n",
            "[8000]\tvalid_0's l1: 0.0888619\n",
            "[8100]\tvalid_0's l1: 0.0888446\n",
            "[8200]\tvalid_0's l1: 0.0888171\n",
            "[8300]\tvalid_0's l1: 0.0887891\n",
            "[8400]\tvalid_0's l1: 0.0887578\n",
            "[8500]\tvalid_0's l1: 0.0887225\n",
            "[8600]\tvalid_0's l1: 0.0886962\n",
            "[8700]\tvalid_0's l1: 0.0886756\n",
            "[8800]\tvalid_0's l1: 0.0886472\n",
            "[8900]\tvalid_0's l1: 0.0886178\n",
            "[9000]\tvalid_0's l1: 0.0885989\n",
            "[9100]\tvalid_0's l1: 0.0885692\n",
            "[9200]\tvalid_0's l1: 0.0885415\n",
            "[9300]\tvalid_0's l1: 0.0885191\n",
            "[9400]\tvalid_0's l1: 0.0884992\n",
            "[9500]\tvalid_0's l1: 0.0884723\n",
            "[9600]\tvalid_0's l1: 0.0884536\n",
            "[9700]\tvalid_0's l1: 0.0884288\n",
            "[9800]\tvalid_0's l1: 0.0884008\n",
            "[9900]\tvalid_0's l1: 0.0883766\n",
            "[10000]\tvalid_0's l1: 0.0883603\n",
            "[10100]\tvalid_0's l1: 0.0883414\n",
            "[10200]\tvalid_0's l1: 0.0883179\n",
            "[10300]\tvalid_0's l1: 0.0882968\n",
            "[10400]\tvalid_0's l1: 0.0882777\n",
            "[10500]\tvalid_0's l1: 0.0882623\n",
            "[10600]\tvalid_0's l1: 0.0882467\n",
            "[10700]\tvalid_0's l1: 0.0882296\n",
            "[10800]\tvalid_0's l1: 0.0882154\n",
            "[10900]\tvalid_0's l1: 0.0882012\n",
            "[11000]\tvalid_0's l1: 0.0881844\n",
            "[11100]\tvalid_0's l1: 0.0881661\n",
            "[11200]\tvalid_0's l1: 0.0881426\n",
            "[11300]\tvalid_0's l1: 0.0881298\n",
            "[11400]\tvalid_0's l1: 0.088115\n",
            "[11500]\tvalid_0's l1: 0.088109\n",
            "[11600]\tvalid_0's l1: 0.0880958\n",
            "[11700]\tvalid_0's l1: 0.08808\n",
            "[11800]\tvalid_0's l1: 0.0880595\n",
            "[11900]\tvalid_0's l1: 0.0880418\n",
            "[12000]\tvalid_0's l1: 0.0880263\n",
            "[12100]\tvalid_0's l1: 0.0880126\n",
            "[12200]\tvalid_0's l1: 0.0879953\n",
            "[12300]\tvalid_0's l1: 0.0879806\n",
            "[12400]\tvalid_0's l1: 0.0879673\n",
            "[12500]\tvalid_0's l1: 0.087949\n",
            "[12600]\tvalid_0's l1: 0.0879259\n",
            "[12700]\tvalid_0's l1: 0.0879048\n",
            "[12800]\tvalid_0's l1: 0.0878813\n",
            "[12900]\tvalid_0's l1: 0.0878703\n",
            "[13000]\tvalid_0's l1: 0.0878555\n",
            "[13100]\tvalid_0's l1: 0.0878327\n",
            "[13200]\tvalid_0's l1: 0.0878134\n",
            "[13300]\tvalid_0's l1: 0.0877967\n",
            "[13400]\tvalid_0's l1: 0.0877812\n",
            "[13500]\tvalid_0's l1: 0.0877609\n",
            "[13600]\tvalid_0's l1: 0.0877467\n",
            "[13700]\tvalid_0's l1: 0.0877305\n",
            "[13800]\tvalid_0's l1: 0.0877145\n",
            "[13900]\tvalid_0's l1: 0.0877015\n",
            "[14000]\tvalid_0's l1: 0.0876902\n",
            "[14100]\tvalid_0's l1: 0.0876776\n",
            "[14200]\tvalid_0's l1: 0.0876581\n",
            "[14300]\tvalid_0's l1: 0.0876449\n",
            "[14400]\tvalid_0's l1: 0.0876287\n",
            "[14500]\tvalid_0's l1: 0.087617\n",
            "[14600]\tvalid_0's l1: 0.0876063\n",
            "[14700]\tvalid_0's l1: 0.0875948\n",
            "[14800]\tvalid_0's l1: 0.0875851\n",
            "[14900]\tvalid_0's l1: 0.0875715\n",
            "[15000]\tvalid_0's l1: 0.0875573\n",
            "[15100]\tvalid_0's l1: 0.0875472\n",
            "[15200]\tvalid_0's l1: 0.0875349\n",
            "[15300]\tvalid_0's l1: 0.0875217\n",
            "[15400]\tvalid_0's l1: 0.0875117\n",
            "[15500]\tvalid_0's l1: 0.0874974\n",
            "[15600]\tvalid_0's l1: 0.0874876\n",
            "[15700]\tvalid_0's l1: 0.0874748\n",
            "[15800]\tvalid_0's l1: 0.0874687\n",
            "[15900]\tvalid_0's l1: 0.0874574\n",
            "[16000]\tvalid_0's l1: 0.0874462\n",
            "[16100]\tvalid_0's l1: 0.087432\n",
            "[16200]\tvalid_0's l1: 0.0874166\n",
            "[16300]\tvalid_0's l1: 0.0874059\n",
            "[16400]\tvalid_0's l1: 0.0873976\n",
            "[16500]\tvalid_0's l1: 0.0873829\n",
            "[16600]\tvalid_0's l1: 0.0873716\n",
            "[16700]\tvalid_0's l1: 0.0873609\n",
            "[16800]\tvalid_0's l1: 0.0873547\n",
            "[16900]\tvalid_0's l1: 0.08734\n",
            "[17000]\tvalid_0's l1: 0.0873287\n",
            "[17100]\tvalid_0's l1: 0.0873151\n",
            "[17200]\tvalid_0's l1: 0.0873036\n",
            "[17300]\tvalid_0's l1: 0.0872893\n",
            "[17400]\tvalid_0's l1: 0.0872749\n",
            "[17500]\tvalid_0's l1: 0.0872664\n",
            "[17600]\tvalid_0's l1: 0.087256\n",
            "[17700]\tvalid_0's l1: 0.0872467\n",
            "[17800]\tvalid_0's l1: 0.0872384\n",
            "[17900]\tvalid_0's l1: 0.0872279\n",
            "[18000]\tvalid_0's l1: 0.0872212\n",
            "[18100]\tvalid_0's l1: 0.0872182\n",
            "[18200]\tvalid_0's l1: 0.0872091\n",
            "[18300]\tvalid_0's l1: 0.0871964\n",
            "[18400]\tvalid_0's l1: 0.0871896\n",
            "[18500]\tvalid_0's l1: 0.08718\n",
            "[18600]\tvalid_0's l1: 0.0871685\n",
            "[18700]\tvalid_0's l1: 0.0871606\n",
            "[18800]\tvalid_0's l1: 0.0871522\n",
            "[18900]\tvalid_0's l1: 0.0871419\n",
            "[19000]\tvalid_0's l1: 0.087133\n",
            "[19100]\tvalid_0's l1: 0.0871254\n",
            "[19200]\tvalid_0's l1: 0.0871144\n",
            "[19300]\tvalid_0's l1: 0.0870997\n",
            "[19400]\tvalid_0's l1: 0.0870909\n",
            "[19500]\tvalid_0's l1: 0.0870816\n",
            "[19600]\tvalid_0's l1: 0.0870752\n",
            "[19700]\tvalid_0's l1: 0.0870695\n",
            "[19800]\tvalid_0's l1: 0.0870586\n",
            "[19900]\tvalid_0's l1: 0.0870467\n",
            "[20000]\tvalid_0's l1: 0.0870401\n",
            "Did not meet early stopping. Best iteration is:\n",
            "[20000]\tvalid_0's l1: 0.0870401\n"
          ]
        },
        {
          "data": {
            "text/plain": [
              "LGBMRegressor(cat_smooth=68, colsample=0.2519609974455761,\n",
              "              learning_rate=0.0837251233300163, max_depth=26, metric='mae',\n",
              "              min_child_samples=1315, n_estimators=20000, num_leaves=14,\n",
              "              objective='regression', reg_alpha=1.4091185689346732,\n",
              "              reg_lambda=0.00044544464786994164, seed=42,\n",
              "              subsample=0.22023904500698124, task='train')"
            ]
          },
          "execution_count": 32,
          "metadata": {},
          "output_type": "execute_result"
        }
      ],
      "source": [
        "lgb_best_params = lgb_study.best_params\n",
        "add_params = {\n",
        "        'objective':'regression', \n",
        "        'metric': 'mae', \n",
        "        'task': 'train', \n",
        "        'seed': 42,\n",
        "        'n_estimators':20000\n",
        "        }\n",
        "lgb_best_params.update(add_params)\n",
        "\n",
        "X_train, X_eval, Y_train, Y_eval = train_test_split(train_X, train_Y, test_size=0.2, random_state=0)\n",
        "model_lgb = lgb.LGBMRegressor(**lgb_best_params) \n",
        "model_lgb.fit(        \n",
        "        X_train,\n",
        "        Y_train,\n",
        "        eval_set =[( X_eval,Y_eval)],\n",
        "        verbose =100,\n",
        "        early_stopping_rounds = 100\n",
        ")\n",
        "\n"
      ]
    },
    {
      "cell_type": "code",
      "execution_count": 33,
      "metadata": {
        "colab": {
          "base_uri": "https://localhost:8080/"
        },
        "id": "iahexd3vNDeb",
        "outputId": "a3b1f441-4b25-47c2-b3c8-2d1a1ce90405"
      },
      "outputs": [
        {
          "name": "stderr",
          "output_type": "stream",
          "text": [
            "\u001b[32m[I 2023-02-23 09:07:59,291]\u001b[0m A new study created in memory with name: no-name-8b5b058a-8131-4489-87e1-0e1691cd5055\u001b[0m\n",
            "\u001b[32m[I 2023-02-23 09:08:26,587]\u001b[0m Trial 0 finished with value: 3.222682758678462 and parameters: {'grow_policy': 'lossguide', 'learning_rate': 0.017545098754160104, 'max_depth': 12, 'reg_alpha': 2.0242666203226682, 'reg_lambda': 0.6711966148107298, 'max_delta_step': 2, 'min_child_weight': 60, 'colsample_bytree': 0.5973255374135359, 'subsample': 0.43245090636081107, 'max_leaves': 98}. Best is trial 0 with value: 3.222682758678462.\u001b[0m\n",
            "\u001b[32m[I 2023-02-23 09:08:54,008]\u001b[0m Trial 1 finished with value: 2.455235322046791 and parameters: {'grow_policy': 'depthwise', 'learning_rate': 0.02138284019623518, 'max_depth': 20, 'reg_alpha': 4.525762796993912, 'reg_lambda': 1.4871898933121561, 'max_delta_step': 2, 'min_child_weight': 248, 'colsample_bytree': 0.7566611692173605, 'subsample': 0.7563606057047738}. Best is trial 1 with value: 2.455235322046791.\u001b[0m\n",
            "\u001b[32m[I 2023-02-23 09:09:33,248]\u001b[0m Trial 2 finished with value: 1.3915723782476592 and parameters: {'grow_policy': 'lossguide', 'learning_rate': 0.017230057823255054, 'max_depth': 8, 'reg_alpha': 2.491547695790772, 'reg_lambda': 4.652522590586768e-13, 'max_delta_step': 4, 'min_child_weight': 1, 'colsample_bytree': 0.4020780533519996, 'subsample': 0.581138266710952, 'max_leaves': 36}. Best is trial 2 with value: 1.3915723782476592.\u001b[0m\n",
            "\u001b[32m[I 2023-02-23 09:10:19,160]\u001b[0m Trial 3 finished with value: 0.16328233119318936 and parameters: {'grow_policy': 'depthwise', 'learning_rate': 0.16098260599279124, 'max_depth': 7, 'reg_alpha': 3.185061935051882, 'reg_lambda': 0.21356865026346367, 'max_delta_step': 4, 'min_child_weight': 230, 'colsample_bytree': 0.912473946077302, 'subsample': 0.6992828730323557}. Best is trial 3 with value: 0.16328233119318936.\u001b[0m\n",
            "\u001b[32m[I 2023-02-23 09:10:46,371]\u001b[0m Trial 4 finished with value: 3.3082061656907364 and parameters: {'grow_policy': 'depthwise', 'learning_rate': 0.0114122226311866, 'max_depth': 10, 'reg_alpha': 2.1714399016988124, 'reg_lambda': 1.4617138292680217e-11, 'max_delta_step': 3, 'min_child_weight': 32, 'colsample_bytree': 0.48014750244273385, 'subsample': 0.7101074836749689}. Best is trial 3 with value: 0.16328233119318936.\u001b[0m\n",
            "\u001b[32m[I 2023-02-23 09:11:30,095]\u001b[0m Trial 5 finished with value: 0.1674544563054327 and parameters: {'grow_policy': 'depthwise', 'learning_rate': 0.06227229454420408, 'max_depth': 11, 'reg_alpha': 4.703140463039347, 'reg_lambda': 3.568130726211641e-14, 'max_delta_step': 2, 'min_child_weight': 44, 'colsample_bytree': 0.6507097588288838, 'subsample': 0.47036532149019245}. Best is trial 3 with value: 0.16328233119318936.\u001b[0m\n",
            "\u001b[32m[I 2023-02-23 09:12:18,240]\u001b[0m Trial 6 finished with value: 2.2192385919126396 and parameters: {'grow_policy': 'lossguide', 'learning_rate': 0.010868115237463161, 'max_depth': 13, 'reg_alpha': 4.459112082149052, 'reg_lambda': 1.300160921417749e-09, 'max_delta_step': 10, 'min_child_weight': 89, 'colsample_bytree': 0.6224902336567392, 'subsample': 0.6822800412358607, 'max_leaves': 77}. Best is trial 3 with value: 0.16328233119318936.\u001b[0m\n",
            "\u001b[32m[I 2023-02-23 09:12:53,644]\u001b[0m Trial 7 finished with value: 0.17891052026030208 and parameters: {'grow_policy': 'depthwise', 'learning_rate': 0.06757059728842751, 'max_depth': 4, 'reg_alpha': 4.012980354637829, 'reg_lambda': 1.8128585883506833e-05, 'max_delta_step': 2, 'min_child_weight': 160, 'colsample_bytree': 0.7071290875990914, 'subsample': 0.4842325917882126}. Best is trial 3 with value: 0.16328233119318936.\u001b[0m\n",
            "\u001b[32m[I 2023-02-23 09:13:22,128]\u001b[0m Trial 8 finished with value: 2.8852258791941043 and parameters: {'grow_policy': 'lossguide', 'learning_rate': 0.01284447035217742, 'max_depth': 20, 'reg_alpha': 2.51046816480471, 'reg_lambda': 2.5879071770273306e-10, 'max_delta_step': 3, 'min_child_weight': 152, 'colsample_bytree': 0.6659671933208056, 'subsample': 0.7157908002114615, 'max_leaves': 62}. Best is trial 3 with value: 0.16328233119318936.\u001b[0m\n",
            "\u001b[32m[I 2023-02-23 09:14:11,216]\u001b[0m Trial 9 finished with value: 0.16184002951559012 and parameters: {'grow_policy': 'lossguide', 'learning_rate': 0.1816081428684306, 'max_depth': 14, 'reg_alpha': 6.032897224695706, 'reg_lambda': 1.9721924365982005e-07, 'max_delta_step': 4, 'min_child_weight': 144, 'colsample_bytree': 0.5025661481136247, 'subsample': 0.6905015995296391, 'max_leaves': 40}. Best is trial 9 with value: 0.16184002951559012.\u001b[0m\n",
            "\u001b[32m[I 2023-02-23 09:14:43,980]\u001b[0m Trial 10 finished with value: 0.17354429344683373 and parameters: {'grow_policy': 'lossguide', 'learning_rate': 0.19409781843768123, 'max_depth': 16, 'reg_alpha': 8.71701946958985, 'reg_lambda': 2.1811229014999956e-06, 'max_delta_step': 7, 'min_child_weight': 300, 'colsample_bytree': 0.5311225233909512, 'subsample': 0.9716153170653501, 'max_leaves': 3}. Best is trial 9 with value: 0.16184002951559012.\u001b[0m\n",
            "\u001b[32m[I 2023-02-23 09:15:23,548]\u001b[0m Trial 11 finished with value: 0.16197619186065015 and parameters: {'grow_policy': 'depthwise', 'learning_rate': 0.18003205852885068, 'max_depth': 5, 'reg_alpha': 1.2175202305706407, 'reg_lambda': 3.6628464984380165e-05, 'max_delta_step': 6, 'min_child_weight': 206, 'colsample_bytree': 0.9955553176542925, 'subsample': 0.5982858530665203}. Best is trial 9 with value: 0.16184002951559012.\u001b[0m\n",
            "\u001b[32m[I 2023-02-23 09:15:58,897]\u001b[0m Trial 12 finished with value: 0.16658395931955677 and parameters: {'grow_policy': 'lossguide', 'learning_rate': 0.13831477511704374, 'max_depth': 3, 'reg_alpha': 1.1952393032773574, 'reg_lambda': 0.00020436832264046788, 'max_delta_step': 7, 'min_child_weight': 196, 'colsample_bytree': 0.9843195971401448, 'subsample': 0.578938035190342, 'max_leaves': 30}. Best is trial 9 with value: 0.16184002951559012.\u001b[0m\n",
            "\u001b[32m[I 2023-02-23 09:17:02,587]\u001b[0m Trial 13 finished with value: 0.1622115123128674 and parameters: {'grow_policy': 'depthwise', 'learning_rate': 0.11528810092556016, 'max_depth': 15, 'reg_alpha': 1.0736906010646425, 'reg_lambda': 2.2504475774891763e-08, 'max_delta_step': 6, 'min_child_weight': 110, 'colsample_bytree': 0.8335614116886264, 'subsample': 0.564371538929629}. Best is trial 9 with value: 0.16184002951559012.\u001b[0m\n",
            "\u001b[32m[I 2023-02-23 09:17:43,058]\u001b[0m Trial 14 finished with value: 0.16767458452008532 and parameters: {'grow_policy': 'lossguide', 'learning_rate': 0.10289955143177162, 'max_depth': 6, 'reg_alpha': 1.5436888663933293, 'reg_lambda': 1.452989287765865e-07, 'max_delta_step': 9, 'min_child_weight': 189, 'colsample_bytree': 0.9988050331993412, 'subsample': 0.8224823266128077, 'max_leaves': 11}. Best is trial 9 with value: 0.16184002951559012.\u001b[0m\n",
            "\u001b[32m[I 2023-02-23 09:18:42,939]\u001b[0m Trial 15 finished with value: 0.16140996875361088 and parameters: {'grow_policy': 'depthwise', 'learning_rate': 0.18942978158567192, 'max_depth': 16, 'reg_alpha': 7.113111162101178, 'reg_lambda': 0.002019678034425392, 'max_delta_step': 5, 'min_child_weight': 127, 'colsample_bytree': 0.8236937556206348, 'subsample': 0.5189343300678242}. Best is trial 15 with value: 0.16140996875361088.\u001b[0m\n",
            "\u001b[32m[I 2023-02-23 09:19:39,118]\u001b[0m Trial 16 finished with value: 0.16283947826560863 and parameters: {'grow_policy': 'depthwise', 'learning_rate': 0.09475009909474987, 'max_depth': 17, 'reg_alpha': 7.542403493696892, 'reg_lambda': 0.0008234595609154073, 'max_delta_step': 5, 'min_child_weight': 112, 'colsample_bytree': 0.781571704865421, 'subsample': 0.5006928344981499}. Best is trial 15 with value: 0.16140996875361088.\u001b[0m\n",
            "\u001b[32m[I 2023-02-23 09:20:24,375]\u001b[0m Trial 17 finished with value: 0.16343945542614213 and parameters: {'grow_policy': 'lossguide', 'learning_rate': 0.19151874060360793, 'max_depth': 14, 'reg_alpha': 6.411218578918341, 'reg_lambda': 0.012480190473425143, 'max_delta_step': 5, 'min_child_weight': 125, 'colsample_bytree': 0.8462218723437502, 'subsample': 0.4010031843842559, 'max_leaves': 48}. Best is trial 15 with value: 0.16140996875361088.\u001b[0m\n",
            "\u001b[32m[I 2023-02-23 09:21:12,297]\u001b[0m Trial 18 finished with value: 0.22207786509431052 and parameters: {'grow_policy': 'lossguide', 'learning_rate': 0.03565534021488671, 'max_depth': 17, 'reg_alpha': 6.6471904493202025, 'reg_lambda': 1.0719868251972534e-15, 'max_delta_step': 8, 'min_child_weight': 152, 'colsample_bytree': 0.5629672071317396, 'subsample': 0.6397524737801935, 'max_leaves': 74}. Best is trial 15 with value: 0.16140996875361088.\u001b[0m\n",
            "\u001b[32m[I 2023-02-23 09:22:00,110]\u001b[0m Trial 19 finished with value: 0.1636965738522827 and parameters: {'grow_policy': 'depthwise', 'learning_rate': 0.13256465339869325, 'max_depth': 18, 'reg_alpha': 9.314512647332775, 'reg_lambda': 0.008364521742553577, 'max_delta_step': 1, 'min_child_weight': 73, 'colsample_bytree': 0.6980903461481804, 'subsample': 0.5238933233725409}. Best is trial 15 with value: 0.16140996875361088.\u001b[0m\n",
            "\u001b[32m[I 2023-02-23 09:22:52,439]\u001b[0m Trial 20 finished with value: 0.16377490415660786 and parameters: {'grow_policy': 'depthwise', 'learning_rate': 0.09266864014364298, 'max_depth': 10, 'reg_alpha': 5.774647399404869, 'reg_lambda': 1.0971347451119744e-06, 'max_delta_step': 4, 'min_child_weight': 127, 'colsample_bytree': 0.5108693718066745, 'subsample': 0.5274183462837523}. Best is trial 15 with value: 0.16140996875361088.\u001b[0m\n",
            "\u001b[32m[I 2023-02-23 09:23:52,712]\u001b[0m Trial 21 finished with value: 0.16265088941870426 and parameters: {'grow_policy': 'depthwise', 'learning_rate': 0.19760685276403625, 'max_depth': 14, 'reg_alpha': 5.317033440215087, 'reg_lambda': 2.4872308464248517e-05, 'max_delta_step': 6, 'min_child_weight': 189, 'colsample_bytree': 0.9054374475876714, 'subsample': 0.628300325113412}. Best is trial 15 with value: 0.16140996875361088.\u001b[0m\n",
            "\u001b[32m[I 2023-02-23 09:24:42,871]\u001b[0m Trial 22 finished with value: 0.1633018813556788 and parameters: {'grow_policy': 'depthwise', 'learning_rate': 0.15339889194471662, 'max_depth': 9, 'reg_alpha': 9.997501026733582, 'reg_lambda': 0.00019640873717789066, 'max_delta_step': 7, 'min_child_weight': 232, 'colsample_bytree': 0.9207962506006137, 'subsample': 0.6284163781333203}. Best is trial 15 with value: 0.16140996875361088.\u001b[0m\n",
            "\u001b[32m[I 2023-02-23 09:25:37,049]\u001b[0m Trial 23 finished with value: 0.1619156096308807 and parameters: {'grow_policy': 'depthwise', 'learning_rate': 0.13430577135328742, 'max_depth': 13, 'reg_alpha': 7.735807347076837, 'reg_lambda': 5.4910625773322774e-08, 'max_delta_step': 5, 'min_child_weight': 269, 'colsample_bytree': 0.7774469817617315, 'subsample': 0.5426290910397229}. Best is trial 15 with value: 0.16140996875361088.\u001b[0m\n",
            "\u001b[32m[I 2023-02-23 09:26:31,677]\u001b[0m Trial 24 finished with value: 0.16148931031579855 and parameters: {'grow_policy': 'depthwise', 'learning_rate': 0.1309528776561885, 'max_depth': 12, 'reg_alpha': 7.539301072271296, 'reg_lambda': 2.8855543843644386e-08, 'max_delta_step': 5, 'min_child_weight': 253, 'colsample_bytree': 0.7475804319827207, 'subsample': 0.5281715051931193}. Best is trial 15 with value: 0.16140996875361088.\u001b[0m\n",
            "\u001b[32m[I 2023-02-23 09:27:26,698]\u001b[0m Trial 25 finished with value: 0.16292796649511643 and parameters: {'grow_policy': 'depthwise', 'learning_rate': 0.11703800527998479, 'max_depth': 15, 'reg_alpha': 7.5958617898218765, 'reg_lambda': 3.240958451223806e-09, 'max_delta_step': 4, 'min_child_weight': 169, 'colsample_bytree': 0.7068001510553525, 'subsample': 0.48419846326963123}. Best is trial 15 with value: 0.16140996875361088.\u001b[0m\n",
            "\u001b[32m[I 2023-02-23 09:28:08,950]\u001b[0m Trial 26 finished with value: 0.16356272239818942 and parameters: {'grow_policy': 'lossguide', 'learning_rate': 0.1535888169626376, 'max_depth': 18, 'reg_alpha': 6.109506283408643, 'reg_lambda': 2.70165447019073e-07, 'max_delta_step': 3, 'min_child_weight': 291, 'colsample_bytree': 0.7405495585803837, 'subsample': 0.5438925025123192, 'max_leaves': 23}. Best is trial 15 with value: 0.16140996875361088.\u001b[0m\n",
            "\u001b[32m[I 2023-02-23 09:29:02,036]\u001b[0m Trial 27 finished with value: 0.16351068711283734 and parameters: {'grow_policy': 'depthwise', 'learning_rate': 0.08115543290561049, 'max_depth': 12, 'reg_alpha': 8.296910985711325, 'reg_lambda': 3.1944407251572873e-06, 'max_delta_step': 5, 'min_child_weight': 94, 'colsample_bytree': 0.8336031512825226, 'subsample': 0.5098073630046785}. Best is trial 15 with value: 0.16140996875361088.\u001b[0m\n",
            "\u001b[32m[I 2023-02-23 09:29:52,071]\u001b[0m Trial 28 finished with value: 0.16246668724670207 and parameters: {'grow_policy': 'lossguide', 'learning_rate': 0.11487794840322654, 'max_depth': 15, 'reg_alpha': 6.945049770107329, 'reg_lambda': 1.1326666177252623e-08, 'max_delta_step': 8, 'min_child_weight': 132, 'colsample_bytree': 0.6150377630913582, 'subsample': 0.45393748565699094, 'max_leaves': 50}. Best is trial 15 with value: 0.16140996875361088.\u001b[0m\n",
            "\u001b[32m[I 2023-02-23 09:30:35,409]\u001b[0m Trial 29 finished with value: 0.162163836496659 and parameters: {'grow_policy': 'lossguide', 'learning_rate': 0.1626905005803394, 'max_depth': 11, 'reg_alpha': 9.976070424137344, 'reg_lambda': 7.723087140698923, 'max_delta_step': 1, 'min_child_weight': 219, 'colsample_bytree': 0.6455762259183941, 'subsample': 0.4500141386366642, 'max_leaves': 92}. Best is trial 15 with value: 0.16140996875361088.\u001b[0m\n",
            "\u001b[32m[I 2023-02-23 09:31:28,498]\u001b[0m Trial 30 finished with value: 0.162230914762364 and parameters: {'grow_policy': 'depthwise', 'learning_rate': 0.13906309051547386, 'max_depth': 13, 'reg_alpha': 5.442428334612809, 'reg_lambda': 2.359101964882845e-10, 'max_delta_step': 6, 'min_child_weight': 263, 'colsample_bytree': 0.5931175640780904, 'subsample': 0.42790874525295114}. Best is trial 15 with value: 0.16140996875361088.\u001b[0m\n",
            "\u001b[32m[I 2023-02-23 09:32:22,864]\u001b[0m Trial 31 finished with value: 0.16195215658150353 and parameters: {'grow_policy': 'depthwise', 'learning_rate': 0.1345025730292504, 'max_depth': 13, 'reg_alpha': 7.626859476765976, 'reg_lambda': 8.712345226977842e-08, 'max_delta_step': 5, 'min_child_weight': 273, 'colsample_bytree': 0.7973481467783605, 'subsample': 0.5419179588398227}. Best is trial 15 with value: 0.16140996875361088.\u001b[0m\n",
            "\u001b[32m[I 2023-02-23 09:33:16,317]\u001b[0m Trial 32 finished with value: 0.16189330813031916 and parameters: {'grow_policy': 'depthwise', 'learning_rate': 0.1754057021546711, 'max_depth': 12, 'reg_alpha': 8.517946228947373, 'reg_lambda': 8.286852132520497e-08, 'max_delta_step': 4, 'min_child_weight': 247, 'colsample_bytree': 0.7516582104794348, 'subsample': 0.5509145111536281}. Best is trial 15 with value: 0.16140996875361088.\u001b[0m\n",
            "\u001b[32m[I 2023-02-23 09:34:05,295]\u001b[0m Trial 33 finished with value: 0.16242162696812626 and parameters: {'grow_policy': 'depthwise', 'learning_rate': 0.16694318234405947, 'max_depth': 10, 'reg_alpha': 8.723200986181753, 'reg_lambda': 3.4891909162485913e-07, 'max_delta_step': 3, 'min_child_weight': 175, 'colsample_bytree': 0.7386454387110426, 'subsample': 0.5088925577686053}. Best is trial 15 with value: 0.16140996875361088.\u001b[0m\n",
            "\u001b[32m[I 2023-02-23 09:34:59,298]\u001b[0m Trial 34 finished with value: 0.1623525167075903 and parameters: {'grow_policy': 'depthwise', 'learning_rate': 0.18466673215392546, 'max_depth': 12, 'reg_alpha': 6.840292148142147, 'reg_lambda': 7.59752485546334e-09, 'max_delta_step': 4, 'min_child_weight': 239, 'colsample_bytree': 0.7483058858204548, 'subsample': 0.5933854912945402}. Best is trial 15 with value: 0.16140996875361088.\u001b[0m\n",
            "\u001b[32m[I 2023-02-23 09:35:46,676]\u001b[0m Trial 35 finished with value: 0.16224543814296732 and parameters: {'grow_policy': 'depthwise', 'learning_rate': 0.16421775519720103, 'max_depth': 8, 'reg_alpha': 8.859926379721088, 'reg_lambda': 3.4955064435399242e-06, 'max_delta_step': 4, 'min_child_weight': 253, 'colsample_bytree': 0.6843696042268976, 'subsample': 0.5664242006774747}. Best is trial 15 with value: 0.16140996875361088.\u001b[0m\n",
            "\u001b[32m[I 2023-02-23 09:36:41,702]\u001b[0m Trial 36 finished with value: 0.1631978584817368 and parameters: {'grow_policy': 'depthwise', 'learning_rate': 0.12021152765552329, 'max_depth': 14, 'reg_alpha': 6.019859296037096, 'reg_lambda': 2.1299333699052956e-11, 'max_delta_step': 3, 'min_child_weight': 210, 'colsample_bytree': 0.7215907461927611, 'subsample': 0.492878337100123}. Best is trial 15 with value: 0.16140996875361088.\u001b[0m\n",
            "\u001b[32m[I 2023-02-23 09:37:39,528]\u001b[0m Trial 37 finished with value: 0.15978883636464322 and parameters: {'grow_policy': 'depthwise', 'learning_rate': 0.19900138825200483, 'max_depth': 16, 'reg_alpha': 5.093085195961041, 'reg_lambda': 0.19760304315719449, 'max_delta_step': 4, 'min_child_weight': 14, 'colsample_bytree': 0.4002083090352366, 'subsample': 0.5554661115167274}. Best is trial 37 with value: 0.15978883636464322.\u001b[0m\n",
            "\u001b[32m[I 2023-02-23 09:38:20,172]\u001b[0m Trial 38 finished with value: 0.16245251254551257 and parameters: {'grow_policy': 'lossguide', 'learning_rate': 0.19715939714820455, 'max_depth': 19, 'reg_alpha': 4.77166918898668, 'reg_lambda': 3.5347828395143766, 'max_delta_step': 2, 'min_child_weight': 8, 'colsample_bytree': 0.44148633075835747, 'subsample': 0.5989444955019102, 'max_leaves': 19}. Best is trial 37 with value: 0.15978883636464322.\u001b[0m\n",
            "\u001b[32m[I 2023-02-23 09:39:17,630]\u001b[0m Trial 39 finished with value: 0.16128543818070767 and parameters: {'grow_policy': 'depthwise', 'learning_rate': 0.15613871557354073, 'max_depth': 16, 'reg_alpha': 3.749563453947217, 'reg_lambda': 0.16098816815338307, 'max_delta_step': 5, 'min_child_weight': 52, 'colsample_bytree': 0.40432523929659603, 'subsample': 0.518518844911179}. Best is trial 37 with value: 0.15978883636464322.\u001b[0m\n",
            "\u001b[32m[I 2023-02-23 09:40:10,518]\u001b[0m Trial 40 finished with value: 0.16283908040905654 and parameters: {'grow_policy': 'depthwise', 'learning_rate': 0.07962323833032048, 'max_depth': 16, 'reg_alpha': 3.6245519257177334, 'reg_lambda': 0.6209291230340115, 'max_delta_step': 5, 'min_child_weight': 36, 'colsample_bytree': 0.40179518099331846, 'subsample': 0.48040432649734865}. Best is trial 37 with value: 0.15978883636464322.\u001b[0m\n",
            "\u001b[32m[I 2023-02-23 09:41:08,381]\u001b[0m Trial 41 finished with value: 0.16431729194247163 and parameters: {'grow_policy': 'depthwise', 'learning_rate': 0.14957879478636993, 'max_depth': 16, 'reg_alpha': 5.24020125557568, 'reg_lambda': 0.14407352221817019, 'max_delta_step': 3, 'min_child_weight': 16, 'colsample_bytree': 0.41907072083454505, 'subsample': 0.5213937682230609}. Best is trial 37 with value: 0.15978883636464322.\u001b[0m\n",
            "\u001b[32m[I 2023-02-23 09:42:06,246]\u001b[0m Trial 42 finished with value: 0.16176689189363658 and parameters: {'grow_policy': 'depthwise', 'learning_rate': 0.16187134099989464, 'max_depth': 17, 'reg_alpha': 4.633606948612234, 'reg_lambda': 0.03957027099137998, 'max_delta_step': 6, 'min_child_weight': 59, 'colsample_bytree': 0.44176550388461133, 'subsample': 0.4671684261643357}. Best is trial 37 with value: 0.15978883636464322.\u001b[0m\n",
            "\u001b[32m[I 2023-02-23 09:43:06,380]\u001b[0m Trial 43 finished with value: 0.16147971296295188 and parameters: {'grow_policy': 'depthwise', 'learning_rate': 0.15916391208929417, 'max_depth': 19, 'reg_alpha': 4.136111760973776, 'reg_lambda': 0.10309863340979517, 'max_delta_step': 6, 'min_child_weight': 52, 'colsample_bytree': 0.4469724101632317, 'subsample': 0.468378850035162}. Best is trial 37 with value: 0.15978883636464322.\u001b[0m\n",
            "\u001b[32m[I 2023-02-23 09:44:05,568]\u001b[0m Trial 44 finished with value: 0.16136645067502264 and parameters: {'grow_policy': 'depthwise', 'learning_rate': 0.12454811270557177, 'max_depth': 20, 'reg_alpha': 3.789182135564584, 'reg_lambda': 1.1885013988641056, 'max_delta_step': 7, 'min_child_weight': 56, 'colsample_bytree': 0.4257402534464789, 'subsample': 0.498101302335346}. Best is trial 37 with value: 0.15978883636464322.\u001b[0m\n",
            "\u001b[32m[I 2023-02-23 09:45:03,444]\u001b[0m Trial 45 finished with value: 0.1629572163854235 and parameters: {'grow_policy': 'depthwise', 'learning_rate': 0.10325309604555773, 'max_depth': 20, 'reg_alpha': 4.000423907524219, 'reg_lambda': 1.6548279485528166, 'max_delta_step': 7, 'min_child_weight': 54, 'colsample_bytree': 0.4193566386341319, 'subsample': 0.4936484197499829}. Best is trial 37 with value: 0.15978883636464322.\u001b[0m\n",
            "\u001b[32m[I 2023-02-23 09:46:04,335]\u001b[0m Trial 46 finished with value: 0.16035057113747175 and parameters: {'grow_policy': 'depthwise', 'learning_rate': 0.14945183689670846, 'max_depth': 19, 'reg_alpha': 3.3817637556048123, 'reg_lambda': 0.3608794880202867, 'max_delta_step': 8, 'min_child_weight': 25, 'colsample_bytree': 0.4829535777648244, 'subsample': 0.4638743622611251}. Best is trial 37 with value: 0.15978883636464322.\u001b[0m\n",
            "\u001b[32m[I 2023-02-23 09:47:09,126]\u001b[0m Trial 47 finished with value: 0.15990151827856625 and parameters: {'grow_policy': 'depthwise', 'learning_rate': 0.19761332496378592, 'max_depth': 19, 'reg_alpha': 3.3070111764261614, 'reg_lambda': 0.5384728120133024, 'max_delta_step': 8, 'min_child_weight': 22, 'colsample_bytree': 0.4657614798262275, 'subsample': 0.5042129908325887}. Best is trial 37 with value: 0.15978883636464322.\u001b[0m\n",
            "\u001b[32m[I 2023-02-23 09:48:13,311]\u001b[0m Trial 48 finished with value: 0.1612169157247687 and parameters: {'grow_policy': 'depthwise', 'learning_rate': 0.14915652817289973, 'max_depth': 19, 'reg_alpha': 3.1188759481052353, 'reg_lambda': 0.5482354483281875, 'max_delta_step': 8, 'min_child_weight': 18, 'colsample_bytree': 0.4697029370723256, 'subsample': 0.4912378300885141}. Best is trial 37 with value: 0.15978883636464322.\u001b[0m\n",
            "\u001b[32m[I 2023-02-23 09:49:14,668]\u001b[0m Trial 49 finished with value: 0.16028556402442917 and parameters: {'grow_policy': 'depthwise', 'learning_rate': 0.14417062244282136, 'max_depth': 19, 'reg_alpha': 2.9628285823911362, 'reg_lambda': 9.183777425364648, 'max_delta_step': 10, 'min_child_weight': 19, 'colsample_bytree': 0.4599090422056523, 'subsample': 0.44246579730177393}. Best is trial 37 with value: 0.15978883636464322.\u001b[0m\n"
          ]
        },
        {
          "name": "stdout",
          "output_type": "stream",
          "text": [
            "{'grow_policy': 'depthwise', 'learning_rate': 0.19900138825200483, 'max_depth': 16, 'reg_alpha': 5.093085195961041, 'reg_lambda': 0.19760304315719449, 'max_delta_step': 4, 'min_child_weight': 14, 'colsample_bytree': 0.4002083090352366, 'subsample': 0.5554661115167274}\n"
          ]
        }
      ],
      "source": [
        "N_split = 2\n",
        "kf = KFold(n_splits=N_split)\n",
        "\n",
        "def objective(trial):\n",
        "   \n",
        "    params = {\n",
        "            'objective': 'reg:squarederror',\n",
        "            'tree_method': 'hist',\n",
        "            'grow_policy' : trial.suggest_categorical ('grow_policy', ['lossguide','depthwise']),\n",
        "            'learning_rate':trial.suggest_loguniform('learning_rate', 0.01, 0.2),\n",
        "            'max_depth': trial.suggest_int('max_depth', 3, 20),\n",
        "            'reg_alpha': trial.suggest_loguniform('reg_alpha', 1, 10),\n",
        "            'reg_lambda': trial.suggest_loguniform('reg_lambda', 1e-15, 10.0),\n",
        "            'max_delta_step':trial.suggest_int('max_delta_step', 1, 10),\n",
        "            'min_child_weight': trial.suggest_int('min_child_weight', 1, 300),\n",
        "            'colsample_bytree':trial.suggest_loguniform('colsample_bytree', 0.4, 1.0),\n",
        "            'subsample': trial.suggest_loguniform('subsample', 0.4, 1.0),\n",
        "            'seed':42\n",
        "                }\n",
        "    if params['grow_policy'] == 'lossguide':\n",
        "        params['max_leaves'] = trial.suggest_int('max_leaves', 1, 100)   \n",
        "        \n",
        "        \n",
        "    score_list = []\n",
        "\n",
        "    for fold, (train_idx, val_idx) in enumerate(kf.split(train_X, train_Y)):\n",
        "        X_train = train_X.loc[train_idx][cols]\n",
        "        X_valid = train_X.iloc[val_idx][cols]\n",
        "        \n",
        "       \n",
        "        X_train_f = X_train\n",
        "        Y_train = train_Y.loc[train_idx].values\n",
        "\n",
        "        X_valid_f = X_valid\n",
        "        Y_valid = train_Y.loc[val_idx].values\n",
        "\n",
        "\n",
        "        model = xgb.XGBRegressor(**params) \n",
        "        model.fit(        \n",
        "                X_train_f,\n",
        "                Y_train,\n",
        "                eval_set =[( X_valid_f,Y_valid)],\n",
        "                verbose =0,\n",
        "                early_stopping_rounds = 100)\n",
        "\n",
        "        Y_valid_pred = model.predict(X_valid_f)\n",
        "        score = mean_absolute_error(Y_valid, Y_valid_pred)\n",
        "        score_list.append(score)\n",
        "    return sum(score_list) / len(score_list)\n",
        "\n",
        "try:\n",
        "    cols = cols.drop('取引価格（総額）_log')\n",
        "except:\n",
        "    pass\n",
        "xgb_study = optuna.create_study(direction='minimize')\n",
        "xgb_study.optimize(objective, n_trials=50)\n",
        "print(xgb_study.best_params)"
      ]
    },
    {
      "cell_type": "code",
      "execution_count": 34,
      "metadata": {
        "colab": {
          "base_uri": "https://localhost:8080/"
        },
        "id": "EqmqxY6XRM8_",
        "outputId": "5f7ea6ad-011d-409d-9727-77d281f286d7"
      },
      "outputs": [
        {
          "name": "stdout",
          "output_type": "stream",
          "text": [
            "[0]\tvalidation_0-rmse:5.94662\n",
            "Will train until validation_0-rmse hasn't improved in 100 rounds.\n",
            "[100]\tvalidation_0-rmse:0.141713\n",
            "[200]\tvalidation_0-rmse:0.136531\n",
            "[300]\tvalidation_0-rmse:0.135191\n",
            "[400]\tvalidation_0-rmse:0.134626\n",
            "[500]\tvalidation_0-rmse:0.134148\n",
            "[600]\tvalidation_0-rmse:0.133825\n",
            "[700]\tvalidation_0-rmse:0.133487\n",
            "[800]\tvalidation_0-rmse:0.13328\n",
            "[900]\tvalidation_0-rmse:0.133161\n",
            "[1000]\tvalidation_0-rmse:0.133067\n",
            "[1100]\tvalidation_0-rmse:0.132955\n",
            "[1200]\tvalidation_0-rmse:0.132839\n",
            "[1300]\tvalidation_0-rmse:0.132761\n",
            "[1400]\tvalidation_0-rmse:0.132676\n",
            "[1500]\tvalidation_0-rmse:0.132621\n",
            "[1600]\tvalidation_0-rmse:0.132575\n",
            "[1700]\tvalidation_0-rmse:0.132535\n",
            "[1800]\tvalidation_0-rmse:0.132521\n",
            "[1900]\tvalidation_0-rmse:0.1325\n",
            "[2000]\tvalidation_0-rmse:0.132451\n",
            "[2100]\tvalidation_0-rmse:0.132424\n",
            "Stopping. Best iteration:\n",
            "[2083]\tvalidation_0-rmse:0.132411\n",
            "\n"
          ]
        },
        {
          "data": {
            "text/plain": [
              "XGBRegressor(colsample_bytree=0.4002083090352366, grow_policy='depthwise',\n",
              "             learning_rate=0.19900138825200483, max_delta_step=4, max_depth=16,\n",
              "             min_child_weight=14, n_estimators=20000,\n",
              "             objective='reg:squarederror', reg_alpha=5.093085195961041,\n",
              "             reg_lambda=0.19760304315719449, seed=42,\n",
              "             subsample=0.5554661115167274)"
            ]
          },
          "execution_count": 34,
          "metadata": {},
          "output_type": "execute_result"
        }
      ],
      "source": [
        "xgb_best_params = xgb_study.best_params\n",
        "add_params = {\n",
        "        'objective': 'reg:squarederror',\n",
        "        'seed':42,\n",
        "        'n_estimators':20000\n",
        "        }\n",
        "xgb_best_params.update(add_params)\n",
        "\n",
        "X_train, X_eval, Y_train, Y_eval = train_test_split(train_X, train_Y, test_size=0.2, random_state=0)\n",
        "model_xgb = xgb.XGBRegressor(**xgb_best_params) \n",
        "model_xgb.fit(        \n",
        "        X_train,\n",
        "        Y_train,\n",
        "        eval_set =[( X_eval,Y_eval)],\n",
        "        verbose =100,\n",
        "        early_stopping_rounds = 100\n",
        ")\n",
        "\n"
      ]
    },
    {
      "cell_type": "code",
      "execution_count": 35,
      "metadata": {
        "colab": {
          "base_uri": "https://localhost:8080/"
        },
        "id": "n_AB1OcGTjKy",
        "outputId": "360ebfef-cd3c-4a8a-fa74-b04f85b9fa67"
      },
      "outputs": [
        {
          "name": "stderr",
          "output_type": "stream",
          "text": [
            "\u001b[32m[I 2023-02-23 10:33:30,874]\u001b[0m A new study created in memory with name: no-name-c9de7451-e4d2-410c-b4a2-b87fbe6b209e\u001b[0m\n",
            "\u001b[32m[I 2023-02-23 10:35:11,175]\u001b[0m Trial 0 finished with value: 0.16113438657192158 and parameters: {'learning_rate': 0.029609493754498138, 'depth': 2, 'l2_leaf_reg': 0.04266684502176806, 'random_strength': 3.0403786879938672, 'grow_policy': 'SymmetricTree', 'max_bin': 478, 'min_data_in_leaf': 83, 'bootstrap_type': 'Bernoulli', 'subsample': 0.738299981010807}. Best is trial 0 with value: 0.16113438657192158.\u001b[0m\n",
            "\u001b[32m[I 2023-02-23 10:40:12,837]\u001b[0m Trial 1 finished with value: 0.16085672690984065 and parameters: {'learning_rate': 0.018563366344460323, 'depth': 3, 'l2_leaf_reg': 4.8072337844118055e-06, 'random_strength': 4.231899423634257, 'grow_policy': 'SymmetricTree', 'max_bin': 497, 'min_data_in_leaf': 44, 'bootstrap_type': 'Bayesian', 'bagging_temperature': 7.0709860768508275}. Best is trial 1 with value: 0.16085672690984065.\u001b[0m\n",
            "\u001b[32m[I 2023-02-23 10:42:00,111]\u001b[0m Trial 2 finished with value: 0.21336221112771941 and parameters: {'learning_rate': 0.011835782467392409, 'depth': 1, 'l2_leaf_reg': 7.902312629558408e-05, 'random_strength': 25.629277498604598, 'grow_policy': 'SymmetricTree', 'max_bin': 23, 'min_data_in_leaf': 77, 'bootstrap_type': 'Bayesian', 'bagging_temperature': 7.451164417290485}. Best is trial 1 with value: 0.16085672690984065.\u001b[0m\n",
            "\u001b[32m[I 2023-02-23 10:43:27,909]\u001b[0m Trial 3 finished with value: 0.16793192330254975 and parameters: {'learning_rate': 0.07575585012818976, 'depth': 1, 'l2_leaf_reg': 0.6521778255524531, 'random_strength': 8.001117816495736, 'grow_policy': 'Lossguide', 'max_bin': 384, 'min_data_in_leaf': 4, 'bootstrap_type': 'Bernoulli', 'subsample': 0.5292475972145724}. Best is trial 1 with value: 0.16085672690984065.\u001b[0m\n",
            "\u001b[32m[I 2023-02-23 10:44:21,787]\u001b[0m Trial 4 finished with value: 0.15917010703814072 and parameters: {'learning_rate': 0.1981015844068464, 'depth': 11, 'l2_leaf_reg': 1.238858906323915e-07, 'random_strength': 5.66459543817408, 'grow_policy': 'SymmetricTree', 'max_bin': 480, 'min_data_in_leaf': 5, 'bootstrap_type': 'Bernoulli', 'subsample': 0.5261470958731694}. Best is trial 4 with value: 0.15917010703814072.\u001b[0m\n",
            "\u001b[32m[I 2023-02-23 10:50:30,262]\u001b[0m Trial 5 finished with value: 0.1602919393199121 and parameters: {'learning_rate': 0.019552364728717943, 'depth': 10, 'l2_leaf_reg': 2.8556597037728355e-06, 'random_strength': 6.885994763621713, 'grow_policy': 'Lossguide', 'max_bin': 331, 'min_data_in_leaf': 54, 'bootstrap_type': 'Bayesian', 'bagging_temperature': 3.3821728232387214}. Best is trial 4 with value: 0.15917010703814072.\u001b[0m\n",
            "\u001b[32m[I 2023-02-23 10:51:16,153]\u001b[0m Trial 6 finished with value: 0.1577723379987941 and parameters: {'learning_rate': 0.06626193507132029, 'depth': 9, 'l2_leaf_reg': 0.028255533494095087, 'random_strength': 15.429281859706641, 'grow_policy': 'SymmetricTree', 'max_bin': 246, 'min_data_in_leaf': 28, 'bootstrap_type': 'Bernoulli', 'subsample': 0.2558709929347448}. Best is trial 6 with value: 0.1577723379987941.\u001b[0m\n",
            "\u001b[32m[I 2023-02-23 10:56:43,739]\u001b[0m Trial 7 finished with value: 0.18798838784907093 and parameters: {'learning_rate': 0.020128812031817198, 'depth': 4, 'l2_leaf_reg': 3.719124340644746e-07, 'random_strength': 1.1294770741615645, 'grow_policy': 'Lossguide', 'max_bin': 36, 'min_data_in_leaf': 12, 'bootstrap_type': 'Bayesian', 'bagging_temperature': 2.862571009900119}. Best is trial 6 with value: 0.1577723379987941.\u001b[0m\n",
            "\u001b[32m[I 2023-02-23 10:59:18,888]\u001b[0m Trial 8 finished with value: 0.16283557905681456 and parameters: {'learning_rate': 0.12314233553823346, 'depth': 11, 'l2_leaf_reg': 0.00028443342492501814, 'random_strength': 2.6103798789852384, 'grow_policy': 'Lossguide', 'max_bin': 158, 'min_data_in_leaf': 90, 'bootstrap_type': 'Bernoulli', 'subsample': 0.9573647013617378}. Best is trial 6 with value: 0.1577723379987941.\u001b[0m\n",
            "\u001b[32m[I 2023-02-23 11:01:55,758]\u001b[0m Trial 9 finished with value: 0.16073210492014878 and parameters: {'learning_rate': 0.03625239379588781, 'depth': 6, 'l2_leaf_reg': 0.00010558877906160449, 'random_strength': 46.64770339879336, 'grow_policy': 'SymmetricTree', 'max_bin': 423, 'min_data_in_leaf': 77, 'bootstrap_type': 'Bayesian', 'bagging_temperature': 7.617786401905789}. Best is trial 6 with value: 0.1577723379987941.\u001b[0m\n",
            "\u001b[32m[I 2023-02-23 11:06:45,764]\u001b[0m Trial 10 finished with value: 0.1594580418389378 and parameters: {'learning_rate': 0.0791848439862351, 'depth': 15, 'l2_leaf_reg': 6.484238548937583, 'random_strength': 15.076492874896207, 'grow_policy': 'SymmetricTree', 'max_bin': 230, 'min_data_in_leaf': 30, 'bootstrap_type': 'Bernoulli', 'subsample': 0.11793791611807539}. Best is trial 6 with value: 0.1577723379987941.\u001b[0m\n",
            "\u001b[32m[I 2023-02-23 11:07:28,509]\u001b[0m Trial 11 finished with value: 0.16035204177717222 and parameters: {'learning_rate': 0.28265397663591424, 'depth': 12, 'l2_leaf_reg': 1.3322631542273695e-08, 'random_strength': 13.818743345279495, 'grow_policy': 'SymmetricTree', 'max_bin': 250, 'min_data_in_leaf': 22, 'bootstrap_type': 'Bernoulli', 'subsample': 0.33153550397029974}. Best is trial 6 with value: 0.1577723379987941.\u001b[0m\n",
            "\u001b[32m[I 2023-02-23 11:07:54,715]\u001b[0m Trial 12 finished with value: 0.16224414995329628 and parameters: {'learning_rate': 0.2075874520151658, 'depth': 7, 'l2_leaf_reg': 0.020046663038686297, 'random_strength': 9.404487779774676, 'grow_policy': 'SymmetricTree', 'max_bin': 144, 'min_data_in_leaf': 35, 'bootstrap_type': 'Bernoulli', 'subsample': 0.39971698580558507}. Best is trial 6 with value: 0.1577723379987941.\u001b[0m\n",
            "\u001b[32m[I 2023-02-23 11:08:23,523]\u001b[0m Trial 13 finished with value: 0.15969665401121452 and parameters: {'learning_rate': 0.12124347858067007, 'depth': 9, 'l2_leaf_reg': 0.0059054708374194536, 'random_strength': 21.499546410230007, 'grow_policy': 'SymmetricTree', 'max_bin': 312, 'min_data_in_leaf': 2, 'bootstrap_type': 'Bernoulli', 'subsample': 0.19642601655111755}. Best is trial 6 with value: 0.1577723379987941.\u001b[0m\n",
            "\u001b[32m[I 2023-02-23 11:13:59,254]\u001b[0m Trial 14 finished with value: 0.16043201791018197 and parameters: {'learning_rate': 0.05343650938638028, 'depth': 15, 'l2_leaf_reg': 0.0026355866431638907, 'random_strength': 5.394687886477202, 'grow_policy': 'SymmetricTree', 'max_bin': 179, 'min_data_in_leaf': 57, 'bootstrap_type': 'Bernoulli', 'subsample': 0.5404212163614932}. Best is trial 6 with value: 0.1577723379987941.\u001b[0m\n",
            "\u001b[32m[I 2023-02-23 11:15:08,118]\u001b[0m Trial 15 finished with value: 0.15919343469168007 and parameters: {'learning_rate': 0.16323736793245794, 'depth': 13, 'l2_leaf_reg': 1.0135756409981968e-08, 'random_strength': 11.184840321840188, 'grow_policy': 'SymmetricTree', 'max_bin': 327, 'min_data_in_leaf': 22, 'bootstrap_type': 'Bernoulli', 'subsample': 0.2848655909957378}. Best is trial 6 with value: 0.1577723379987941.\u001b[0m\n",
            "\u001b[32m[I 2023-02-23 11:15:41,300]\u001b[0m Trial 16 finished with value: 0.16017354611710324 and parameters: {'learning_rate': 0.1059067014770499, 'depth': 8, 'l2_leaf_reg': 0.24947015087751515, 'random_strength': 20.826082840942284, 'grow_policy': 'SymmetricTree', 'max_bin': 406, 'min_data_in_leaf': 16, 'bootstrap_type': 'Bernoulli', 'subsample': 0.42328862002545814}. Best is trial 6 with value: 0.1577723379987941.\u001b[0m\n",
            "\u001b[32m[I 2023-02-23 11:16:24,141]\u001b[0m Trial 17 finished with value: 0.1644719289225254 and parameters: {'learning_rate': 0.2591767472087673, 'depth': 6, 'l2_leaf_reg': 0.0022946756400404073, 'random_strength': 6.666281510350184, 'grow_policy': 'SymmetricTree', 'max_bin': 94, 'min_data_in_leaf': 38, 'bootstrap_type': 'Bernoulli', 'subsample': 0.6663470775440544}. Best is trial 6 with value: 0.1577723379987941.\u001b[0m\n",
            "\u001b[32m[I 2023-02-23 11:17:37,612]\u001b[0m Trial 18 finished with value: 0.1614098907266202 and parameters: {'learning_rate': 0.16885362117073802, 'depth': 13, 'l2_leaf_reg': 2.249596898702279e-05, 'random_strength': 11.193603982291817, 'grow_policy': 'Lossguide', 'max_bin': 213, 'min_data_in_leaf': 9, 'bootstrap_type': 'Bernoulli', 'subsample': 0.22547596161014022}. Best is trial 6 with value: 0.1577723379987941.\u001b[0m\n",
            "\u001b[32m[I 2023-02-23 11:19:09,420]\u001b[0m Trial 19 finished with value: 0.15867786231250025 and parameters: {'learning_rate': 0.05527828487204073, 'depth': 10, 'l2_leaf_reg': 0.0007105766671369976, 'random_strength': 37.64609127536534, 'grow_policy': 'SymmetricTree', 'max_bin': 286, 'min_data_in_leaf': 26, 'bootstrap_type': 'Bernoulli', 'subsample': 0.10968477563587498}. Best is trial 6 with value: 0.1577723379987941.\u001b[0m\n",
            "\u001b[32m[I 2023-02-23 11:19:59,509]\u001b[0m Trial 20 finished with value: 0.1596356998997184 and parameters: {'learning_rate': 0.052972869291302314, 'depth': 8, 'l2_leaf_reg': 0.0008223533124814342, 'random_strength': 46.400921821666365, 'grow_policy': 'SymmetricTree', 'max_bin': 287, 'min_data_in_leaf': 63, 'bootstrap_type': 'Bernoulli', 'subsample': 0.1120656046904762}. Best is trial 6 with value: 0.1577723379987941.\u001b[0m\n",
            "\u001b[32m[I 2023-02-23 11:21:11,073]\u001b[0m Trial 21 finished with value: 0.15757347691458923 and parameters: {'learning_rate': 0.07527235415018434, 'depth': 10, 'l2_leaf_reg': 0.0004270871984723693, 'random_strength': 30.448009279062408, 'grow_policy': 'SymmetricTree', 'max_bin': 442, 'min_data_in_leaf': 24, 'bootstrap_type': 'Bernoulli', 'subsample': 0.10419129654321016}. Best is trial 21 with value: 0.15757347691458923.\u001b[0m\n",
            "\u001b[32m[I 2023-02-23 11:22:02,625]\u001b[0m Trial 22 finished with value: 0.15836041534026152 and parameters: {'learning_rate': 0.07007758011337575, 'depth': 10, 'l2_leaf_reg': 0.0011614778217197308, 'random_strength': 32.59025419958549, 'grow_policy': 'SymmetricTree', 'max_bin': 368, 'min_data_in_leaf': 44, 'bootstrap_type': 'Bernoulli', 'subsample': 0.12106152492760403}. Best is trial 21 with value: 0.15757347691458923.\u001b[0m\n",
            "\u001b[32m[I 2023-02-23 11:22:47,863]\u001b[0m Trial 23 finished with value: 0.15877153146365197 and parameters: {'learning_rate': 0.07751991849499497, 'depth': 9, 'l2_leaf_reg': 0.01613992292638227, 'random_strength': 28.41658759930291, 'grow_policy': 'SymmetricTree', 'max_bin': 368, 'min_data_in_leaf': 42, 'bootstrap_type': 'Bernoulli', 'subsample': 0.21932971058604}. Best is trial 21 with value: 0.15757347691458923.\u001b[0m\n",
            "\u001b[32m[I 2023-02-23 11:23:12,845]\u001b[0m Trial 24 finished with value: 0.16151432797816845 and parameters: {'learning_rate': 0.09571316363831547, 'depth': 5, 'l2_leaf_reg': 0.06795990640808966, 'random_strength': 29.931493180297547, 'grow_policy': 'SymmetricTree', 'max_bin': 435, 'min_data_in_leaf': 65, 'bootstrap_type': 'Bernoulli', 'subsample': 0.197754337277934}. Best is trial 21 with value: 0.15757347691458923.\u001b[0m\n",
            "\u001b[32m[I 2023-02-23 11:23:58,733]\u001b[0m Trial 25 finished with value: 0.1579247796504641 and parameters: {'learning_rate': 0.06138026850971835, 'depth': 9, 'l2_leaf_reg': 0.007213330198446414, 'random_strength': 17.290000701453653, 'grow_policy': 'SymmetricTree', 'max_bin': 358, 'min_data_in_leaf': 32, 'bootstrap_type': 'Bernoulli', 'subsample': 0.2924779774694758}. Best is trial 21 with value: 0.15757347691458923.\u001b[0m\n",
            "\u001b[32m[I 2023-02-23 11:27:47,171]\u001b[0m Trial 26 finished with value: 0.16009884395423346 and parameters: {'learning_rate': 0.041812177453650776, 'depth': 7, 'l2_leaf_reg': 0.0044379948611590276, 'random_strength': 16.880087691789907, 'grow_policy': 'Lossguide', 'max_bin': 451, 'min_data_in_leaf': 32, 'bootstrap_type': 'Bayesian', 'bagging_temperature': 0.31488128390138037}. Best is trial 21 with value: 0.15757347691458923.\u001b[0m\n",
            "\u001b[32m[I 2023-02-23 11:29:33,070]\u001b[0m Trial 27 finished with value: 0.15858845739530178 and parameters: {'learning_rate': 0.06604610768650555, 'depth': 12, 'l2_leaf_reg': 0.16878487723076616, 'random_strength': 17.96433345460949, 'grow_policy': 'SymmetricTree', 'max_bin': 349, 'min_data_in_leaf': 19, 'bootstrap_type': 'Bernoulli', 'subsample': 0.3038434330399197}. Best is trial 21 with value: 0.15757347691458923.\u001b[0m\n",
            "\u001b[32m[I 2023-02-23 11:30:13,993]\u001b[0m Trial 28 finished with value: 0.15838898685885378 and parameters: {'learning_rate': 0.09187446613708572, 'depth': 9, 'l2_leaf_reg': 0.00804265539503956, 'random_strength': 23.39044521166972, 'grow_policy': 'SymmetricTree', 'max_bin': 282, 'min_data_in_leaf': 48, 'bootstrap_type': 'Bernoulli', 'subsample': 0.3576492085248496}. Best is trial 21 with value: 0.15757347691458923.\u001b[0m\n",
            "\u001b[32m[I 2023-02-23 11:31:16,304]\u001b[0m Trial 29 finished with value: 0.15863640677485158 and parameters: {'learning_rate': 0.04122832230693648, 'depth': 7, 'l2_leaf_reg': 0.04236118706086386, 'random_strength': 13.771209930227846, 'grow_policy': 'SymmetricTree', 'max_bin': 455, 'min_data_in_leaf': 27, 'bootstrap_type': 'Bernoulli', 'subsample': 0.2588344417718753}. Best is trial 21 with value: 0.15757347691458923.\u001b[0m\n",
            "\u001b[32m[I 2023-02-23 11:32:46,929]\u001b[0m Trial 30 finished with value: 0.1574333988162866 and parameters: {'learning_rate': 0.06004090803625044, 'depth': 11, 'l2_leaf_reg': 0.00022228667885428586, 'random_strength': 21.499504544320242, 'grow_policy': 'SymmetricTree', 'max_bin': 401, 'min_data_in_leaf': 36, 'bootstrap_type': 'Bernoulli', 'subsample': 0.19279653898070515}. Best is trial 30 with value: 0.1574333988162866.\u001b[0m\n",
            "\u001b[32m[I 2023-02-23 11:34:15,111]\u001b[0m Trial 31 finished with value: 0.15750051076668348 and parameters: {'learning_rate': 0.0578416579193689, 'depth': 11, 'l2_leaf_reg': 0.00023122986758214304, 'random_strength': 19.34343392615637, 'grow_policy': 'SymmetricTree', 'max_bin': 397, 'min_data_in_leaf': 38, 'bootstrap_type': 'Bernoulli', 'subsample': 0.18840730812429296}. Best is trial 30 with value: 0.1574333988162866.\u001b[0m\n",
            "\u001b[32m[I 2023-02-23 11:37:20,660]\u001b[0m Trial 32 finished with value: 0.1576777451018934 and parameters: {'learning_rate': 0.049344008050930685, 'depth': 13, 'l2_leaf_reg': 0.00037924222770458393, 'random_strength': 22.40338125382984, 'grow_policy': 'SymmetricTree', 'max_bin': 405, 'min_data_in_leaf': 38, 'bootstrap_type': 'Bernoulli', 'subsample': 0.17509396804065183}. Best is trial 30 with value: 0.1574333988162866.\u001b[0m\n",
            "\u001b[32m[I 2023-02-23 11:44:10,337]\u001b[0m Trial 33 finished with value: 0.15792329039372766 and parameters: {'learning_rate': 0.02990640969299946, 'depth': 14, 'l2_leaf_reg': 0.0002145530204156175, 'random_strength': 36.46986521894904, 'grow_policy': 'SymmetricTree', 'max_bin': 401, 'min_data_in_leaf': 39, 'bootstrap_type': 'Bernoulli', 'subsample': 0.17588814581471549}. Best is trial 30 with value: 0.1574333988162866.\u001b[0m\n",
            "\u001b[32m[I 2023-02-23 11:50:07,565]\u001b[0m Trial 34 finished with value: 0.16746489700657258 and parameters: {'learning_rate': 0.04748667430148718, 'depth': 12, 'l2_leaf_reg': 2.929130071308489e-05, 'random_strength': 26.180982188144895, 'grow_policy': 'SymmetricTree', 'max_bin': 480, 'min_data_in_leaf': 49, 'bootstrap_type': 'Bayesian', 'bagging_temperature': 9.684596011061455}. Best is trial 30 with value: 0.1574333988162866.\u001b[0m\n",
            "\u001b[32m[I 2023-02-23 11:52:03,021]\u001b[0m Trial 35 finished with value: 0.15778533734310052 and parameters: {'learning_rate': 0.033716989975655566, 'depth': 11, 'l2_leaf_reg': 0.0003033990310503947, 'random_strength': 22.360196779978327, 'grow_policy': 'SymmetricTree', 'max_bin': 393, 'min_data_in_leaf': 36, 'bootstrap_type': 'Bernoulli', 'subsample': 0.15388127335554647}. Best is trial 30 with value: 0.1574333988162866.\u001b[0m\n",
            "\u001b[32m[I 2023-02-23 11:54:52,557]\u001b[0m Trial 36 finished with value: 0.15757283869092487 and parameters: {'learning_rate': 0.04804944917696902, 'depth': 13, 'l2_leaf_reg': 5.553042370697379e-05, 'random_strength': 27.288155497035678, 'grow_policy': 'SymmetricTree', 'max_bin': 456, 'min_data_in_leaf': 45, 'bootstrap_type': 'Bernoulli', 'subsample': 0.1787939952094511}. Best is trial 30 with value: 0.1574333988162866.\u001b[0m\n",
            "\u001b[32m[I 2023-02-23 12:01:07,873]\u001b[0m Trial 37 finished with value: 0.15990448414623087 and parameters: {'learning_rate': 0.0269139674043807, 'depth': 14, 'l2_leaf_reg': 3.413917855550576e-05, 'random_strength': 36.421450489208084, 'grow_policy': 'Lossguide', 'max_bin': 493, 'min_data_in_leaf': 45, 'bootstrap_type': 'Bayesian', 'bagging_temperature': 0.0873972591537262}. Best is trial 30 with value: 0.1574333988162866.\u001b[0m\n",
            "\u001b[32m[I 2023-02-23 12:02:30,430]\u001b[0m Trial 38 finished with value: 0.15679264623882394 and parameters: {'learning_rate': 0.06039770392488426, 'depth': 11, 'l2_leaf_reg': 9.269664280536145e-06, 'random_strength': 29.181337109605444, 'grow_policy': 'SymmetricTree', 'max_bin': 460, 'min_data_in_leaf': 55, 'bootstrap_type': 'Bernoulli', 'subsample': 0.22603733499375386}. Best is trial 38 with value: 0.15679264623882394.\u001b[0m\n",
            "\u001b[32m[I 2023-02-23 12:05:01,466]\u001b[0m Trial 39 finished with value: 0.1623951429341096 and parameters: {'learning_rate': 0.041964067035432664, 'depth': 11, 'l2_leaf_reg': 5.3809572794675e-06, 'random_strength': 49.97852627278334, 'grow_policy': 'Lossguide', 'max_bin': 467, 'min_data_in_leaf': 56, 'bootstrap_type': 'Bernoulli', 'subsample': 0.22922292538238187}. Best is trial 38 with value: 0.15679264623882394.\u001b[0m\n",
            "\u001b[32m[I 2023-02-23 12:11:20,485]\u001b[0m Trial 40 finished with value: 0.16522677349961537 and parameters: {'learning_rate': 0.06049187779189278, 'depth': 14, 'l2_leaf_reg': 8.828778726248757e-06, 'random_strength': 24.052681073133787, 'grow_policy': 'SymmetricTree', 'max_bin': 425, 'min_data_in_leaf': 75, 'bootstrap_type': 'Bayesian', 'bagging_temperature': 5.105477614477489}. Best is trial 38 with value: 0.15679264623882394.\u001b[0m\n",
            "\u001b[32m[I 2023-02-23 12:12:35,436]\u001b[0m Trial 41 finished with value: 0.15867299439113625 and parameters: {'learning_rate': 0.07538321418251868, 'depth': 12, 'l2_leaf_reg': 7.426039496502077e-05, 'random_strength': 29.042779791617072, 'grow_policy': 'SymmetricTree', 'max_bin': 444, 'min_data_in_leaf': 100, 'bootstrap_type': 'Bernoulli', 'subsample': 0.15718032007751093}. Best is trial 38 with value: 0.15679264623882394.\u001b[0m\n",
            "\u001b[32m[I 2023-02-23 12:13:38,682]\u001b[0m Trial 42 finished with value: 0.15850589930980924 and parameters: {'learning_rate': 0.06162036819339167, 'depth': 10, 'l2_leaf_reg': 8.939959918184292e-05, 'random_strength': 31.318179511694407, 'grow_policy': 'SymmetricTree', 'max_bin': 497, 'min_data_in_leaf': 61, 'bootstrap_type': 'Bernoulli', 'subsample': 0.177291326254775}. Best is trial 38 with value: 0.15679264623882394.\u001b[0m\n",
            "\u001b[32m[I 2023-02-23 12:14:47,833]\u001b[0m Trial 43 finished with value: 0.15691856438143534 and parameters: {'learning_rate': 0.08776234513786706, 'depth': 11, 'l2_leaf_reg': 1.2751332460820266e-05, 'random_strength': 19.774236466039472, 'grow_policy': 'SymmetricTree', 'max_bin': 468, 'min_data_in_leaf': 52, 'bootstrap_type': 'Bernoulli', 'subsample': 0.2340385227047942}. Best is trial 38 with value: 0.15679264623882394.\u001b[0m\n",
            "\u001b[32m[I 2023-02-23 12:16:25,086]\u001b[0m Trial 44 finished with value: 0.15750396291316832 and parameters: {'learning_rate': 0.048980656631054824, 'depth': 11, 'l2_leaf_reg': 1.5708367628458655e-06, 'random_strength': 20.00174435383946, 'grow_policy': 'SymmetricTree', 'max_bin': 477, 'min_data_in_leaf': 52, 'bootstrap_type': 'Bernoulli', 'subsample': 0.2666281491070644}. Best is trial 38 with value: 0.15679264623882394.\u001b[0m\n",
            "\u001b[32m[I 2023-02-23 12:17:40,200]\u001b[0m Trial 45 finished with value: 0.15717417025328945 and parameters: {'learning_rate': 0.09457536646204166, 'depth': 11, 'l2_leaf_reg': 1.859971266688671e-06, 'random_strength': 19.678465177090363, 'grow_policy': 'SymmetricTree', 'max_bin': 475, 'min_data_in_leaf': 69, 'bootstrap_type': 'Bernoulli', 'subsample': 0.2804526258785342}. Best is trial 38 with value: 0.15679264623882394.\u001b[0m\n",
            "\u001b[32m[I 2023-02-23 12:18:38,899]\u001b[0m Trial 46 finished with value: 0.1566021092287883 and parameters: {'learning_rate': 0.08753341064976014, 'depth': 11, 'l2_leaf_reg': 1.9068048572740476e-06, 'random_strength': 18.765435183125554, 'grow_policy': 'SymmetricTree', 'max_bin': 383, 'min_data_in_leaf': 69, 'bootstrap_type': 'Bernoulli', 'subsample': 0.2557775026023472}. Best is trial 46 with value: 0.1566021092287883.\u001b[0m\n",
            "\u001b[32m[I 2023-02-23 12:19:51,202]\u001b[0m Trial 47 finished with value: 0.16246273113760631 and parameters: {'learning_rate': 0.08783937166217325, 'depth': 2, 'l2_leaf_reg': 1.196130321434611e-06, 'random_strength': 14.906503235914935, 'grow_policy': 'Lossguide', 'max_bin': 428, 'min_data_in_leaf': 69, 'bootstrap_type': 'Bernoulli', 'subsample': 0.3442841477224622}. Best is trial 46 with value: 0.1566021092287883.\u001b[0m\n",
            "\u001b[32m[I 2023-02-23 12:21:23,541]\u001b[0m Trial 48 finished with value: 0.17507615946886834 and parameters: {'learning_rate': 0.10631344385619228, 'depth': 12, 'l2_leaf_reg': 9.024115667714375e-06, 'random_strength': 12.820195567064319, 'grow_policy': 'SymmetricTree', 'max_bin': 498, 'min_data_in_leaf': 84, 'bootstrap_type': 'Bayesian', 'bagging_temperature': 9.799724030195549}. Best is trial 46 with value: 0.1566021092287883.\u001b[0m\n",
            "\u001b[32m[I 2023-02-23 12:22:14,738]\u001b[0m Trial 49 finished with value: 0.15821799682669596 and parameters: {'learning_rate': 0.12847201841572664, 'depth': 11, 'l2_leaf_reg': 4.368323244831901e-07, 'random_strength': 17.748401255925263, 'grow_policy': 'SymmetricTree', 'max_bin': 381, 'min_data_in_leaf': 70, 'bootstrap_type': 'Bernoulli', 'subsample': 0.26057801256265134}. Best is trial 46 with value: 0.1566021092287883.\u001b[0m\n"
          ]
        },
        {
          "name": "stdout",
          "output_type": "stream",
          "text": [
            "{'learning_rate': 0.08753341064976014, 'depth': 11, 'l2_leaf_reg': 1.9068048572740476e-06, 'random_strength': 18.765435183125554, 'grow_policy': 'SymmetricTree', 'max_bin': 383, 'min_data_in_leaf': 69, 'bootstrap_type': 'Bernoulli', 'subsample': 0.2557775026023472}\n"
          ]
        }
      ],
      "source": [
        "N_split = 2\n",
        "kf = KFold(n_splits=N_split)\n",
        "\n",
        "import optuna\n",
        "\n",
        "def objective(trial):\n",
        "    params = {\n",
        "                'iterations' : 10000,\n",
        "                'eval_metric': \"MAE\", \n",
        "                'use_best_model': True,\n",
        "                'random_seed' : 42,\n",
        "                'learning_rate' :trial.suggest_loguniform('learning_rate', 0.01, 0.3),\n",
        "                \"depth\": trial.suggest_int(\"depth\", 1, 15),\n",
        "                'l2_leaf_reg' :trial.suggest_loguniform('l2_leaf_reg', 1e-8, 20),\n",
        "                'random_strength' : trial.suggest_loguniform('random_strength', 1, 50),\n",
        "                'grow_policy':trial.suggest_categorical ('grow_policy', ['Lossguide','SymmetricTree']),\n",
        "                'max_bin': trial.suggest_int(\"max_bin\", 20, 500),\n",
        "                'min_data_in_leaf':trial.suggest_int('min_data_in_leaf', 1, 100),\n",
        "                \"bootstrap_type\": trial.suggest_categorical(\"bootstrap_type\", [\"Bayesian\", \"Bernoulli\"])\n",
        "            }\n",
        "    \n",
        "    if params['grow_policy'] == 'Lossguide':\n",
        "        params['max_leaves']:trial.suggest_int('max_leaves', 1, 100)\n",
        "    if params[\"bootstrap_type\"] == \"Bayesian\":\n",
        "        params[\"bagging_temperature\"] = trial.suggest_float(\"bagging_temperature\", 0, 10)\n",
        "    elif params[\"bootstrap_type\"] == \"Bernoulli\":\n",
        "        params[\"subsample\"] = trial.suggest_float(\"subsample\", 0.1, 1)\n",
        "        \n",
        "    score_list = []\n",
        "\n",
        "    for fold, (train_idx, val_idx) in enumerate(kf.split(train_X, train_Y)):\n",
        "        X_train = train_X.loc[train_idx][cols]\n",
        "        X_valid = train_X.iloc[val_idx][cols]\n",
        "        \n",
        "       \n",
        "        X_train_f = X_train\n",
        "        Y_train = train_Y.loc[train_idx].values\n",
        "\n",
        "        X_valid_f = X_valid\n",
        "        Y_valid = train_Y.loc[val_idx].values\n",
        "\n",
        "        model = CatBoostRegressor(**params) \n",
        "        model.fit(        \n",
        "                X_train_f,\n",
        "                Y_train,\n",
        "                eval_set =[( X_valid_f,Y_valid)],\n",
        "                verbose =0,\n",
        "                early_stopping_rounds = 100)\n",
        "\n",
        "        Y_valid_pred = model.predict(X_valid_f)\n",
        "        score = mean_absolute_error(Y_valid, Y_valid_pred)\n",
        "        score_list.append(score)\n",
        "    return sum(score_list) / len(score_list)\n",
        "\n",
        "try:\n",
        "    cols = cols.drop('取引価格（総額）_log')\n",
        "except:\n",
        "    pass\n",
        "cat_study = optuna.create_study(direction='minimize')\n",
        "cat_study.optimize(objective, n_trials=50)\n",
        "print(cat_study.best_params)   \n",
        "    "
      ]
    },
    {
      "cell_type": "code",
      "execution_count": 36,
      "metadata": {
        "colab": {
          "base_uri": "https://localhost:8080/"
        },
        "id": "YA0I0iQvVH3M",
        "outputId": "b833f328-4f1e-4eed-f7ce-2572b13dcf42"
      },
      "outputs": [
        {
          "name": "stdout",
          "output_type": "stream",
          "text": [
            "0:\tlearn: 0.2608564\ttest: 0.2609531\tbest: 0.2609531 (0)\ttotal: 108ms\tremaining: 35m 56s\n",
            "100:\tlearn: 0.1209960\ttest: 0.1213812\tbest: 0.1213812 (100)\ttotal: 12.5s\tremaining: 41m 6s\n",
            "200:\tlearn: 0.1082739\ttest: 0.1090483\tbest: 0.1090483 (200)\ttotal: 25s\tremaining: 41m 4s\n",
            "300:\tlearn: 0.0981614\ttest: 0.0992607\tbest: 0.0992607 (300)\ttotal: 37.9s\tremaining: 41m 17s\n",
            "400:\tlearn: 0.0937078\ttest: 0.0952989\tbest: 0.0952989 (400)\ttotal: 50.9s\tremaining: 41m 26s\n",
            "500:\tlearn: 0.0910535\ttest: 0.0932002\tbest: 0.0932002 (500)\ttotal: 1m 3s\tremaining: 41m 21s\n",
            "600:\tlearn: 0.0889354\ttest: 0.0916501\tbest: 0.0916501 (600)\ttotal: 1m 16s\tremaining: 41m 15s\n",
            "700:\tlearn: 0.0871990\ttest: 0.0905065\tbest: 0.0905065 (700)\ttotal: 1m 29s\tremaining: 41m 12s\n",
            "800:\tlearn: 0.0857446\ttest: 0.0896397\tbest: 0.0896397 (800)\ttotal: 1m 42s\tremaining: 41m 5s\n",
            "900:\tlearn: 0.0844411\ttest: 0.0889124\tbest: 0.0889124 (900)\ttotal: 1m 55s\tremaining: 40m 58s\n",
            "1000:\tlearn: 0.0833313\ttest: 0.0883960\tbest: 0.0883960 (1000)\ttotal: 2m 9s\tremaining: 40m 49s\n",
            "1100:\tlearn: 0.0822924\ttest: 0.0879071\tbest: 0.0879071 (1100)\ttotal: 2m 22s\tremaining: 40m 40s\n",
            "1200:\tlearn: 0.0813602\ttest: 0.0875650\tbest: 0.0875650 (1200)\ttotal: 2m 35s\tremaining: 40m 31s\n",
            "1300:\tlearn: 0.0804813\ttest: 0.0872332\tbest: 0.0872332 (1300)\ttotal: 2m 48s\tremaining: 40m 19s\n",
            "1400:\tlearn: 0.0796471\ttest: 0.0869663\tbest: 0.0869663 (1400)\ttotal: 3m 1s\tremaining: 40m 8s\n",
            "1500:\tlearn: 0.0788341\ttest: 0.0867132\tbest: 0.0867132 (1500)\ttotal: 3m 14s\tremaining: 39m 57s\n",
            "1600:\tlearn: 0.0781052\ttest: 0.0865173\tbest: 0.0865173 (1600)\ttotal: 3m 27s\tremaining: 39m 43s\n",
            "1700:\tlearn: 0.0773568\ttest: 0.0863253\tbest: 0.0863253 (1700)\ttotal: 3m 40s\tremaining: 39m 31s\n",
            "1800:\tlearn: 0.0766525\ttest: 0.0861671\tbest: 0.0861671 (1800)\ttotal: 3m 53s\tremaining: 39m 19s\n",
            "1900:\tlearn: 0.0760053\ttest: 0.0860166\tbest: 0.0860166 (1900)\ttotal: 4m 6s\tremaining: 39m 8s\n",
            "2000:\tlearn: 0.0753896\ttest: 0.0858754\tbest: 0.0858754 (2000)\ttotal: 4m 19s\tremaining: 38m 56s\n",
            "2100:\tlearn: 0.0747843\ttest: 0.0857659\tbest: 0.0857659 (2100)\ttotal: 4m 32s\tremaining: 38m 45s\n",
            "2200:\tlearn: 0.0742010\ttest: 0.0856582\tbest: 0.0856580 (2198)\ttotal: 4m 46s\tremaining: 38m 33s\n",
            "2300:\tlearn: 0.0736384\ttest: 0.0855417\tbest: 0.0855413 (2299)\ttotal: 4m 59s\tremaining: 38m 21s\n",
            "2400:\tlearn: 0.0730729\ttest: 0.0854425\tbest: 0.0854425 (2400)\ttotal: 5m 12s\tremaining: 38m 10s\n",
            "2500:\tlearn: 0.0725527\ttest: 0.0853430\tbest: 0.0853421 (2499)\ttotal: 5m 25s\tremaining: 37m 57s\n",
            "2600:\tlearn: 0.0720396\ttest: 0.0852684\tbest: 0.0852684 (2600)\ttotal: 5m 38s\tremaining: 37m 44s\n",
            "2700:\tlearn: 0.0715382\ttest: 0.0851934\tbest: 0.0851934 (2700)\ttotal: 5m 51s\tremaining: 37m 32s\n",
            "2800:\tlearn: 0.0710746\ttest: 0.0851533\tbest: 0.0851521 (2795)\ttotal: 6m 4s\tremaining: 37m 18s\n",
            "2900:\tlearn: 0.0706265\ttest: 0.0850871\tbest: 0.0850871 (2900)\ttotal: 6m 17s\tremaining: 37m 5s\n",
            "3000:\tlearn: 0.0701829\ttest: 0.0850325\tbest: 0.0850325 (3000)\ttotal: 6m 30s\tremaining: 36m 52s\n",
            "3100:\tlearn: 0.0697618\ttest: 0.0850031\tbest: 0.0850026 (3098)\ttotal: 6m 43s\tremaining: 36m 39s\n",
            "3200:\tlearn: 0.0693549\ttest: 0.0849796\tbest: 0.0849791 (3197)\ttotal: 6m 56s\tremaining: 36m 27s\n",
            "3300:\tlearn: 0.0689489\ttest: 0.0849484\tbest: 0.0849484 (3300)\ttotal: 7m 9s\tremaining: 36m 14s\n",
            "3400:\tlearn: 0.0685543\ttest: 0.0849082\tbest: 0.0849082 (3400)\ttotal: 7m 22s\tremaining: 36m 1s\n",
            "3500:\tlearn: 0.0681589\ttest: 0.0848857\tbest: 0.0848808 (3493)\ttotal: 7m 35s\tremaining: 35m 48s\n",
            "3600:\tlearn: 0.0677789\ttest: 0.0848492\tbest: 0.0848482 (3599)\ttotal: 7m 49s\tremaining: 35m 36s\n",
            "3700:\tlearn: 0.0673961\ttest: 0.0848425\tbest: 0.0848379 (3654)\ttotal: 8m 2s\tremaining: 35m 23s\n",
            "3800:\tlearn: 0.0670298\ttest: 0.0848321\tbest: 0.0848217 (3775)\ttotal: 8m 15s\tremaining: 35m 11s\n",
            "3900:\tlearn: 0.0666731\ttest: 0.0848059\tbest: 0.0848059 (3900)\ttotal: 8m 28s\tremaining: 34m 59s\n",
            "4000:\tlearn: 0.0663272\ttest: 0.0847997\tbest: 0.0847954 (3945)\ttotal: 8m 41s\tremaining: 34m 46s\n",
            "4100:\tlearn: 0.0659723\ttest: 0.0847899\tbest: 0.0847866 (4038)\ttotal: 8m 55s\tremaining: 34m 34s\n",
            "Stopped by overfitting detector  (100 iterations wait)\n",
            "\n",
            "bestTest = 0.08478660919\n",
            "bestIteration = 4038\n",
            "\n",
            "Shrink model to first 4039 iterations.\n"
          ]
        },
        {
          "data": {
            "text/plain": [
              "<catboost.core.CatBoostRegressor at 0x7f4f53448d90>"
            ]
          },
          "execution_count": 36,
          "metadata": {},
          "output_type": "execute_result"
        }
      ],
      "source": [
        "cat_best_params = cat_study.best_params\n",
        "add_params = {\n",
        "        'iterations' : 20000,\n",
        "        'eval_metric': \"MAE\", \n",
        "        'use_best_model': True,\n",
        "        'random_seed' : 42,\n",
        "        }\n",
        "cat_best_params.update(add_params)\n",
        "\n",
        "X_train, X_eval, Y_train, Y_eval = train_test_split(train_X, train_Y, test_size=0.2, random_state=0)\n",
        "model_cat = CatBoostRegressor(**cat_best_params) \n",
        "model_cat.fit(        \n",
        "        X_train,\n",
        "        Y_train,\n",
        "        eval_set =[( X_eval,Y_eval)],\n",
        "        verbose =100,\n",
        "        early_stopping_rounds = 100\n",
        ")\n"
      ]
    },
    {
      "cell_type": "code",
      "execution_count": 37,
      "metadata": {
        "colab": {
          "base_uri": "https://localhost:8080/",
          "height": 576
        },
        "id": "iML-ajN65gw1",
        "outputId": "30baae08-78bd-45c3-9fa0-a52a891657e6"
      },
      "outputs": [
        {
          "data": {
            "image/png": "[encoded data removed]",
            "text/plain": [
              "<Figure size 864x576 with 1 Axes>"
            ]
          },
          "metadata": {},
          "output_type": "display_data"
        }
      ],
      "source": [
        "lgb.plot_importance(model_lgb, figsize=(12,8), max_num_features=50, importance_type='gain')\n",
        "plt.tight_layout()\n",
        "plt.show()\n",
        "plt.close()"
      ]
    },
    {
      "cell_type": "code",
      "execution_count": 38,
      "metadata": {
        "id": "21nk9tM1WAb-"
      },
      "outputs": [],
      "source": [
        "y_lgb_pred = model_lgb.predict(test)\n",
        "y_xgb_pred = model_xgb.predict(test)\n",
        "y_cat_pred = model_cat.predict(test)"
      ]
    },
    {
      "cell_type": "code",
      "execution_count": 39,
      "metadata": {
        "colab": {
          "base_uri": "https://localhost:8080/",
          "height": 424
        },
        "id": "5sOyC-4u72GI",
        "outputId": "558f1980-395a-4a71-a3f8-84dea55c14f9"
      },
      "outputs": [
        {
          "data": {
            "text/html": [
              "\n",
              "  <div id=\"df-51ab72e6-cc2c-4345-bea8-969126198c4b\">\n",
              "    <div class=\"colab-df-container\">\n",
              "      <div>\n",
              "<style scoped>\n",
              "    .dataframe tbody tr th:only-of-type {\n",
              "        vertical-align: middle;\n",
              "    }\n",
              "\n",
              "    .dataframe tbody tr th {\n",
              "        vertical-align: top;\n",
              "    }\n",
              "\n",
              "    .dataframe thead th {\n",
              "        text-align: right;\n",
              "    }\n",
              "</style>\n",
              "<table border=\"1\" class=\"dataframe\">\n",
              "  <thead>\n",
              "    <tr style=\"text-align: right;\">\n",
              "      <th></th>\n",
              "      <th>ID</th>\n",
              "      <th>取引価格（総額）_log</th>\n",
              "    </tr>\n",
              "  </thead>\n",
              "  <tbody>\n",
              "    <tr>\n",
              "      <th>0</th>\n",
              "      <td>1000057</td>\n",
              "      <td>0</td>\n",
              "    </tr>\n",
              "    <tr>\n",
              "      <th>1</th>\n",
              "      <td>1000077</td>\n",
              "      <td>0</td>\n",
              "    </tr>\n",
              "    <tr>\n",
              "      <th>2</th>\n",
              "      <td>1000081</td>\n",
              "      <td>0</td>\n",
              "    </tr>\n",
              "    <tr>\n",
              "      <th>3</th>\n",
              "      <td>1000128</td>\n",
              "      <td>0</td>\n",
              "    </tr>\n",
              "    <tr>\n",
              "      <th>4</th>\n",
              "      <td>1000129</td>\n",
              "      <td>0</td>\n",
              "    </tr>\n",
              "    <tr>\n",
              "      <th>...</th>\n",
              "      <td>...</td>\n",
              "      <td>...</td>\n",
              "    </tr>\n",
              "    <tr>\n",
              "      <th>20529</th>\n",
              "      <td>47001654</td>\n",
              "      <td>0</td>\n",
              "    </tr>\n",
              "    <tr>\n",
              "      <th>20530</th>\n",
              "      <td>47001707</td>\n",
              "      <td>0</td>\n",
              "    </tr>\n",
              "    <tr>\n",
              "      <th>20531</th>\n",
              "      <td>47003198</td>\n",
              "      <td>0</td>\n",
              "    </tr>\n",
              "    <tr>\n",
              "      <th>20532</th>\n",
              "      <td>47005507</td>\n",
              "      <td>0</td>\n",
              "    </tr>\n",
              "    <tr>\n",
              "      <th>20533</th>\n",
              "      <td>47006089</td>\n",
              "      <td>0</td>\n",
              "    </tr>\n",
              "  </tbody>\n",
              "</table>\n",
              "<p>20534 rows × 2 columns</p>\n",
              "</div>\n",
              "      <button class=\"colab-df-convert\" onclick=\"convertToInteractive('df-51ab72e6-cc2c-4345-bea8-969126198c4b')\"\n",
              "              title=\"Convert this dataframe to an interactive table.\"\n",
              "              style=\"display:none;\">\n",
              "        \n",
              "  <svg xmlns=\"http://www.w3.org/2000/svg\" height=\"24px\"viewBox=\"0 0 24 24\"\n",
              "       width=\"24px\">\n",
              "    <path d=\"M0 0h24v24H0V0z\" fill=\"none\"/>\n",
              "    <path d=\"M18.56 5.44l.94 2.06.94-2.06 2.06-.94-2.06-.94-.94-2.06-.94 2.06-2.06.94zm-11 1L8.5 8.5l.94-2.06 2.06-.94-2.06-.94L8.5 2.5l-.94 2.06-2.06.94zm10 10l.94 2.06.94-2.06 2.06-.94-2.06-.94-.94-2.06-.94 2.06-2.06.94z\"/><path d=\"M17.41 7.96l-1.37-1.37c-.4-.4-.92-.59-1.43-.59-.52 0-1.04.2-1.43.59L10.3 9.45l-7.72 7.72c-.78.78-.78 2.05 0 2.83L4 21.41c.39.39.9.59 1.41.59.51 0 1.02-.2 1.41-.59l7.78-7.78 2.81-2.81c.8-.78.8-2.07 0-2.86zM5.41 20L4 18.59l7.72-7.72 1.47 1.35L5.41 20z\"/>\n",
              "  </svg>\n",
              "      </button>\n",
              "      \n",
              "  <style>\n",
              "    .colab-df-container {\n",
              "      display:flex;\n",
              "      flex-wrap:wrap;\n",
              "      gap: 12px;\n",
              "    }\n",
              "\n",
              "    .colab-df-convert {\n",
              "      background-color: #E8F0FE;\n",
              "      border: none;\n",
              "      border-radius: 50%;\n",
              "      cursor: pointer;\n",
              "      display: none;\n",
              "      fill: #1967D2;\n",
              "      height: 32px;\n",
              "      padding: 0 0 0 0;\n",
              "      width: 32px;\n",
              "    }\n",
              "\n",
              "    .colab-df-convert:hover {\n",
              "      background-color: #E2EBFA;\n",
              "      box-shadow: 0px 1px 2px rgba(60, 64, 67, 0.3), 0px 1px 3px 1px rgba(60, 64, 67, 0.15);\n",
              "      fill: #174EA6;\n",
              "    }\n",
              "\n",
              "    [theme=dark] .colab-df-convert {\n",
              "      background-color: #3B4455;\n",
              "      fill: #D2E3FC;\n",
              "    }\n",
              "\n",
              "    [theme=dark] .colab-df-convert:hover {\n",
              "      background-color: #434B5C;\n",
              "      box-shadow: 0px 1px 3px 1px rgba(0, 0, 0, 0.15);\n",
              "      filter: drop-shadow(0px 1px 2px rgba(0, 0, 0, 0.3));\n",
              "      fill: #FFFFFF;\n",
              "    }\n",
              "  </style>\n",
              "\n",
              "      <script>\n",
              "        const buttonEl =\n",
              "          document.querySelector('#df-51ab72e6-cc2c-4345-bea8-969126198c4b button.colab-df-convert');\n",
              "        buttonEl.style.display =\n",
              "          google.colab.kernel.accessAllowed ? 'block' : 'none';\n",
              "\n",
              "        async function convertToInteractive(key) {\n",
              "          const element = document.querySelector('#df-51ab72e6-cc2c-4345-bea8-969126198c4b');\n",
              "          const dataTable =\n",
              "            await google.colab.kernel.invokeFunction('convertToInteractive',\n",
              "                                                     [key], {});\n",
              "          if (!dataTable) return;\n",
              "\n",
              "          const docLinkHtml = 'Like what you see? Visit the ' +\n",
              "            '<a target=\"_blank\" href=https://colab.research.google.com/notebooks/data_table.ipynb>data table notebook</a>'\n",
              "            + ' to learn more about interactive tables.';\n",
              "          element.innerHTML = '';\n",
              "          dataTable['output_type'] = 'display_data';\n",
              "          await google.colab.output.renderOutput(dataTable, element);\n",
              "          const docLink = document.createElement('div');\n",
              "          docLink.innerHTML = docLinkHtml;\n",
              "          element.appendChild(docLink);\n",
              "        }\n",
              "      </script>\n",
              "    </div>\n",
              "  </div>\n",
              "  "
            ],
            "text/plain": [
              "             ID  取引価格（総額）_log\n",
              "0       1000057             0\n",
              "1       1000077             0\n",
              "2       1000081             0\n",
              "3       1000128             0\n",
              "4       1000129             0\n",
              "...         ...           ...\n",
              "20529  47001654             0\n",
              "20530  47001707             0\n",
              "20531  47003198             0\n",
              "20532  47005507             0\n",
              "20533  47006089             0\n",
              "\n",
              "[20534 rows x 2 columns]"
            ]
          },
          "execution_count": 39,
          "metadata": {},
          "output_type": "execute_result"
        }
      ],
      "source": [
        "sample = pd.read_csv(\"sample_submission.csv\")\n",
        "sample"
      ]
    },
    {
      "cell_type": "code",
      "execution_count": 40,
      "metadata": {
        "id": "ir1N_hdtWNmj"
      },
      "outputs": [],
      "source": [
        "sample[\"取引価格（総額）_log\"] = y_lgb_pred\n",
        "sample.to_csv('/content/test_submissionLGB.csv',index = False)"
      ]
    },
    {
      "cell_type": "code",
      "execution_count": 41,
      "metadata": {
        "id": "oBRLrliXAyCN"
      },
      "outputs": [],
      "source": [
        "sample[\"取引価格（総額）_log\"] = y_xgb_pred\n",
        "sample.to_csv('/content/test_submissionXGB.csv',index = False)"
      ]
    },
    {
      "cell_type": "code",
      "execution_count": 42,
      "metadata": {
        "id": "8mLTWHAtA_yD"
      },
      "outputs": [],
      "source": [
        "sample[\"取引価格（総額）_log\"] = y_cat_pred\n",
        "sample.to_csv('/content/test_submissionCAT.csv',index = False)"
      ]
    },
    {
      "cell_type": "code",
      "execution_count": null,
      "metadata": {
        "id": "UdjsZnzF81Ep"
      },
      "outputs": [],
      "source": []
    }
  ],
  "metadata": {
    "colab": {
      "provenance": []
    },
    "kernelspec": {
      "display_name": "Python 3",
      "language": "python",
      "name": "python3"
    },
    "language_info": {
      "name": "python",
      "version": "3.10.2"
    },
    "vscode": {
      "interpreter": {
        "hash": "c2ed1c1e3dda2d1d09010f3df351d528d97a393444344645f0fddd23da56b409"
      }
    }
  },
  "nbformat": 4,
  "nbformat_minor": 0
}
